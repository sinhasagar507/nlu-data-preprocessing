{
  "nbformat": 4,
  "nbformat_minor": 0,
  "metadata": {
    "colab": {
      "name": "1.0_reddit_data_migration.ipynb",
      "provenance": [],
      "collapsed_sections": [
        "uFH1f3j1mI5s",
        "OTOl4ba8ntYS"
      ]
    },
    "kernelspec": {
      "name": "python3",
      "display_name": "Python 3"
    },
    "language_info": {
      "name": "python"
    }
  },
  "cells": [
    {
      "cell_type": "code",
      "source": [
        "from google.colab import drive\n",
        "drive.mount('/content/drive')"
      ],
      "metadata": {
        "colab": {
          "base_uri": "https://localhost:8080/"
        },
        "id": "oFErfTPLfyyV",
        "outputId": "37dfdb03-95ed-4595-c3f3-97d56808aea4"
      },
      "execution_count": 1,
      "outputs": [
        {
          "output_type": "stream",
          "name": "stdout",
          "text": [
            "Mounted at /content/drive\n"
          ]
        }
      ]
    },
    {
      "cell_type": "code",
      "execution_count": 3,
      "metadata": {
        "id": "0bTP1Y58bZ3l"
      },
      "outputs": [],
      "source": [
        "import datetime \n",
        "import time \n",
        "import re \n",
        "import csv                        # Convert file to csv and save to local directory \n",
        "import json                       # JSON manipualtion\n",
        "import requests                   # Handles Pushshift HTTP requests \n",
        "import os \n",
        "import datetime \n",
        "\n",
        "import pandas as pd\n",
        "import requests            \n",
        "import json                    \n",
        "import csv                        \n",
        "import re\n",
        "import time\n",
        "import datetime"
      ]
    },
    {
      "cell_type": "code",
      "source": [
        "# Install base-36 \n",
        "!pip install base36 "
      ],
      "metadata": {
        "colab": {
          "base_uri": "https://localhost:8080/"
        },
        "id": "V_g193M57xfU",
        "outputId": "ad627122-d1ad-4028-edf6-d3f90620352c"
      },
      "execution_count": 4,
      "outputs": [
        {
          "output_type": "stream",
          "name": "stdout",
          "text": [
            "Looking in indexes: https://pypi.org/simple, https://us-python.pkg.dev/colab-wheels/public/simple/\n",
            "Collecting base36\n",
            "  Downloading base36-0.1.1-py2.py3-none-any.whl (3.5 kB)\n",
            "Installing collected packages: base36\n",
            "Successfully installed base36-0.1.1\n"
          ]
        }
      ]
    },
    {
      "cell_type": "code",
      "source": [
        "# Install PRAW and CONVOKIT \n",
        "!pip install praw \n",
        "!pip install convokit"
      ],
      "metadata": {
        "colab": {
          "base_uri": "https://localhost:8080/"
        },
        "id": "Znb7WQrERch8",
        "outputId": "d11a853b-07df-4cac-9095-bcd9949386b3"
      },
      "execution_count": 5,
      "outputs": [
        {
          "output_type": "stream",
          "name": "stdout",
          "text": [
            "Looking in indexes: https://pypi.org/simple, https://us-python.pkg.dev/colab-wheels/public/simple/\n",
            "Collecting praw\n",
            "  Downloading praw-7.6.0-py3-none-any.whl (188 kB)\n",
            "\u001b[K     |████████████████████████████████| 188 kB 5.1 MB/s \n",
            "\u001b[?25hCollecting websocket-client>=0.54.0\n",
            "  Downloading websocket_client-1.3.3-py3-none-any.whl (54 kB)\n",
            "\u001b[K     |████████████████████████████████| 54 kB 2.3 MB/s \n",
            "\u001b[?25hCollecting prawcore<3,>=2.1\n",
            "  Downloading prawcore-2.3.0-py3-none-any.whl (16 kB)\n",
            "Collecting update-checker>=0.18\n",
            "  Downloading update_checker-0.18.0-py3-none-any.whl (7.0 kB)\n",
            "Requirement already satisfied: requests<3.0,>=2.6.0 in /usr/local/lib/python3.7/dist-packages (from prawcore<3,>=2.1->praw) (2.23.0)\n",
            "Requirement already satisfied: certifi>=2017.4.17 in /usr/local/lib/python3.7/dist-packages (from requests<3.0,>=2.6.0->prawcore<3,>=2.1->praw) (2022.6.15)\n",
            "Requirement already satisfied: idna<3,>=2.5 in /usr/local/lib/python3.7/dist-packages (from requests<3.0,>=2.6.0->prawcore<3,>=2.1->praw) (2.10)\n",
            "Requirement already satisfied: urllib3!=1.25.0,!=1.25.1,<1.26,>=1.21.1 in /usr/local/lib/python3.7/dist-packages (from requests<3.0,>=2.6.0->prawcore<3,>=2.1->praw) (1.24.3)\n",
            "Requirement already satisfied: chardet<4,>=3.0.2 in /usr/local/lib/python3.7/dist-packages (from requests<3.0,>=2.6.0->prawcore<3,>=2.1->praw) (3.0.4)\n",
            "Installing collected packages: websocket-client, update-checker, prawcore, praw\n",
            "Successfully installed praw-7.6.0 prawcore-2.3.0 update-checker-0.18.0 websocket-client-1.3.3\n",
            "Looking in indexes: https://pypi.org/simple, https://us-python.pkg.dev/colab-wheels/public/simple/\n",
            "Collecting convokit\n",
            "  Downloading convokit-2.5.3.tar.gz (167 kB)\n",
            "\u001b[K     |████████████████████████████████| 167 kB 4.8 MB/s \n",
            "\u001b[?25hRequirement already satisfied: matplotlib>=3.0.0 in /usr/local/lib/python3.7/dist-packages (from convokit) (3.2.2)\n",
            "Requirement already satisfied: pandas>=0.23.4 in /usr/local/lib/python3.7/dist-packages (from convokit) (1.3.5)\n",
            "Collecting msgpack-numpy>=0.4.3.2\n",
            "  Downloading msgpack_numpy-0.4.8-py2.py3-none-any.whl (6.9 kB)\n",
            "Requirement already satisfied: spacy>=2.3.5 in /usr/local/lib/python3.7/dist-packages (from convokit) (3.4.1)\n",
            "Requirement already satisfied: scipy>=1.1.0 in /usr/local/lib/python3.7/dist-packages (from convokit) (1.7.3)\n",
            "Requirement already satisfied: scikit-learn>=0.20.0 in /usr/local/lib/python3.7/dist-packages (from convokit) (1.0.2)\n",
            "Requirement already satisfied: nltk>=3.4 in /usr/local/lib/python3.7/dist-packages (from convokit) (3.7)\n",
            "Requirement already satisfied: dill>=0.2.9 in /usr/local/lib/python3.7/dist-packages (from convokit) (0.3.5.1)\n",
            "Requirement already satisfied: joblib>=0.13.2 in /usr/local/lib/python3.7/dist-packages (from convokit) (1.1.0)\n",
            "Collecting clean-text>=0.1.1\n",
            "  Downloading clean_text-0.6.0-py3-none-any.whl (11 kB)\n",
            "Collecting unidecode>=1.1.1\n",
            "  Downloading Unidecode-1.3.4-py3-none-any.whl (235 kB)\n",
            "\u001b[K     |████████████████████████████████| 235 kB 37.3 MB/s \n",
            "\u001b[?25hCollecting emoji<2.0.0,>=1.0.0\n",
            "  Downloading emoji-1.7.0.tar.gz (175 kB)\n",
            "\u001b[K     |████████████████████████████████| 175 kB 43.0 MB/s \n",
            "\u001b[?25hCollecting ftfy<7.0,>=6.0\n",
            "  Downloading ftfy-6.1.1-py3-none-any.whl (53 kB)\n",
            "\u001b[K     |████████████████████████████████| 53 kB 1.8 MB/s \n",
            "\u001b[?25hRequirement already satisfied: wcwidth>=0.2.5 in /usr/local/lib/python3.7/dist-packages (from ftfy<7.0,>=6.0->clean-text>=0.1.1->convokit) (0.2.5)\n",
            "Requirement already satisfied: cycler>=0.10 in /usr/local/lib/python3.7/dist-packages (from matplotlib>=3.0.0->convokit) (0.11.0)\n",
            "Requirement already satisfied: numpy>=1.11 in /usr/local/lib/python3.7/dist-packages (from matplotlib>=3.0.0->convokit) (1.21.6)\n",
            "Requirement already satisfied: python-dateutil>=2.1 in /usr/local/lib/python3.7/dist-packages (from matplotlib>=3.0.0->convokit) (2.8.2)\n",
            "Requirement already satisfied: kiwisolver>=1.0.1 in /usr/local/lib/python3.7/dist-packages (from matplotlib>=3.0.0->convokit) (1.4.4)\n",
            "Requirement already satisfied: pyparsing!=2.0.4,!=2.1.2,!=2.1.6,>=2.0.1 in /usr/local/lib/python3.7/dist-packages (from matplotlib>=3.0.0->convokit) (3.0.9)\n",
            "Requirement already satisfied: typing-extensions in /usr/local/lib/python3.7/dist-packages (from kiwisolver>=1.0.1->matplotlib>=3.0.0->convokit) (4.1.1)\n",
            "Requirement already satisfied: msgpack>=0.5.2 in /usr/local/lib/python3.7/dist-packages (from msgpack-numpy>=0.4.3.2->convokit) (1.0.4)\n",
            "Requirement already satisfied: regex>=2021.8.3 in /usr/local/lib/python3.7/dist-packages (from nltk>=3.4->convokit) (2022.6.2)\n",
            "Requirement already satisfied: click in /usr/local/lib/python3.7/dist-packages (from nltk>=3.4->convokit) (7.1.2)\n",
            "Requirement already satisfied: tqdm in /usr/local/lib/python3.7/dist-packages (from nltk>=3.4->convokit) (4.64.0)\n",
            "Requirement already satisfied: pytz>=2017.3 in /usr/local/lib/python3.7/dist-packages (from pandas>=0.23.4->convokit) (2022.2.1)\n",
            "Requirement already satisfied: six>=1.5 in /usr/local/lib/python3.7/dist-packages (from python-dateutil>=2.1->matplotlib>=3.0.0->convokit) (1.15.0)\n",
            "Requirement already satisfied: threadpoolctl>=2.0.0 in /usr/local/lib/python3.7/dist-packages (from scikit-learn>=0.20.0->convokit) (3.1.0)\n",
            "Requirement already satisfied: wasabi<1.1.0,>=0.9.1 in /usr/local/lib/python3.7/dist-packages (from spacy>=2.3.5->convokit) (0.10.1)\n",
            "Requirement already satisfied: thinc<8.2.0,>=8.1.0 in /usr/local/lib/python3.7/dist-packages (from spacy>=2.3.5->convokit) (8.1.0)\n",
            "Requirement already satisfied: murmurhash<1.1.0,>=0.28.0 in /usr/local/lib/python3.7/dist-packages (from spacy>=2.3.5->convokit) (1.0.8)\n",
            "Requirement already satisfied: setuptools in /usr/local/lib/python3.7/dist-packages (from spacy>=2.3.5->convokit) (57.4.0)\n",
            "Requirement already satisfied: spacy-legacy<3.1.0,>=3.0.9 in /usr/local/lib/python3.7/dist-packages (from spacy>=2.3.5->convokit) (3.0.10)\n",
            "Requirement already satisfied: spacy-loggers<2.0.0,>=1.0.0 in /usr/local/lib/python3.7/dist-packages (from spacy>=2.3.5->convokit) (1.0.3)\n",
            "Requirement already satisfied: catalogue<2.1.0,>=2.0.6 in /usr/local/lib/python3.7/dist-packages (from spacy>=2.3.5->convokit) (2.0.8)\n",
            "Requirement already satisfied: typer<0.5.0,>=0.3.0 in /usr/local/lib/python3.7/dist-packages (from spacy>=2.3.5->convokit) (0.4.2)\n",
            "Requirement already satisfied: packaging>=20.0 in /usr/local/lib/python3.7/dist-packages (from spacy>=2.3.5->convokit) (21.3)\n",
            "Requirement already satisfied: cymem<2.1.0,>=2.0.2 in /usr/local/lib/python3.7/dist-packages (from spacy>=2.3.5->convokit) (2.0.6)\n",
            "Requirement already satisfied: jinja2 in /usr/local/lib/python3.7/dist-packages (from spacy>=2.3.5->convokit) (2.11.3)\n",
            "Requirement already satisfied: srsly<3.0.0,>=2.4.3 in /usr/local/lib/python3.7/dist-packages (from spacy>=2.3.5->convokit) (2.4.4)\n",
            "Requirement already satisfied: langcodes<4.0.0,>=3.2.0 in /usr/local/lib/python3.7/dist-packages (from spacy>=2.3.5->convokit) (3.3.0)\n",
            "Requirement already satisfied: pathy>=0.3.5 in /usr/local/lib/python3.7/dist-packages (from spacy>=2.3.5->convokit) (0.6.2)\n",
            "Requirement already satisfied: requests<3.0.0,>=2.13.0 in /usr/local/lib/python3.7/dist-packages (from spacy>=2.3.5->convokit) (2.23.0)\n",
            "Requirement already satisfied: preshed<3.1.0,>=3.0.2 in /usr/local/lib/python3.7/dist-packages (from spacy>=2.3.5->convokit) (3.0.7)\n",
            "Requirement already satisfied: pydantic!=1.8,!=1.8.1,<1.10.0,>=1.7.4 in /usr/local/lib/python3.7/dist-packages (from spacy>=2.3.5->convokit) (1.9.2)\n",
            "Requirement already satisfied: zipp>=0.5 in /usr/local/lib/python3.7/dist-packages (from catalogue<2.1.0,>=2.0.6->spacy>=2.3.5->convokit) (3.8.1)\n",
            "Requirement already satisfied: smart-open<6.0.0,>=5.2.1 in /usr/local/lib/python3.7/dist-packages (from pathy>=0.3.5->spacy>=2.3.5->convokit) (5.2.1)\n",
            "Requirement already satisfied: certifi>=2017.4.17 in /usr/local/lib/python3.7/dist-packages (from requests<3.0.0,>=2.13.0->spacy>=2.3.5->convokit) (2022.6.15)\n",
            "Requirement already satisfied: urllib3!=1.25.0,!=1.25.1,<1.26,>=1.21.1 in /usr/local/lib/python3.7/dist-packages (from requests<3.0.0,>=2.13.0->spacy>=2.3.5->convokit) (1.24.3)\n",
            "Requirement already satisfied: idna<3,>=2.5 in /usr/local/lib/python3.7/dist-packages (from requests<3.0.0,>=2.13.0->spacy>=2.3.5->convokit) (2.10)\n",
            "Requirement already satisfied: chardet<4,>=3.0.2 in /usr/local/lib/python3.7/dist-packages (from requests<3.0.0,>=2.13.0->spacy>=2.3.5->convokit) (3.0.4)\n",
            "Requirement already satisfied: blis<0.8.0,>=0.7.8 in /usr/local/lib/python3.7/dist-packages (from thinc<8.2.0,>=8.1.0->spacy>=2.3.5->convokit) (0.7.8)\n",
            "Requirement already satisfied: MarkupSafe>=0.23 in /usr/local/lib/python3.7/dist-packages (from jinja2->spacy>=2.3.5->convokit) (2.0.1)\n",
            "Building wheels for collected packages: convokit, emoji\n",
            "  Building wheel for convokit (setup.py) ... \u001b[?25l\u001b[?25hdone\n",
            "  Created wheel for convokit: filename=convokit-2.5.3-py3-none-any.whl size=204129 sha256=f08a4ffb7cde55326f5b9f4c51422df38fb966b492dc6de339d6bfc7c3ea41e9\n",
            "  Stored in directory: /root/.cache/pip/wheels/b0/e8/2d/81c4477fe586fe4dad2de2886b990e90e839ffccd5158ed0f3\n",
            "  Building wheel for emoji (setup.py) ... \u001b[?25l\u001b[?25hdone\n",
            "  Created wheel for emoji: filename=emoji-1.7.0-py3-none-any.whl size=171046 sha256=b980a0159bfc9f9a01cac2230021f8093f8d64a8dcc75c2c2baa5275204d1e88\n",
            "  Stored in directory: /root/.cache/pip/wheels/8a/4e/b6/57b01db010d17ef6ea9b40300af725ef3e210cb1acfb7ac8b6\n",
            "Successfully built convokit emoji\n",
            "Installing collected packages: ftfy, emoji, unidecode, msgpack-numpy, clean-text, convokit\n",
            "Successfully installed clean-text-0.6.0 convokit-2.5.3 emoji-1.7.0 ftfy-6.1.1 msgpack-numpy-0.4.8 unidecode-1.3.4\n"
          ]
        }
      ]
    },
    {
      "cell_type": "code",
      "source": [
        "!pip install tqdm"
      ],
      "metadata": {
        "colab": {
          "base_uri": "https://localhost:8080/"
        },
        "id": "xCfjRxmGz1x1",
        "outputId": "343fd1b0-d558-443f-db57-15ffb5df90db"
      },
      "execution_count": 6,
      "outputs": [
        {
          "output_type": "stream",
          "name": "stdout",
          "text": [
            "Looking in indexes: https://pypi.org/simple, https://us-python.pkg.dev/colab-wheels/public/simple/\n",
            "Requirement already satisfied: tqdm in /usr/local/lib/python3.7/dist-packages (4.64.0)\n"
          ]
        }
      ]
    },
    {
      "cell_type": "code",
      "source": [
        "from datetime import datetime\n",
        "import matplotlib.pyplot as plt  \n",
        "import praw\n",
        "from tqdm import tqdm\n",
        "import base36\n",
        "from convokit import Corpus, download"
      ],
      "metadata": {
        "id": "pUZiUZxHbpAd"
      },
      "execution_count": 7,
      "outputs": []
    },
    {
      "cell_type": "markdown",
      "source": [
        "## REFERENCES\n",
        "* The following reference has served as a guide for this task\n",
        "https://github.com/CornellNLP/ConvoKit/blob/master/examples/corpus_from_pandas.ipynb"
      ],
      "metadata": {
        "id": "ssGcnZ0PjXOB"
      }
    },
    {
      "cell_type": "code",
      "source": [
        "reddit = praw.Reddit(                                                           # Initializing the praw instance \n",
        "                     client_id = \"ZpfGWwr1U_CoS7Qyc6R4YA\",                          \n",
        "                     client_secret = \"gw-I0KmsINO14qjeuhnmCSp9kQtkAQ\", \n",
        "                     username = \"sinhasagar507\", \n",
        "                     passowrd = \"Maa@g110\", \n",
        "                     user_agent = \"personal use script\",\n",
        "                     check_for_async = False\n",
        ")"
      ],
      "metadata": {
        "id": "6ge0HqdMbpzV"
      },
      "execution_count": 8,
      "outputs": []
    },
    {
      "cell_type": "code",
      "source": [
        "# Building the reddit comment extraction using PSAW and performing extraction for specific IDs\n",
        "def get_PSAW_Comment_Data(comment_id) -> dict():\n",
        "    \"\"\"This function fetches comment metadata for each submission\"\"\"\n",
        "    \n",
        "    comment_endpoint = \"https://api.pushshift.io/reddit/comment/search?ids=\"+str(comment_id)\n",
        "    print(comment_endpoint)\n",
        "    r = requests.get(comment_endpoint)\n",
        "    data = json.loads(r.text)\n",
        "    return data[\"data\"]"
      ],
      "metadata": {
        "id": "S6Qq-VRSb3nG"
      },
      "execution_count": 9,
      "outputs": []
    },
    {
      "cell_type": "code",
      "source": [
        "def saveCommentIds(root_path): \n",
        "  \"\"\"This function saves list of comment IDs for each submission ID to file\"\"\"\n",
        "  print(\"Enter file name to save the submission Id and comment Ids\") \n",
        "  print(\"Don't forget to add the .txt extension. I repeat, add the .txt extension\")    \n",
        "  filename = input()\n",
        "  file_path = str(root_path) + filename\n",
        "\n",
        "  with open(file_path, \"a+\") as file:\n",
        "    for submission_id in submission_id_list[0: 300]:\n",
        "      file.write(str(submission_id) + \": \" + str(submissionid_commentid_map[submission_id]))\n",
        "      file.write(\"\\n\")"
      ],
      "metadata": {
        "id": "_uFdXbVwb7EU"
      },
      "execution_count": 24,
      "outputs": []
    },
    {
      "cell_type": "code",
      "source": [
        "# Method-1 - Slower \n",
        "def extractCommentIds1(submission_id):\n",
        "  \"\"\"This function extracts the list of reply IDs for each submission ID\"\"\"\n",
        "  \n",
        "  submission_comment_stats[str(submission_id)] = {}\n",
        "\n",
        "  sub = reddit.submission(id=str(submission_id))\n",
        "\n",
        "  sub.comments.replace_more(limit=None)\n",
        "  comment_queue = sub.comments[:]  # Seed with top-level\n",
        "\n",
        "  comment_ids = []\n",
        "  while comment_queue:\n",
        "    comment = comment_queue.pop(0)\n",
        "    if comment.id:   # To check if the comment is actually extracted \n",
        "      comment_conversation_ids[comment.id] = submission_id\n",
        "      comment_ids.append(comment.id)\n",
        "    comment_queue.extend(comment.replies)\n",
        "  submissionid_commentid_map[submission_id] = comment_ids\n",
        "\n",
        "# Method-2 - Faster and Efficient \n",
        "def extractCommentIds2(submission_id=\"7n2z26\"):\n",
        "  \"\"\"This function extracts the list of reply IDs for each submission ID\"\"\"\n",
        "\n",
        "  commentids_endpoint = \"https://api.pushshift.io/reddit/submission/comment_ids/\" + str(submission_id)\n",
        "  print(commentids_endpoint)\n",
        "  r = requests.get(commentids_endpoint)\n",
        "  data = json.loads(r.text)\n",
        "  submissionid_commentid_map[submission_id] = data[\"data\"]"
      ],
      "metadata": {
        "id": "7vS0cPajb9e7"
      },
      "execution_count": 11,
      "outputs": []
    },
    {
      "cell_type": "code",
      "source": [
        "# Fix the issue of \"None\" parent ID\n",
        "# Fix the issue of those reply_to IDs that are not in the index. Remove the entire tree following it. All instances for which \"reply_to\" is a particular ID"
      ],
      "metadata": {
        "id": "9_GXF3zR1sXM"
      },
      "execution_count": null,
      "outputs": []
    },
    {
      "cell_type": "code",
      "source": [
        "def extractCommentData(comment_id):   # Pass a save path to the function \n",
        "\n",
        "  \"\"\"This function extracts metadata for each comment_ID\"\"\"\n",
        "  \n",
        "  try:\n",
        "    comment_metadata = get_PSAW_Comment_Data(comment_id)\n",
        "  except:\n",
        "    time.sleep(5)\n",
        "    comment_metadata = get_PSAW_Comment_Data(comment_id)\n",
        "\n",
        "  comment_data = []\n",
        "\n",
        "  if comment_metadata != []:\n",
        "    comment = comment_metadata[0]\n",
        "    id = comment[\"id\"]\n",
        "    author = comment[\"author\"]\n",
        "    body = comment[\"body\"]\n",
        "    created_at = comment[\"created_utc\"]\n",
        "    permalink = comment[\"permalink\"]\n",
        "\n",
        "    try:\n",
        "      parent_id = comment[\"parent_id\"]\n",
        "\n",
        "    except:\n",
        "      parent_id = \"None\"\n",
        "\n",
        "    score = comment[\"score\"]\n",
        "    \n",
        "  # try:\n",
        "  #   link_id = comment_metadata[\"link_id\"]\n",
        "  # except:\n",
        "  #   link_id = \"None\"\n",
        "\n",
        "   \n",
        "  # subreddit = comment_metadata[\"subreddit\"]\n",
        "  # subreddit_id = comment_metadata[\"subreddit_id\"]\n",
        "\n",
        "    comment_data.append((author, body, created_at, permalink, parent_id, score))\n",
        "\n",
        "\n",
        "    submission_comment_stats[str(id)] = comment_data\n",
        "\n",
        "    # Open and write the "
      ],
      "metadata": {
        "id": "5jKcUZ-EcS4c"
      },
      "execution_count": 12,
      "outputs": []
    },
    {
      "cell_type": "code",
      "source": [
        "def retrieveCommentIdData(filepath):  \n",
        "  \"\"\" This function reads list of comment IDs for each submission in the corpus \"\"\"\n",
        "\n",
        "  # Save the current status of comment data to file if required \n",
        "  # Change the code in exception block after the directory has been read\n",
        "  # try:\n",
        "  #   INPUT_DIR = \"Something\"\n",
        "  #   filepath = INPUT_DIR\n",
        "  # except:\n",
        "  #   print(\"Path not found\")\n",
        "\n",
        "  with open(str(filepath), \"r+\") as submission_comment_map_file:\n",
        "    submission_comment_map_data = submission_comment_map_file.readlines()\n",
        "\n",
        "    for text in tqdm(submission_comment_map_data):\n",
        "      text = str(text)\n",
        "      submission_id_key = re.search(\"\\w+\\:\", text)\n",
        "      submission_id = text[submission_id_key.span()[0]: submission_id_key.span()[1]-1]\n",
        "      comment_id_text = text[9:-2]\n",
        "      comment_list  = comment_id_text.split(\", \")\n",
        "\n",
        "      # Open the file here. Rectify this tomorrow \n",
        "      for comment_id in comment_list:\n",
        "        comment_id = re.sub(\"'\", \"\", comment_id)\n",
        "        comment_conversation_ids[comment_id] = submission_id\n",
        "        all_comment_ids.append(comment_id)\n",
        "        extractCommentData(comment_id)    # Return instead of a global call - I mean I can have this code across two files. I can automate the stuff - just see \n"
      ],
      "metadata": {
        "id": "s6P4csOfcUJX"
      },
      "execution_count": 13,
      "outputs": []
    },
    {
      "cell_type": "code",
      "source": [
        "def readSubmissionIds(filepath):\n",
        "  \"\"\" This function stores the submission and its metadata \n",
        "  The data needs to be appended to existing dataframe of comments so as to enable conversation tree build within Convokit framework \n",
        "  \"\"\"\n",
        "  data = pd.read_csv(str(filepath))\n",
        "  data.columns = data.columns.str.replace(\" \", \"\")\n",
        "  data = data[data[\"num_comms\"] > 0]\n",
        "  \n",
        "  # data.drop([\"Unnamed: 0\", \"index\"], axis =1, inplace = True) # This step depends on the structure of your CSV. If I structure the CSV as having those column names as defined in submission dataframe, then creating the submission dataframe isn't exactly required. Step-2 can be skipped \n",
        "  # data = data.drop_duplicates()\n",
        "  \n",
        "  for idx in tqdm(data.index):\n",
        "    submission_id = data.loc[idx, \"post_id\"]\n",
        "    submission_id_list.append(submission_id)\n",
        "    speaker = data.loc[idx, \"speaker\"]\n",
        "    score = data.loc[idx, \"score\"] \n",
        "\n",
        "    timestamp = data.loc[idx, \"timestamp\"]\n",
        "    # timestamp = int(time.mktime(timestamp.timetuple()))\n",
        "    timestamp = int(time.mktime(datetime.strptime(timestamp, '%d-%m-%Y %H:%M').timetuple()))\n",
        "    num_comms = data.loc[idx, \"num_comms\"]\n",
        "    text = data.loc[idx, \"text\"]\n",
        "\n",
        "    submission_metadata[str(submission_id)] = [(speaker, timestamp, score, num_comms, text)]"
      ],
      "metadata": {
        "id": "6BpR21VvcZEV"
      },
      "execution_count": 14,
      "outputs": []
    },
    {
      "cell_type": "code",
      "source": [
        "# It runs the parent ID for each comment ID \n",
        "def parentId(id):\n",
        "  return str(reddit.comment(str(id)).parent_id)"
      ],
      "metadata": {
        "id": "pqrnigSfiWrc"
      },
      "execution_count": 15,
      "outputs": []
    },
    {
      "cell_type": "markdown",
      "source": [
        "## STEP-1\n",
        "* This action would fill submission_id_list and submission_metadata"
      ],
      "metadata": {
        "id": "JoiJndo6dR_r"
      }
    },
    {
      "cell_type": "code",
      "source": [
        "# Move all global variables to main function later on x`\n",
        "submissionid_commentid_map = {}    # Creates submission comment mapping for each submission ID in the corpus\n",
        "submission_comment_stats = {}      # Stores comment metadata for each comment ID in the corpus \n",
        "comment_conversation_ids = {}      # Stores conversation IDs for each comment in the corpus \n",
        "all_comment_ids = []               # Stores the list of all comment IDs in a given corpus \n",
        "submission_id_list = []            # Stores submission IDs for each corpus \n",
        "submission_metadata = {}           # Stores submission metadata for each submission in the corpus"
      ],
      "metadata": {
        "id": "G9o-8mA5Jl1R"
      },
      "execution_count": 20,
      "outputs": []
    },
    {
      "cell_type": "code",
      "source": [
        "data = pd.read_csv(\"/content/drive/MyDrive/CP/CP-Sem-8/Datasets/Reddit/Data/Reddit/HS and MA /PussyPass/subs_Pussypass_2021.csv\")\n",
        "data.rename(columns = {\"timestamp \": \"timestamp\"}, inplace = True)"
      ],
      "metadata": {
        "id": "jHNF08xobNEb"
      },
      "execution_count": 21,
      "outputs": []
    },
    {
      "cell_type": "code",
      "source": [
        "# Change the code in exception block after the directory has been read\n",
        "INPUT_DIR = \"/content/drive/MyDrive/CP/CP-Sem-8/Datasets/Reddit/Data/Reddit/HS and MA /PussyPass/\"\n",
        "filepath = \"/content/drive/MyDrive/CP/CP-Sem-8/Datasets/Reddit/Data/Reddit/HS and MA /PussyPass/subs_Pussypass_2021.csv\"\n",
        "readSubmissionIds(filepath)  "
      ],
      "metadata": {
        "id": "AoafMIotcbHV",
        "colab": {
          "base_uri": "https://localhost:8080/"
        },
        "outputId": "75099f8a-98c9-427a-b84d-52fbab91f6fe"
      },
      "execution_count": 22,
      "outputs": [
        {
          "output_type": "stream",
          "name": "stderr",
          "text": [
            "100%|██████████| 645/645 [00:00<00:00, 9226.27it/s]\n"
          ]
        }
      ]
    },
    {
      "cell_type": "markdown",
      "source": [
        "## STEP-2\n",
        "* This action would store all submission IDs and their corresponding metadata in a dataframe. It is formatted to append it with utterances dataframe while converting into Convokit format"
      ],
      "metadata": {
        "id": "Vjjq3AZfdckB"
      }
    },
    {
      "cell_type": "code",
      "source": [
        "submission_data_df = pd.DataFrame(index = submission_id_list[0: 300], columns = [\"speaker\", \"text\", \"reply_to\", \"timestamp\", \"score\", \"conversation_id\"])\n",
        "for submission_id in tqdm(submission_id_list[0: 300]):\n",
        "  submission_data_df.loc[submission_id, \"speaker\"] = submission_metadata[submission_id][0][0]\n",
        "  submission_data_df.loc[submission_id, \"text\"] = submission_metadata[submission_id][0][4]\n",
        "  submission_data_df.loc[submission_id, \"reply_to\"] = \"None\"\n",
        "  submission_data_df.loc[submission_id, \"timestamp\"] = submission_metadata[submission_id][0][1]\n",
        "  submission_data_df.loc[submission_id, \"score\"] = submission_metadata[submission_id][0][2]\n",
        "  submission_data_df.loc[submission_id, \"conversation_id\"] = submission_id\n",
        "\n",
        "submission_data_df = submission_data_df.drop_duplicates()"
      ],
      "metadata": {
        "id": "SdKwIF9YdFYW",
        "colab": {
          "base_uri": "https://localhost:8080/"
        },
        "outputId": "585cccf9-fcdd-4d17-ef4b-23f250bd7f04"
      },
      "execution_count": 23,
      "outputs": [
        {
          "output_type": "stream",
          "name": "stderr",
          "text": [
            "100%|██████████| 300/300 [00:00<00:00, 2336.80it/s]\n"
          ]
        }
      ]
    },
    {
      "cell_type": "markdown",
      "source": [
        "## STEP-3:\n",
        "*  This action stores all comment IDs for a particular submission ID. It would fill submissionid_commentid_map and comment_conversation_ids"
      ],
      "metadata": {
        "id": "nTxI_0Pbdljr"
      }
    },
    {
      "cell_type": "code",
      "source": [
        "for submission_id in tqdm(submission_id_list[0: 300]):\n",
        "  try:\n",
        "    extractCommentIds2(submission_id)\n",
        "  except:\n",
        "    time.sleep(5)\n",
        "    extractCommentIds2(submission_id)"
      ],
      "metadata": {
        "id": "lZGj8Ld-fUmK",
        "colab": {
          "base_uri": "https://localhost:8080/"
        },
        "outputId": "628a9718-b2c0-49a8-90fe-0ad9e2476fcb"
      },
      "execution_count": null,
      "outputs": [
        {
          "output_type": "stream",
          "name": "stderr",
          "text": [
            "\r  0%|          | 0/300 [00:00<?, ?it/s]"
          ]
        },
        {
          "output_type": "stream",
          "name": "stdout",
          "text": [
            "https://api.pushshift.io/reddit/submission/comment_ids/koa96t\n"
          ]
        },
        {
          "output_type": "stream",
          "name": "stderr",
          "text": [
            "\r  0%|          | 1/300 [00:04<22:59,  4.61s/it]"
          ]
        },
        {
          "output_type": "stream",
          "name": "stdout",
          "text": [
            "https://api.pushshift.io/reddit/submission/comment_ids/kobq8d\n"
          ]
        },
        {
          "output_type": "stream",
          "name": "stderr",
          "text": [
            "\r  1%|          | 2/300 [00:08<21:55,  4.41s/it]"
          ]
        },
        {
          "output_type": "stream",
          "name": "stdout",
          "text": [
            "https://api.pushshift.io/reddit/submission/comment_ids/kohm00\n"
          ]
        },
        {
          "output_type": "stream",
          "name": "stderr",
          "text": [
            "\r  1%|          | 3/300 [00:13<21:36,  4.36s/it]"
          ]
        },
        {
          "output_type": "stream",
          "name": "stdout",
          "text": [
            "https://api.pushshift.io/reddit/submission/comment_ids/koo9ek\n",
            "https://api.pushshift.io/reddit/submission/comment_ids/koo9ek\n"
          ]
        },
        {
          "output_type": "stream",
          "name": "stderr",
          "text": [
            "\r  1%|▏         | 4/300 [01:25<2:34:17, 31.28s/it]"
          ]
        },
        {
          "output_type": "stream",
          "name": "stdout",
          "text": [
            "https://api.pushshift.io/reddit/submission/comment_ids/kou17x\n",
            "https://api.pushshift.io/reddit/submission/comment_ids/kou17x\n"
          ]
        },
        {
          "output_type": "stream",
          "name": "stderr",
          "text": [
            "\r  2%|▏         | 5/300 [02:43<3:56:57, 48.19s/it]"
          ]
        },
        {
          "output_type": "stream",
          "name": "stdout",
          "text": [
            "https://api.pushshift.io/reddit/submission/comment_ids/kozmyw\n"
          ]
        },
        {
          "output_type": "stream",
          "name": "stderr",
          "text": [
            "\r  2%|▏         | 6/300 [02:50<2:46:53, 34.06s/it]"
          ]
        },
        {
          "output_type": "stream",
          "name": "stdout",
          "text": [
            "https://api.pushshift.io/reddit/submission/comment_ids/kp3e2m\n"
          ]
        },
        {
          "output_type": "stream",
          "name": "stderr",
          "text": [
            "\r  2%|▏         | 7/300 [02:53<1:56:16, 23.81s/it]"
          ]
        },
        {
          "output_type": "stream",
          "name": "stdout",
          "text": [
            "https://api.pushshift.io/reddit/submission/comment_ids/kp70df\n"
          ]
        },
        {
          "output_type": "stream",
          "name": "stderr",
          "text": [
            "\r  3%|▎         | 8/300 [02:56<1:23:57, 17.25s/it]"
          ]
        },
        {
          "output_type": "stream",
          "name": "stdout",
          "text": [
            "https://api.pushshift.io/reddit/submission/comment_ids/kp7txb\n"
          ]
        },
        {
          "output_type": "stream",
          "name": "stderr",
          "text": [
            "\r  3%|▎         | 9/300 [03:04<1:10:05, 14.45s/it]"
          ]
        },
        {
          "output_type": "stream",
          "name": "stdout",
          "text": [
            "https://api.pushshift.io/reddit/submission/comment_ids/kp9zbi\n"
          ]
        },
        {
          "output_type": "stream",
          "name": "stderr",
          "text": [
            "\r  3%|▎         | 10/300 [03:08<53:23, 11.05s/it] "
          ]
        },
        {
          "output_type": "stream",
          "name": "stdout",
          "text": [
            "https://api.pushshift.io/reddit/submission/comment_ids/kpbmcc\n"
          ]
        },
        {
          "output_type": "stream",
          "name": "stderr",
          "text": [
            "\r  4%|▎         | 11/300 [03:11<42:04,  8.73s/it]"
          ]
        },
        {
          "output_type": "stream",
          "name": "stdout",
          "text": [
            "https://api.pushshift.io/reddit/submission/comment_ids/kpf759\n"
          ]
        },
        {
          "output_type": "stream",
          "name": "stderr",
          "text": [
            "\r  4%|▍         | 12/300 [03:15<34:39,  7.22s/it]"
          ]
        },
        {
          "output_type": "stream",
          "name": "stdout",
          "text": [
            "https://api.pushshift.io/reddit/submission/comment_ids/kpx5aq\n"
          ]
        },
        {
          "output_type": "stream",
          "name": "stderr",
          "text": [
            "\r  4%|▍         | 13/300 [03:18<28:19,  5.92s/it]"
          ]
        },
        {
          "output_type": "stream",
          "name": "stdout",
          "text": [
            "https://api.pushshift.io/reddit/submission/comment_ids/kpxwqv\n"
          ]
        },
        {
          "output_type": "stream",
          "name": "stderr",
          "text": [
            "\r  5%|▍         | 14/300 [03:25<29:45,  6.24s/it]"
          ]
        },
        {
          "output_type": "stream",
          "name": "stdout",
          "text": [
            "https://api.pushshift.io/reddit/submission/comment_ids/kqcowh\n"
          ]
        },
        {
          "output_type": "stream",
          "name": "stderr",
          "text": [
            "\r  5%|▌         | 15/300 [03:29<25:58,  5.47s/it]"
          ]
        },
        {
          "output_type": "stream",
          "name": "stdout",
          "text": [
            "https://api.pushshift.io/reddit/submission/comment_ids/kqt86x\n"
          ]
        },
        {
          "output_type": "stream",
          "name": "stderr",
          "text": [
            "\r  5%|▌         | 16/300 [03:31<21:58,  4.64s/it]"
          ]
        },
        {
          "output_type": "stream",
          "name": "stdout",
          "text": [
            "https://api.pushshift.io/reddit/submission/comment_ids/kr624m\n"
          ]
        },
        {
          "output_type": "stream",
          "name": "stderr",
          "text": [
            "\r  6%|▌         | 17/300 [03:35<19:57,  4.23s/it]"
          ]
        },
        {
          "output_type": "stream",
          "name": "stdout",
          "text": [
            "https://api.pushshift.io/reddit/submission/comment_ids/kr7lm0\n"
          ]
        },
        {
          "output_type": "stream",
          "name": "stderr",
          "text": [
            "\r  6%|▌         | 18/300 [03:40<21:28,  4.57s/it]"
          ]
        },
        {
          "output_type": "stream",
          "name": "stdout",
          "text": [
            "https://api.pushshift.io/reddit/submission/comment_ids/kraygc\n"
          ]
        },
        {
          "output_type": "stream",
          "name": "stderr",
          "text": [
            "\r  6%|▋         | 19/300 [03:42<18:28,  3.94s/it]"
          ]
        },
        {
          "output_type": "stream",
          "name": "stdout",
          "text": [
            "https://api.pushshift.io/reddit/submission/comment_ids/kreb24\n"
          ]
        },
        {
          "output_type": "stream",
          "name": "stderr",
          "text": [
            "\r  7%|▋         | 20/300 [03:45<17:14,  3.70s/it]"
          ]
        },
        {
          "output_type": "stream",
          "name": "stdout",
          "text": [
            "https://api.pushshift.io/reddit/submission/comment_ids/krm9ou\n"
          ]
        },
        {
          "output_type": "stream",
          "name": "stderr",
          "text": [
            "\r  7%|▋         | 21/300 [03:48<15:58,  3.44s/it]"
          ]
        },
        {
          "output_type": "stream",
          "name": "stdout",
          "text": [
            "https://api.pushshift.io/reddit/submission/comment_ids/krpscj\n"
          ]
        },
        {
          "output_type": "stream",
          "name": "stderr",
          "text": [
            "\r  7%|▋         | 22/300 [03:52<16:08,  3.48s/it]"
          ]
        },
        {
          "output_type": "stream",
          "name": "stdout",
          "text": [
            "https://api.pushshift.io/reddit/submission/comment_ids/ksqc2m\n"
          ]
        },
        {
          "output_type": "stream",
          "name": "stderr",
          "text": [
            "\r  8%|▊         | 23/300 [03:55<15:54,  3.45s/it]"
          ]
        },
        {
          "output_type": "stream",
          "name": "stdout",
          "text": [
            "https://api.pushshift.io/reddit/submission/comment_ids/ksuc1f\n"
          ]
        },
        {
          "output_type": "stream",
          "name": "stderr",
          "text": [
            "\r  8%|▊         | 24/300 [04:00<17:16,  3.75s/it]"
          ]
        },
        {
          "output_type": "stream",
          "name": "stdout",
          "text": [
            "https://api.pushshift.io/reddit/submission/comment_ids/kt21ho\n"
          ]
        },
        {
          "output_type": "stream",
          "name": "stderr",
          "text": [
            "\r  8%|▊         | 25/300 [04:03<16:43,  3.65s/it]"
          ]
        },
        {
          "output_type": "stream",
          "name": "stdout",
          "text": [
            "https://api.pushshift.io/reddit/submission/comment_ids/kt892u\n"
          ]
        },
        {
          "output_type": "stream",
          "name": "stderr",
          "text": [
            "\r  9%|▊         | 26/300 [04:06<15:33,  3.41s/it]"
          ]
        },
        {
          "output_type": "stream",
          "name": "stdout",
          "text": [
            "https://api.pushshift.io/reddit/submission/comment_ids/kty0ma\n"
          ]
        },
        {
          "output_type": "stream",
          "name": "stderr",
          "text": [
            "\r  9%|▉         | 27/300 [04:10<15:46,  3.47s/it]"
          ]
        },
        {
          "output_type": "stream",
          "name": "stdout",
          "text": [
            "https://api.pushshift.io/reddit/submission/comment_ids/ktz87j\n"
          ]
        },
        {
          "output_type": "stream",
          "name": "stderr",
          "text": [
            "\r  9%|▉         | 28/300 [04:16<19:27,  4.29s/it]"
          ]
        },
        {
          "output_type": "stream",
          "name": "stdout",
          "text": [
            "https://api.pushshift.io/reddit/submission/comment_ids/ku28zk\n"
          ]
        },
        {
          "output_type": "stream",
          "name": "stderr",
          "text": [
            "\r 10%|▉         | 29/300 [04:19<17:31,  3.88s/it]"
          ]
        },
        {
          "output_type": "stream",
          "name": "stdout",
          "text": [
            "https://api.pushshift.io/reddit/submission/comment_ids/ku829k\n"
          ]
        },
        {
          "output_type": "stream",
          "name": "stderr",
          "text": [
            "\r 10%|█         | 30/300 [04:23<18:03,  4.01s/it]"
          ]
        },
        {
          "output_type": "stream",
          "name": "stdout",
          "text": [
            "https://api.pushshift.io/reddit/submission/comment_ids/kuoet9\n"
          ]
        },
        {
          "output_type": "stream",
          "name": "stderr",
          "text": [
            "\r 10%|█         | 31/300 [04:27<18:13,  4.07s/it]"
          ]
        },
        {
          "output_type": "stream",
          "name": "stdout",
          "text": [
            "https://api.pushshift.io/reddit/submission/comment_ids/kus5qa\n"
          ]
        },
        {
          "output_type": "stream",
          "name": "stderr",
          "text": [
            "\r 11%|█         | 32/300 [04:34<21:48,  4.88s/it]"
          ]
        },
        {
          "output_type": "stream",
          "name": "stdout",
          "text": [
            "https://api.pushshift.io/reddit/submission/comment_ids/kus67x\n"
          ]
        },
        {
          "output_type": "stream",
          "name": "stderr",
          "text": [
            "\r 11%|█         | 33/300 [04:37<19:09,  4.31s/it]"
          ]
        },
        {
          "output_type": "stream",
          "name": "stdout",
          "text": [
            "https://api.pushshift.io/reddit/submission/comment_ids/kv0lfu\n"
          ]
        },
        {
          "output_type": "stream",
          "name": "stderr",
          "text": [
            "\r 11%|█▏        | 34/300 [04:40<17:55,  4.04s/it]"
          ]
        },
        {
          "output_type": "stream",
          "name": "stdout",
          "text": [
            "https://api.pushshift.io/reddit/submission/comment_ids/kv35ut\n"
          ]
        },
        {
          "output_type": "stream",
          "name": "stderr",
          "text": [
            "\r 12%|█▏        | 35/300 [04:44<16:43,  3.79s/it]"
          ]
        },
        {
          "output_type": "stream",
          "name": "stdout",
          "text": [
            "https://api.pushshift.io/reddit/submission/comment_ids/kv8jv7\n"
          ]
        },
        {
          "output_type": "stream",
          "name": "stderr",
          "text": [
            "\r 12%|█▏        | 36/300 [04:46<15:19,  3.48s/it]"
          ]
        },
        {
          "output_type": "stream",
          "name": "stdout",
          "text": [
            "https://api.pushshift.io/reddit/submission/comment_ids/kvh3ew\n"
          ]
        },
        {
          "output_type": "stream",
          "name": "stderr",
          "text": [
            "\r 12%|█▏        | 37/300 [04:49<14:09,  3.23s/it]"
          ]
        },
        {
          "output_type": "stream",
          "name": "stdout",
          "text": [
            "https://api.pushshift.io/reddit/submission/comment_ids/kvk5uh\n"
          ]
        },
        {
          "output_type": "stream",
          "name": "stderr",
          "text": [
            "\r 13%|█▎        | 38/300 [04:51<12:59,  2.97s/it]"
          ]
        },
        {
          "output_type": "stream",
          "name": "stdout",
          "text": [
            "https://api.pushshift.io/reddit/submission/comment_ids/kvnsto\n"
          ]
        },
        {
          "output_type": "stream",
          "name": "stderr",
          "text": [
            "\r 13%|█▎        | 39/300 [04:54<11:52,  2.73s/it]"
          ]
        },
        {
          "output_type": "stream",
          "name": "stdout",
          "text": [
            "https://api.pushshift.io/reddit/submission/comment_ids/kvtkhq\n"
          ]
        },
        {
          "output_type": "stream",
          "name": "stderr",
          "text": [
            "\r 13%|█▎        | 40/300 [04:56<11:41,  2.70s/it]"
          ]
        },
        {
          "output_type": "stream",
          "name": "stdout",
          "text": [
            "https://api.pushshift.io/reddit/submission/comment_ids/kw0883\n"
          ]
        },
        {
          "output_type": "stream",
          "name": "stderr",
          "text": [
            "\r 14%|█▎        | 41/300 [04:59<11:50,  2.74s/it]"
          ]
        },
        {
          "output_type": "stream",
          "name": "stdout",
          "text": [
            "https://api.pushshift.io/reddit/submission/comment_ids/kw4zk8\n"
          ]
        },
        {
          "output_type": "stream",
          "name": "stderr",
          "text": [
            "\r 14%|█▍        | 42/300 [05:01<10:45,  2.50s/it]"
          ]
        },
        {
          "output_type": "stream",
          "name": "stdout",
          "text": [
            "https://api.pushshift.io/reddit/submission/comment_ids/kw5d0n\n"
          ]
        },
        {
          "output_type": "stream",
          "name": "stderr",
          "text": [
            "\r 14%|█▍        | 43/300 [05:03<10:04,  2.35s/it]"
          ]
        },
        {
          "output_type": "stream",
          "name": "stdout",
          "text": [
            "https://api.pushshift.io/reddit/submission/comment_ids/kwba2l\n"
          ]
        },
        {
          "output_type": "stream",
          "name": "stderr",
          "text": [
            "\r 15%|█▍        | 44/300 [05:05<10:02,  2.35s/it]"
          ]
        },
        {
          "output_type": "stream",
          "name": "stdout",
          "text": [
            "https://api.pushshift.io/reddit/submission/comment_ids/kx4srh\n"
          ]
        },
        {
          "output_type": "stream",
          "name": "stderr",
          "text": [
            "\r 15%|█▌        | 45/300 [05:08<10:38,  2.50s/it]"
          ]
        },
        {
          "output_type": "stream",
          "name": "stdout",
          "text": [
            "https://api.pushshift.io/reddit/submission/comment_ids/kxk2uq\n"
          ]
        },
        {
          "output_type": "stream",
          "name": "stderr",
          "text": [
            "\r 15%|█▌        | 46/300 [05:11<10:34,  2.50s/it]"
          ]
        },
        {
          "output_type": "stream",
          "name": "stdout",
          "text": [
            "https://api.pushshift.io/reddit/submission/comment_ids/kxk2vu\n"
          ]
        },
        {
          "output_type": "stream",
          "name": "stderr",
          "text": [
            "\r 16%|█▌        | 47/300 [05:13<10:31,  2.49s/it]"
          ]
        },
        {
          "output_type": "stream",
          "name": "stdout",
          "text": [
            "https://api.pushshift.io/reddit/submission/comment_ids/kxmk6t\n"
          ]
        },
        {
          "output_type": "stream",
          "name": "stderr",
          "text": [
            "\r 16%|█▌        | 48/300 [05:15<10:11,  2.43s/it]"
          ]
        },
        {
          "output_type": "stream",
          "name": "stdout",
          "text": [
            "https://api.pushshift.io/reddit/submission/comment_ids/kxp1ih\n"
          ]
        },
        {
          "output_type": "stream",
          "name": "stderr",
          "text": [
            "\r 16%|█▋        | 49/300 [05:18<10:56,  2.62s/it]"
          ]
        },
        {
          "output_type": "stream",
          "name": "stdout",
          "text": [
            "https://api.pushshift.io/reddit/submission/comment_ids/ky3i8x\n"
          ]
        },
        {
          "output_type": "stream",
          "name": "stderr",
          "text": [
            "\r 17%|█▋        | 50/300 [05:22<11:39,  2.80s/it]"
          ]
        },
        {
          "output_type": "stream",
          "name": "stdout",
          "text": [
            "https://api.pushshift.io/reddit/submission/comment_ids/ky3nj5\n"
          ]
        },
        {
          "output_type": "stream",
          "name": "stderr",
          "text": [
            "\r 17%|█▋        | 51/300 [05:28<16:31,  3.98s/it]"
          ]
        },
        {
          "output_type": "stream",
          "name": "stdout",
          "text": [
            "https://api.pushshift.io/reddit/submission/comment_ids/kydui8\n"
          ]
        },
        {
          "output_type": "stream",
          "name": "stderr",
          "text": [
            "\r 17%|█▋        | 52/300 [05:35<19:11,  4.64s/it]"
          ]
        },
        {
          "output_type": "stream",
          "name": "stdout",
          "text": [
            "https://api.pushshift.io/reddit/submission/comment_ids/kyf8qh\n"
          ]
        },
        {
          "output_type": "stream",
          "name": "stderr",
          "text": [
            "\r 18%|█▊        | 53/300 [05:39<18:42,  4.54s/it]"
          ]
        },
        {
          "output_type": "stream",
          "name": "stdout",
          "text": [
            "https://api.pushshift.io/reddit/submission/comment_ids/kyhav5\n"
          ]
        },
        {
          "output_type": "stream",
          "name": "stderr",
          "text": [
            "\r 18%|█▊        | 54/300 [05:42<16:27,  4.01s/it]"
          ]
        },
        {
          "output_type": "stream",
          "name": "stdout",
          "text": [
            "https://api.pushshift.io/reddit/submission/comment_ids/kyphy3\n"
          ]
        },
        {
          "output_type": "stream",
          "name": "stderr",
          "text": [
            "\r 18%|█▊        | 55/300 [05:52<23:52,  5.85s/it]"
          ]
        },
        {
          "output_type": "stream",
          "name": "stdout",
          "text": [
            "https://api.pushshift.io/reddit/submission/comment_ids/kyq0sh\n"
          ]
        },
        {
          "output_type": "stream",
          "name": "stderr",
          "text": [
            "\r 19%|█▊        | 56/300 [05:56<21:12,  5.22s/it]"
          ]
        },
        {
          "output_type": "stream",
          "name": "stdout",
          "text": [
            "https://api.pushshift.io/reddit/submission/comment_ids/kzqcl5\n"
          ]
        },
        {
          "output_type": "stream",
          "name": "stderr",
          "text": [
            "\r 19%|█▉        | 57/300 [05:59<18:38,  4.60s/it]"
          ]
        },
        {
          "output_type": "stream",
          "name": "stdout",
          "text": [
            "https://api.pushshift.io/reddit/submission/comment_ids/kztx3e\n"
          ]
        },
        {
          "output_type": "stream",
          "name": "stderr",
          "text": [
            "\r 19%|█▉        | 58/300 [06:01<15:21,  3.81s/it]"
          ]
        },
        {
          "output_type": "stream",
          "name": "stdout",
          "text": [
            "https://api.pushshift.io/reddit/submission/comment_ids/kzu25i\n"
          ]
        },
        {
          "output_type": "stream",
          "name": "stderr",
          "text": [
            "\r 20%|█▉        | 59/300 [06:05<15:21,  3.82s/it]"
          ]
        },
        {
          "output_type": "stream",
          "name": "stdout",
          "text": [
            "https://api.pushshift.io/reddit/submission/comment_ids/l06gb8\n"
          ]
        },
        {
          "output_type": "stream",
          "name": "stderr",
          "text": [
            "\r 20%|██        | 60/300 [06:07<13:57,  3.49s/it]"
          ]
        },
        {
          "output_type": "stream",
          "name": "stdout",
          "text": [
            "https://api.pushshift.io/reddit/submission/comment_ids/l0gsl9\n"
          ]
        },
        {
          "output_type": "stream",
          "name": "stderr",
          "text": [
            "\r 20%|██        | 61/300 [06:11<13:43,  3.45s/it]"
          ]
        },
        {
          "output_type": "stream",
          "name": "stdout",
          "text": [
            "https://api.pushshift.io/reddit/submission/comment_ids/l0iqn1\n"
          ]
        },
        {
          "output_type": "stream",
          "name": "stderr",
          "text": [
            "\r 21%|██        | 62/300 [06:15<15:22,  3.88s/it]"
          ]
        },
        {
          "output_type": "stream",
          "name": "stdout",
          "text": [
            "https://api.pushshift.io/reddit/submission/comment_ids/l0nfv6\n"
          ]
        },
        {
          "output_type": "stream",
          "name": "stderr",
          "text": [
            "\r 21%|██        | 63/300 [06:20<16:09,  4.09s/it]"
          ]
        },
        {
          "output_type": "stream",
          "name": "stdout",
          "text": [
            "https://api.pushshift.io/reddit/submission/comment_ids/l0r0sl\n"
          ]
        },
        {
          "output_type": "stream",
          "name": "stderr",
          "text": [
            "\r 21%|██▏       | 64/300 [06:25<17:29,  4.45s/it]"
          ]
        },
        {
          "output_type": "stream",
          "name": "stdout",
          "text": [
            "https://api.pushshift.io/reddit/submission/comment_ids/l14zcl\n"
          ]
        },
        {
          "output_type": "stream",
          "name": "stderr",
          "text": [
            "\r 22%|██▏       | 65/300 [06:29<16:54,  4.32s/it]"
          ]
        },
        {
          "output_type": "stream",
          "name": "stdout",
          "text": [
            "https://api.pushshift.io/reddit/submission/comment_ids/l1dut9\n"
          ]
        },
        {
          "output_type": "stream",
          "name": "stderr",
          "text": [
            "\r 22%|██▏       | 66/300 [06:32<15:04,  3.87s/it]"
          ]
        },
        {
          "output_type": "stream",
          "name": "stdout",
          "text": [
            "https://api.pushshift.io/reddit/submission/comment_ids/l1fp8s\n"
          ]
        },
        {
          "output_type": "stream",
          "name": "stderr",
          "text": [
            "\r 22%|██▏       | 67/300 [06:35<13:55,  3.59s/it]"
          ]
        },
        {
          "output_type": "stream",
          "name": "stdout",
          "text": [
            "https://api.pushshift.io/reddit/submission/comment_ids/l1plmi\n"
          ]
        },
        {
          "output_type": "stream",
          "name": "stderr",
          "text": [
            "\r 23%|██▎       | 68/300 [06:39<13:56,  3.60s/it]"
          ]
        },
        {
          "output_type": "stream",
          "name": "stdout",
          "text": [
            "https://api.pushshift.io/reddit/submission/comment_ids/l1umk1\n"
          ]
        },
        {
          "output_type": "stream",
          "name": "stderr",
          "text": [
            "\r 23%|██▎       | 69/300 [06:42<13:48,  3.59s/it]"
          ]
        },
        {
          "output_type": "stream",
          "name": "stdout",
          "text": [
            "https://api.pushshift.io/reddit/submission/comment_ids/l21nbr\n"
          ]
        },
        {
          "output_type": "stream",
          "name": "stderr",
          "text": [
            "\r 23%|██▎       | 70/300 [06:46<13:26,  3.51s/it]"
          ]
        },
        {
          "output_type": "stream",
          "name": "stdout",
          "text": [
            "https://api.pushshift.io/reddit/submission/comment_ids/l21p24\n"
          ]
        },
        {
          "output_type": "stream",
          "name": "stderr",
          "text": [
            "\r 24%|██▎       | 71/300 [06:48<12:21,  3.24s/it]"
          ]
        },
        {
          "output_type": "stream",
          "name": "stdout",
          "text": [
            "https://api.pushshift.io/reddit/submission/comment_ids/l2770s\n"
          ]
        },
        {
          "output_type": "stream",
          "name": "stderr",
          "text": [
            "\r 24%|██▍       | 72/300 [06:50<11:06,  2.92s/it]"
          ]
        },
        {
          "output_type": "stream",
          "name": "stdout",
          "text": [
            "https://api.pushshift.io/reddit/submission/comment_ids/l2s5rv\n"
          ]
        },
        {
          "output_type": "stream",
          "name": "stderr",
          "text": [
            "\r 24%|██▍       | 73/300 [06:53<10:42,  2.83s/it]"
          ]
        },
        {
          "output_type": "stream",
          "name": "stdout",
          "text": [
            "https://api.pushshift.io/reddit/submission/comment_ids/l2usg1\n"
          ]
        },
        {
          "output_type": "stream",
          "name": "stderr",
          "text": [
            "\r 25%|██▍       | 74/300 [06:56<11:03,  2.93s/it]"
          ]
        },
        {
          "output_type": "stream",
          "name": "stdout",
          "text": [
            "https://api.pushshift.io/reddit/submission/comment_ids/l2y4yd\n"
          ]
        },
        {
          "output_type": "stream",
          "name": "stderr",
          "text": [
            "\r 25%|██▌       | 75/300 [06:59<11:09,  2.97s/it]"
          ]
        },
        {
          "output_type": "stream",
          "name": "stdout",
          "text": [
            "https://api.pushshift.io/reddit/submission/comment_ids/l3b5aw\n"
          ]
        },
        {
          "output_type": "stream",
          "name": "stderr",
          "text": [
            "\r 25%|██▌       | 76/300 [07:03<11:29,  3.08s/it]"
          ]
        },
        {
          "output_type": "stream",
          "name": "stdout",
          "text": [
            "https://api.pushshift.io/reddit/submission/comment_ids/l3ccsj\n"
          ]
        },
        {
          "output_type": "stream",
          "name": "stderr",
          "text": [
            "\r 26%|██▌       | 77/300 [07:08<14:32,  3.91s/it]"
          ]
        },
        {
          "output_type": "stream",
          "name": "stdout",
          "text": [
            "https://api.pushshift.io/reddit/submission/comment_ids/l3deal\n"
          ]
        },
        {
          "output_type": "stream",
          "name": "stderr",
          "text": [
            "\r 26%|██▌       | 78/300 [07:17<19:53,  5.38s/it]"
          ]
        },
        {
          "output_type": "stream",
          "name": "stdout",
          "text": [
            "https://api.pushshift.io/reddit/submission/comment_ids/l4acr3\n"
          ]
        },
        {
          "output_type": "stream",
          "name": "stderr",
          "text": [
            "\r 26%|██▋       | 79/300 [07:21<17:34,  4.77s/it]"
          ]
        },
        {
          "output_type": "stream",
          "name": "stdout",
          "text": [
            "https://api.pushshift.io/reddit/submission/comment_ids/l4g42f\n"
          ]
        },
        {
          "output_type": "stream",
          "name": "stderr",
          "text": [
            "\r 27%|██▋       | 80/300 [07:24<15:25,  4.21s/it]"
          ]
        },
        {
          "output_type": "stream",
          "name": "stdout",
          "text": [
            "https://api.pushshift.io/reddit/submission/comment_ids/l6h1o7\n"
          ]
        },
        {
          "output_type": "stream",
          "name": "stderr",
          "text": [
            "\r 27%|██▋       | 81/300 [07:29<16:25,  4.50s/it]"
          ]
        },
        {
          "output_type": "stream",
          "name": "stdout",
          "text": [
            "https://api.pushshift.io/reddit/submission/comment_ids/l6t3tb\n"
          ]
        },
        {
          "output_type": "stream",
          "name": "stderr",
          "text": [
            "\r 27%|██▋       | 82/300 [07:32<15:29,  4.26s/it]"
          ]
        },
        {
          "output_type": "stream",
          "name": "stdout",
          "text": [
            "https://api.pushshift.io/reddit/submission/comment_ids/l6z5mc\n"
          ]
        },
        {
          "output_type": "stream",
          "name": "stderr",
          "text": [
            "\r 28%|██▊       | 83/300 [07:37<15:46,  4.36s/it]"
          ]
        },
        {
          "output_type": "stream",
          "name": "stdout",
          "text": [
            "https://api.pushshift.io/reddit/submission/comment_ids/l74ytl\n"
          ]
        },
        {
          "output_type": "stream",
          "name": "stderr",
          "text": [
            "\r 28%|██▊       | 84/300 [07:40<13:41,  3.80s/it]"
          ]
        },
        {
          "output_type": "stream",
          "name": "stdout",
          "text": [
            "https://api.pushshift.io/reddit/submission/comment_ids/l7q90e\n"
          ]
        },
        {
          "output_type": "stream",
          "name": "stderr",
          "text": [
            "\r 28%|██▊       | 85/300 [07:42<12:32,  3.50s/it]"
          ]
        },
        {
          "output_type": "stream",
          "name": "stdout",
          "text": [
            "https://api.pushshift.io/reddit/submission/comment_ids/l7zzuc\n"
          ]
        },
        {
          "output_type": "stream",
          "name": "stderr",
          "text": [
            "\r 29%|██▊       | 86/300 [07:46<12:39,  3.55s/it]"
          ]
        },
        {
          "output_type": "stream",
          "name": "stdout",
          "text": [
            "https://api.pushshift.io/reddit/submission/comment_ids/l8qfz4\n"
          ]
        },
        {
          "output_type": "stream",
          "name": "stderr",
          "text": [
            "\r 29%|██▉       | 87/300 [07:50<12:36,  3.55s/it]"
          ]
        },
        {
          "output_type": "stream",
          "name": "stdout",
          "text": [
            "https://api.pushshift.io/reddit/submission/comment_ids/l94jay\n"
          ]
        },
        {
          "output_type": "stream",
          "name": "stderr",
          "text": [
            "\r 29%|██▉       | 88/300 [07:53<12:41,  3.59s/it]"
          ]
        },
        {
          "output_type": "stream",
          "name": "stdout",
          "text": [
            "https://api.pushshift.io/reddit/submission/comment_ids/l9dd3g\n"
          ]
        },
        {
          "output_type": "stream",
          "name": "stderr",
          "text": [
            "\r 30%|██▉       | 89/300 [08:00<15:40,  4.46s/it]"
          ]
        },
        {
          "output_type": "stream",
          "name": "stdout",
          "text": [
            "https://api.pushshift.io/reddit/submission/comment_ids/l9ddod\n"
          ]
        },
        {
          "output_type": "stream",
          "name": "stderr",
          "text": [
            "\r 30%|███       | 90/300 [08:05<16:56,  4.84s/it]"
          ]
        },
        {
          "output_type": "stream",
          "name": "stdout",
          "text": [
            "https://api.pushshift.io/reddit/submission/comment_ids/l9h4kx\n"
          ]
        },
        {
          "output_type": "stream",
          "name": "stderr",
          "text": [
            "\r 30%|███       | 91/300 [08:09<15:34,  4.47s/it]"
          ]
        },
        {
          "output_type": "stream",
          "name": "stdout",
          "text": [
            "https://api.pushshift.io/reddit/submission/comment_ids/la7joh\n"
          ]
        },
        {
          "output_type": "stream",
          "name": "stderr",
          "text": [
            "\r 31%|███       | 92/300 [08:17<19:17,  5.57s/it]"
          ]
        },
        {
          "output_type": "stream",
          "name": "stdout",
          "text": [
            "https://api.pushshift.io/reddit/submission/comment_ids/lan63d\n"
          ]
        },
        {
          "output_type": "stream",
          "name": "stderr",
          "text": [
            "\r 31%|███       | 93/300 [08:21<17:32,  5.08s/it]"
          ]
        },
        {
          "output_type": "stream",
          "name": "stdout",
          "text": [
            "https://api.pushshift.io/reddit/submission/comment_ids/lari7u\n"
          ]
        },
        {
          "output_type": "stream",
          "name": "stderr",
          "text": [
            "\r 31%|███▏      | 94/300 [08:25<15:46,  4.60s/it]"
          ]
        },
        {
          "output_type": "stream",
          "name": "stdout",
          "text": [
            "https://api.pushshift.io/reddit/submission/comment_ids/larkzi\n"
          ]
        },
        {
          "output_type": "stream",
          "name": "stderr",
          "text": [
            "\r 32%|███▏      | 95/300 [08:30<16:27,  4.82s/it]"
          ]
        },
        {
          "output_type": "stream",
          "name": "stdout",
          "text": [
            "https://api.pushshift.io/reddit/submission/comment_ids/lasow2\n"
          ]
        },
        {
          "output_type": "stream",
          "name": "stderr",
          "text": [
            "\r 32%|███▏      | 96/300 [08:36<17:18,  5.09s/it]"
          ]
        },
        {
          "output_type": "stream",
          "name": "stdout",
          "text": [
            "https://api.pushshift.io/reddit/submission/comment_ids/latv5r\n"
          ]
        },
        {
          "output_type": "stream",
          "name": "stderr",
          "text": [
            "\r 32%|███▏      | 97/300 [08:40<16:06,  4.76s/it]"
          ]
        },
        {
          "output_type": "stream",
          "name": "stdout",
          "text": [
            "https://api.pushshift.io/reddit/submission/comment_ids/latvi2\n"
          ]
        },
        {
          "output_type": "stream",
          "name": "stderr",
          "text": [
            "\r 33%|███▎      | 98/300 [08:46<17:52,  5.31s/it]"
          ]
        },
        {
          "output_type": "stream",
          "name": "stdout",
          "text": [
            "https://api.pushshift.io/reddit/submission/comment_ids/lavm15\n"
          ]
        }
      ]
    },
    {
      "cell_type": "markdown",
      "source": [
        "## STEP-4:\n",
        "* This action would store all submission IDs along with their comment IDs to a file "
      ],
      "metadata": {
        "id": "xA231_I2f2kz"
      }
    },
    {
      "cell_type": "code",
      "source": [
        "try:\n",
        "  root_path = \"/content/drive/MyDrive/CP/CP-Sem-8/Datasets/ProcessedData/ProcessedSubsCommentIds/Hate-Speech /PussyPass/\"   \n",
        "  root_path_1 = \"/content/sample_data/\"\n",
        "  saveCommentIds(root_path_1)\n",
        "except Exception as e:\n",
        "  print(e)"
      ],
      "metadata": {
        "id": "3EQt13GUfy2S",
        "colab": {
          "base_uri": "https://localhost:8080/",
          "height": 415
        },
        "outputId": "10e02c84-5073-412a-aa86-0c7e2978c99a"
      },
      "execution_count": 25,
      "outputs": [
        {
          "output_type": "stream",
          "name": "stdout",
          "text": [
            "Enter file name to save the submission Id and comment Ids\n",
            "Don't forget to add the .txt extension. I repeat, add the .txt extension\n"
          ]
        },
        {
          "output_type": "error",
          "ename": "KeyboardInterrupt",
          "evalue": "ignored",
          "traceback": [
            "\u001b[0;31m---------------------------------------------------------------------------\u001b[0m",
            "\u001b[0;31mKeyboardInterrupt\u001b[0m                         Traceback (most recent call last)",
            "\u001b[0;32m<ipython-input-25-11a28aa00652>\u001b[0m in \u001b[0;36m<module>\u001b[0;34m\u001b[0m\n\u001b[1;32m      2\u001b[0m   \u001b[0mroot_path\u001b[0m \u001b[0;34m=\u001b[0m \u001b[0;34m\"/content/drive/MyDrive/CP/CP-Sem-8/Datasets/ProcessedData/ProcessedSubsCommentIds/Hate-Speech /PussyPass/\"\u001b[0m\u001b[0;34m\u001b[0m\u001b[0;34m\u001b[0m\u001b[0m\n\u001b[1;32m      3\u001b[0m   \u001b[0mroot_path_1\u001b[0m \u001b[0;34m=\u001b[0m \u001b[0;34m\"/content/sample_data/\"\u001b[0m\u001b[0;34m\u001b[0m\u001b[0;34m\u001b[0m\u001b[0m\n\u001b[0;32m----> 4\u001b[0;31m   \u001b[0msaveCommentIds\u001b[0m\u001b[0;34m(\u001b[0m\u001b[0mroot_path_1\u001b[0m\u001b[0;34m)\u001b[0m\u001b[0;34m\u001b[0m\u001b[0;34m\u001b[0m\u001b[0m\n\u001b[0m\u001b[1;32m      5\u001b[0m \u001b[0;32mexcept\u001b[0m \u001b[0mException\u001b[0m \u001b[0;32mas\u001b[0m \u001b[0me\u001b[0m\u001b[0;34m:\u001b[0m\u001b[0;34m\u001b[0m\u001b[0;34m\u001b[0m\u001b[0m\n\u001b[1;32m      6\u001b[0m   \u001b[0mprint\u001b[0m\u001b[0;34m(\u001b[0m\u001b[0me\u001b[0m\u001b[0;34m)\u001b[0m\u001b[0;34m\u001b[0m\u001b[0;34m\u001b[0m\u001b[0m\n",
            "\u001b[0;32m<ipython-input-24-0de077cedb9c>\u001b[0m in \u001b[0;36msaveCommentIds\u001b[0;34m(root_path)\u001b[0m\n\u001b[1;32m      3\u001b[0m   \u001b[0mprint\u001b[0m\u001b[0;34m(\u001b[0m\u001b[0;34m\"Enter file name to save the submission Id and comment Ids\"\u001b[0m\u001b[0;34m)\u001b[0m\u001b[0;34m\u001b[0m\u001b[0;34m\u001b[0m\u001b[0m\n\u001b[1;32m      4\u001b[0m   \u001b[0mprint\u001b[0m\u001b[0;34m(\u001b[0m\u001b[0;34m\"Don't forget to add the .txt extension. I repeat, add the .txt extension\"\u001b[0m\u001b[0;34m)\u001b[0m\u001b[0;34m\u001b[0m\u001b[0;34m\u001b[0m\u001b[0m\n\u001b[0;32m----> 5\u001b[0;31m   \u001b[0mfilename\u001b[0m \u001b[0;34m=\u001b[0m \u001b[0minput\u001b[0m\u001b[0;34m(\u001b[0m\u001b[0;34m)\u001b[0m\u001b[0;34m\u001b[0m\u001b[0;34m\u001b[0m\u001b[0m\n\u001b[0m\u001b[1;32m      6\u001b[0m   \u001b[0mfile_path\u001b[0m \u001b[0;34m=\u001b[0m \u001b[0mstr\u001b[0m\u001b[0;34m(\u001b[0m\u001b[0mroot_path\u001b[0m\u001b[0;34m)\u001b[0m \u001b[0;34m+\u001b[0m \u001b[0mfilename\u001b[0m\u001b[0;34m\u001b[0m\u001b[0;34m\u001b[0m\u001b[0m\n\u001b[1;32m      7\u001b[0m \u001b[0;34m\u001b[0m\u001b[0m\n",
            "\u001b[0;32m/usr/local/lib/python3.7/dist-packages/ipykernel/kernelbase.py\u001b[0m in \u001b[0;36mraw_input\u001b[0;34m(self, prompt)\u001b[0m\n\u001b[1;32m    861\u001b[0m             \u001b[0mself\u001b[0m\u001b[0;34m.\u001b[0m\u001b[0m_parent_ident\u001b[0m\u001b[0;34m,\u001b[0m\u001b[0;34m\u001b[0m\u001b[0;34m\u001b[0m\u001b[0m\n\u001b[1;32m    862\u001b[0m             \u001b[0mself\u001b[0m\u001b[0;34m.\u001b[0m\u001b[0m_parent_header\u001b[0m\u001b[0;34m,\u001b[0m\u001b[0;34m\u001b[0m\u001b[0;34m\u001b[0m\u001b[0m\n\u001b[0;32m--> 863\u001b[0;31m             \u001b[0mpassword\u001b[0m\u001b[0;34m=\u001b[0m\u001b[0;32mFalse\u001b[0m\u001b[0;34m,\u001b[0m\u001b[0;34m\u001b[0m\u001b[0;34m\u001b[0m\u001b[0m\n\u001b[0m\u001b[1;32m    864\u001b[0m         )\n\u001b[1;32m    865\u001b[0m \u001b[0;34m\u001b[0m\u001b[0m\n",
            "\u001b[0;32m/usr/local/lib/python3.7/dist-packages/ipykernel/kernelbase.py\u001b[0m in \u001b[0;36m_input_request\u001b[0;34m(self, prompt, ident, parent, password)\u001b[0m\n\u001b[1;32m    902\u001b[0m             \u001b[0;32mexcept\u001b[0m \u001b[0mKeyboardInterrupt\u001b[0m\u001b[0;34m:\u001b[0m\u001b[0;34m\u001b[0m\u001b[0;34m\u001b[0m\u001b[0m\n\u001b[1;32m    903\u001b[0m                 \u001b[0;31m# re-raise KeyboardInterrupt, to truncate traceback\u001b[0m\u001b[0;34m\u001b[0m\u001b[0;34m\u001b[0m\u001b[0;34m\u001b[0m\u001b[0m\n\u001b[0;32m--> 904\u001b[0;31m                 \u001b[0;32mraise\u001b[0m \u001b[0mKeyboardInterrupt\u001b[0m\u001b[0;34m(\u001b[0m\u001b[0;34m\"Interrupted by user\"\u001b[0m\u001b[0;34m)\u001b[0m \u001b[0;32mfrom\u001b[0m \u001b[0;32mNone\u001b[0m\u001b[0;34m\u001b[0m\u001b[0;34m\u001b[0m\u001b[0m\n\u001b[0m\u001b[1;32m    905\u001b[0m             \u001b[0;32mexcept\u001b[0m \u001b[0mException\u001b[0m \u001b[0;32mas\u001b[0m \u001b[0me\u001b[0m\u001b[0;34m:\u001b[0m\u001b[0;34m\u001b[0m\u001b[0;34m\u001b[0m\u001b[0m\n\u001b[1;32m    906\u001b[0m                 \u001b[0mself\u001b[0m\u001b[0;34m.\u001b[0m\u001b[0mlog\u001b[0m\u001b[0;34m.\u001b[0m\u001b[0mwarning\u001b[0m\u001b[0;34m(\u001b[0m\u001b[0;34m\"Invalid Message:\"\u001b[0m\u001b[0;34m,\u001b[0m \u001b[0mexc_info\u001b[0m\u001b[0;34m=\u001b[0m\u001b[0;32mTrue\u001b[0m\u001b[0;34m)\u001b[0m\u001b[0;34m\u001b[0m\u001b[0;34m\u001b[0m\u001b[0m\n",
            "\u001b[0;31mKeyboardInterrupt\u001b[0m: Interrupted by user"
          ]
        }
      ]
    },
    {
      "cell_type": "markdown",
      "source": [
        "## STEP-5: \n",
        "* Read file contaning submission and commenst IDs\n",
        "* This action would fill submission_comment_stats "
      ],
      "metadata": {
        "id": "L4Pq6OJmgjD5"
      }
    },
    {
      "cell_type": "code",
      "source": [
        "path = \"/content/drive/MyDrive/CP/CP-Sem-8/Datasets/ProcessedData/ProcessedSubsCommentIds/Hate-Speech /PussyPass/subs_comms_2021.txt\"   # Change directory where you have saved your submissions alongwith comments IDs\n",
        "path_1 = \"/content/sample_data/subs_comms_cond_1.txt\"\n",
        "read_filepath = path_1\n",
        "retrieveCommentIdData(read_filepath)        # If not all comments are to be extracted at a go, create the dataframe below "
      ],
      "metadata": {
        "id": "NR_98xHQgwfS"
      },
      "execution_count": null,
      "outputs": []
    },
    {
      "cell_type": "code",
      "source": [
        "# Save the current status of comment data to file if required \n",
        "# Change the code in exception block after the directory has been read\n",
        "try:\n",
        "  INPUT_DIR = \"Something\"\n",
        "  filepath = INPUT_DIR\n",
        "except:\n",
        "  print(\"Path not found\")"
      ],
      "metadata": {
        "id": "b29HfRaoQA1O"
      },
      "execution_count": null,
      "outputs": []
    },
    {
      "cell_type": "code",
      "source": [
        "with open(filepath, \"a+\") as file:\n",
        "  for comment_id in list(submission_comment_stats.keys()):\n",
        "    file.write(str(comment_id) + \": \" + str(submission_comment_stats[str(comment_id)]))\n",
        "    file.write(\"\\n\")"
      ],
      "metadata": {
        "id": "KgnjUkoBQdLP"
      },
      "execution_count": null,
      "outputs": []
    },
    {
      "cell_type": "markdown",
      "source": [
        "## STEP-6\n",
        "* Save the comment IDs and their metadata to disk. Mostly it won't be required as the dataframe would be created instantly and that can be saved as .csv\n",
        "\n",
        "* Do note the status in each run \n"
      ],
      "metadata": {
        "id": "qSmM4r3qhNOS"
      }
    },
    {
      "cell_type": "code",
      "source": [
        "comment_key_list = list(submission_comment_stats.keys())\n",
        "comment_data_df = pd.DataFrame(index = comment_key_list, columns = [\"speaker\", \"text\", \"reply_to\", \"timestamp\", \"score\"])\n",
        "for index in tqdm(comment_data_df.index):\n",
        "  if index in submission_comment_stats.keys():                  # Keep a track of indices so not to restart the process again \n",
        "    comment_data_df.loc[index, \"speaker\"] = submission_comment_stats[str(index)][0][0]\n",
        "    comment_data_df.loc[index, \"text\"] = submission_comment_stats[str(index)][0][1]\n",
        "\n",
        "    # try:\n",
        "    #   parent_sub_id = \n",
        "    \n",
        "    #   if str(index) != str(parent_sub_id):\n",
        "    #     df.loc[str(index), \"reply_to\"] = parent_sub_id   # Check if a better way exists. Search for it in PSAW Docs \n",
        "        \n",
        "    # except:\n",
        "    #   df.loc[str(index), \"reply_to\"] = \"None\"\n",
        "\n",
        "    comment_data_df.loc[index, \"timestamp\"] = submission_comment_stats[str(index)][0][2]\n",
        "\n",
        "    # perma_text = submission_comment_stats[str(index)][0][4]\n",
        "    # sub_text = perma_text[1:-2].split(\"/\")[3]\n",
        "    comment_data_df.loc[index, \"reply_to\"] = submission_comment_stats[str(index)][0][4]\n",
        "\n",
        "    comment_data_df.loc[index, \"score\"] = submission_comment_stats[str(index)][0][5]\n",
        "    # df.loc[index, \"subreddit\"] = \"None\"\n",
        "    # df.loc[index, \"subreddit_id\"] = \"None\"\n",
        "\n",
        "    try:\n",
        "      comment_data_df.loc[index, \"conversation_id\"] = comment_conversation_ids[str(index)]\n",
        "    except:\n",
        "      comment_data_df.loc[index, \"conversation_id\"] = \"None\""
      ],
      "metadata": {
        "id": "NS45YztriADh",
        "colab": {
          "base_uri": "https://localhost:8080/"
        },
        "outputId": "adfa43a2-6931-4d98-8ed3-8238d3aaf485"
      },
      "execution_count": null,
      "outputs": [
        {
          "output_type": "stream",
          "name": "stderr",
          "text": [
            "100%|██████████| 88/88 [00:00<00:00, 784.47it/s]\n"
          ]
        }
      ]
    },
    {
      "cell_type": "code",
      "source": [
        "# submission_data_df.to_csv(\"/content/sample_data/submission_data_df_2021.csv\")"
      ],
      "metadata": {
        "id": "pMjVcKPm7yvt"
      },
      "execution_count": null,
      "outputs": []
    },
    {
      "cell_type": "code",
      "source": [
        "# comment_data_df.to_csv(\"/content/sample_data/comment_df_2021.csv\")"
      ],
      "metadata": {
        "id": "079VGddzebmg"
      },
      "execution_count": null,
      "outputs": []
    },
    {
      "cell_type": "markdown",
      "source": [
        "## STEP-7:\n",
        "**Some pre-processing for dataframe of utterances**\n",
        "\n",
        "There are three primary challenges encountered while extracting comment metadata:\n",
        "1. Parent ID is retrieved in base-10 as well as base-36 format for different API calls\n",
        "2. Parent ID parameter is missing in some API calls\n",
        "3. Data list is null - {PSAW Internal problem} while retrieving data OR comment has been deleted\n",
        "\n",
        "\n",
        "Solutions:\n",
        "1. We need to have parent IDs in base-36 as per the original Reddit format. Hence we would convert all base-10 ones to base-36 ones \n",
        "2. If parent ID parameter is missing, retrieve its parent using PRAW function \n",
        "3. Sometimes, we might not get the required data AND can't store its post. \n",
        "Some comment IDs would have a parent ID which is itself missing in the post ID.\n",
        "In such a scenario, for the time being, we would exclude such conversations. Future scenario has been coded in STEP-8"
      ],
      "metadata": {
        "id": "N_sry9Y7BiQ_"
      }
    },
    {
      "cell_type": "code",
      "source": [
        "# Remove all duplicates from comment_ids_df \n",
        "comment_data_df = comment_data_df.drop_duplicates()"
      ],
      "metadata": {
        "id": "D-IJZc1fLSst"
      },
      "execution_count": null,
      "outputs": []
    },
    {
      "cell_type": "code",
      "source": [
        "comment_data_df[\"reply_to_new\"] = comment_data_df[\"reply_to\"]  # Create a new column that stores parent ID for each post ID "
      ],
      "metadata": {
        "id": "9kkutDW75pk2"
      },
      "execution_count": null,
      "outputs": []
    },
    {
      "cell_type": "code",
      "source": [
        "comment_data_df.to_csv(\"/content/sample_data/cond_1.csv\")"
      ],
      "metadata": {
        "id": "ohlSF4BJFagr"
      },
      "execution_count": null,
      "outputs": []
    },
    {
      "cell_type": "code",
      "source": [
        "for idx in comment_data_df.index:      # Convert parentIDs that are not \"None\" in base-10 to base-36\n",
        "  if comment_data_df.loc[idx, \"reply_to\"] != \"None\":\n",
        "    comment_data_df.loc[idx, \"reply_to_new\"] = str(base36.dumps(int(comment_data_df.loc[idx, \"reply_to\"]))).lower()"
      ],
      "metadata": {
        "id": "a-Xhe6T8BfTp"
      },
      "execution_count": null,
      "outputs": []
    },
    {
      "cell_type": "code",
      "source": [
        "parent_ids = []\n",
        "\n",
        "def parentId(id):       # Returns parent IDs for comments for which the \"reply_to\" parameter is \"None\"\n",
        "  if id.startswith(\"t1_\", 0, 2):\n",
        "    id = id[3: ]\n",
        "  return (reddit.comment(id).parent_id)[3: ]"
      ],
      "metadata": {
        "id": "uv6U40pBGiez"
      },
      "execution_count": null,
      "outputs": []
    },
    {
      "cell_type": "code",
      "source": [
        "comment_data_df = pd.read_csv(\"/content/sample_data/askreddit_data.csv\", index_col = \"Unnamed: 0\")"
      ],
      "metadata": {
        "id": "SAlKm2nk1teD"
      },
      "execution_count": null,
      "outputs": []
    },
    {
      "cell_type": "code",
      "source": [
        "comment_data_df = comment_data_df.set_index(\"Unnamed: 0.1\")"
      ],
      "metadata": {
        "id": "SBhPTMqC2IBs"
      },
      "execution_count": null,
      "outputs": []
    },
    {
      "cell_type": "code",
      "source": [
        "comment_data_df.index"
      ],
      "metadata": {
        "colab": {
          "base_uri": "https://localhost:8080/"
        },
        "id": "PkPteU0d2QzQ",
        "outputId": "0c7b732a-6c13-4ec1-f55d-343f09b574cd"
      },
      "execution_count": null,
      "outputs": [
        {
          "output_type": "execute_result",
          "data": {
            "text/plain": [
              "Index(['e18uydw', 'e18wieo', 'e1xj23o', 'e1xja8s', 'e1xkf4e', 'e6a950v',\n",
              "       'dzt5ka3', 'dzt7jsm', 'dztdp4v', 'e3vvse1',\n",
              "       ...\n",
              "       'e50nxxn', 'e50o0pp', 'e50otnh', 'e50p6hi', 'e50pvng', 'e69hfmr',\n",
              "       'e1bac43', 'e1bag2j', 'e1banbr', 'e1baqip'],\n",
              "      dtype='object', length=1452)"
            ]
          },
          "metadata": {},
          "execution_count": 37
        }
      ]
    },
    {
      "cell_type": "code",
      "source": [
        "for com_id in tqdm(comment_data_df.index):                       # Perform conversion \n",
        "  if comment_data_df.loc[com_id, \"reply_to_new\"] == \"None\":      # The ClientException is raised when the comment has been deleted. No parent id for the deleted comment\n",
        "    try:\n",
        "      comment_data_df.loc[com_id, \"reply_to_new\"] = parentId(com_id)\n",
        "    except:\n",
        "      time.sleep(5)\n",
        "      comment_data_df.loc[com_id, \"reply_to_new\"] = parentId(com_id)"
      ],
      "metadata": {
        "colab": {
          "base_uri": "https://localhost:8080/"
        },
        "id": "9IXCoCH1GjtL",
        "outputId": "cce88d7f-ed90-4b3e-eeab-e1421f361f7d"
      },
      "execution_count": null,
      "outputs": [
        {
          "output_type": "stream",
          "name": "stderr",
          "text": [
            "100%|██████████| 6416/6416 [1:01:57<00:00,  1.73it/s]\n"
          ]
        }
      ]
    },
    {
      "cell_type": "code",
      "source": [
        "comment_data_df.to_csv(\"/content/sample_data/comms_pussypass_2018.csv\")"
      ],
      "metadata": {
        "id": "JQjoKQsC-1VM"
      },
      "execution_count": null,
      "outputs": []
    },
    {
      "cell_type": "code",
      "source": [
        "# Rename \"reply_to_new\" to \"reply_to\" AND \"reply_to\" a \"reply_to_old\". Retain the older column for future reference if required \n",
        "cols_rename = {\"reply_to\": \"reply_to_old\", \"reply_to_new\": \"reply_to\"}\n",
        "comment_data_df.rename(columns = cols_rename, inplace = True)"
      ],
      "metadata": {
        "id": "_kAGJLUt6rqf"
      },
      "execution_count": null,
      "outputs": []
    },
    {
      "cell_type": "code",
      "source": [
        "# Drop old \"reply_to\" values \n",
        "comment_data_df.drop([\"reply_to_old\"], axis = 1, inplace = True)"
      ],
      "metadata": {
        "id": "2Mmg_myOEMQc"
      },
      "execution_count": null,
      "outputs": []
    },
    {
      "cell_type": "code",
      "source": [
        "# Sort columns in submission and comment dataframes \n",
        "comment_data_df_copy = comment_data_df.reindex(sorted(comment_data_df.columns), axis=1)\n",
        "submission_data_df_copy = submission_data_df.reindex(sorted(submission_data_df.columns), axis=1)\n",
        "# comment_data_df_copy = comment_data_df_copy.reindex(sorted(comment_data_df.columns), axis=1)\n",
        "# submission_data_df_copy = subm_data.reindex(sorted(subm_data.columns), axis=1)"
      ],
      "metadata": {
        "id": "BfqbWNRs-B10"
      },
      "execution_count": null,
      "outputs": []
    },
    {
      "cell_type": "code",
      "source": [
        "given_num_comms = list(submission_data_df[\"num_comms\"])\n",
        "submission_data_df.drop(\"num_comms\", axis = 1, inplace = True)"
      ],
      "metadata": {
        "id": "L7ElXPyrE0UA"
      },
      "execution_count": null,
      "outputs": []
    },
    {
      "cell_type": "code",
      "source": [
        "# Check certain stats \n",
        "comment_data_df_copy.isnull().sum()"
      ],
      "metadata": {
        "colab": {
          "base_uri": "https://localhost:8080/"
        },
        "id": "r1AeJA5jCIbn",
        "outputId": "c6cee11f-04db-4e2f-d48b-e3bb6d6aaeca"
      },
      "execution_count": null,
      "outputs": [
        {
          "output_type": "execute_result",
          "data": {
            "text/plain": [
              "conversation_id    0\n",
              "reply_to           0\n",
              "score              0\n",
              "speaker            0\n",
              "text               0\n",
              "timestamp          0\n",
              "dtype: int64"
            ]
          },
          "metadata": {},
          "execution_count": 42
        }
      ]
    },
    {
      "cell_type": "code",
      "source": [
        "# Check certain stats\n",
        "submission_data_df_copy.isnull().sum()"
      ],
      "metadata": {
        "colab": {
          "base_uri": "https://localhost:8080/"
        },
        "id": "VLZJmIm4CQsD",
        "outputId": "40f5ca83-b78e-438c-ebda-799c6556f8a1"
      },
      "execution_count": null,
      "outputs": [
        {
          "output_type": "execute_result",
          "data": {
            "text/plain": [
              "conversation_id    0\n",
              "reply_to           0\n",
              "score              0\n",
              "speaker            0\n",
              "text               0\n",
              "timestamp          0\n",
              "dtype: int64"
            ]
          },
          "metadata": {},
          "execution_count": 43
        }
      ]
    },
    {
      "cell_type": "code",
      "source": [
        "# Check that each conversation_id in comment dataframe is present in submission_id of parent dataframe \n",
        "for conv_id in comment_data_df_copy[\"conversation_id\"].unique():\n",
        "  if conv_id not in submission_data_df_copy[\"id\"].unique():\n",
        "    print(conv_id)"
      ],
      "metadata": {
        "id": "keR22SSav7Dj"
      },
      "execution_count": null,
      "outputs": []
    },
    {
      "cell_type": "code",
      "source": [
        "subm_data = pd.read_csv(\"/content/subs_mensrights_sample.csv\", infer_datetime_format = True)\n",
        "subm_data.drop([\"text\"], axis = 1, inplace = True)"
      ],
      "metadata": {
        "id": "l-U5EXMk_xxA"
      },
      "execution_count": null,
      "outputs": []
    },
    {
      "cell_type": "code",
      "source": [
        "# subm_data[\"timestamp\"] = pd.to_datetime(subm_data[\"timestamp\"])"
      ],
      "metadata": {
        "id": "H6_O3zltBEsj"
      },
      "execution_count": null,
      "outputs": []
    },
    {
      "cell_type": "code",
      "source": [
        "# for idx in subm_data.index:\n",
        "#   subm_data.loc[idx, \"timestamp\"] = int(time.mktime(datetime.strptime(subm_data.loc[idx, \"timestamp\"], '%Y-%m-%d %H:%M:%S').timetuple()))\n",
        "# time.mktime(datetime.strptime(ti, '%m/%d/%Y %I:%M %p').timetuple())"
      ],
      "metadata": {
        "id": "ATEgWX6lAAsF"
      },
      "execution_count": null,
      "outputs": []
    },
    {
      "cell_type": "code",
      "source": [
        "# comment_data_df_copy.to_csv(\"/content/drive/MyDrive/CP Sem-8-20220801T153939Z-001.zip (Unzipped Files)/CP Sem-8/Datasets/ProcessedData/SubComsText/comment_df_1.csv\")"
      ],
      "metadata": {
        "id": "mXgajFfD65m8"
      },
      "execution_count": null,
      "outputs": []
    },
    {
      "cell_type": "markdown",
      "source": [
        "## STEP-8\n",
        "* Merge the submission DataFrames and commennt dataframes into a new dataframe \n",
        "* Create Convokit Corpus \n",
        "\n",
        "You can generate corpora from utterance data only. \n",
        "\n",
        "(Note that 'id' does not have to be the DataFrame index, it can just be another column in your dataframe.)\n",
        "\n",
        "\n",
        "### DISCLAIMER\n",
        "* There should be no \"None\" values except for those is \"reply_to\" columns that have sumbmission IDs as index. Drop rest of the rows\n"
      ],
      "metadata": {
        "id": "TQEoc5uvhfk7"
      }
    },
    {
      "cell_type": "code",
      "source": [
        "comment_data_df_copy = comment_data_df_copy.reset_index()\n",
        "comment_data_df_copy.rename(columns = {\"index\": \"id\"}, inplace = True)"
      ],
      "metadata": {
        "id": "Snw3uyvsFq5s"
      },
      "execution_count": null,
      "outputs": []
    },
    {
      "cell_type": "code",
      "source": [
        "submission_data_df_copy.rename(columns = {\"post_id\": \"id\"}, inplace = True)"
      ],
      "metadata": {
        "id": "ivadCxXNGJQ_"
      },
      "execution_count": null,
      "outputs": []
    },
    {
      "cell_type": "code",
      "source": [
        "df_combined = pd.concat([comment_data_df_copy, submission_data_df_copy], axis = 0)"
      ],
      "metadata": {
        "id": "lKWlN8VkkJor"
      },
      "execution_count": null,
      "outputs": []
    },
    {
      "cell_type": "code",
      "source": [
        "df_combined = df_combined.reset_index()\n",
        "df_combined.rename(columns = {\"index\": \"id\"}, inplace = True)"
      ],
      "metadata": {
        "id": "pRr2Ui4nX_l4"
      },
      "execution_count": null,
      "outputs": []
    },
    {
      "cell_type": "code",
      "source": [
        "corpus = Corpus(filename = \"/content/drive/MyDrive/CP/CP-Sem-8/Datasets/ProcessedData/saved_corpora/mens-rights-2018\")\n",
        "corpus.get_utterances_dataframe()"
      ],
      "metadata": {
        "colab": {
          "base_uri": "https://localhost:8080/",
          "height": 455
        },
        "id": "7F2W4oO6-S8z",
        "outputId": "e0451ad9-31ee-4cb9-9195-d5b152fbef03"
      },
      "execution_count": null,
      "outputs": [
        {
          "output_type": "execute_result",
          "data": {
            "text/plain": [
              "          timestamp                                               text  \\\n",
              "id                                                                       \n",
              "dsdpaj9  1515441265                            Nothing wrong with sex.   \n",
              "dsdpgka  1515441436  Amount of sexual partners for women before mar...   \n",
              "dsdpqf5  1515441710  Sure, thats a non brainer. People that like se...   \n",
              "dsdprlw  1515441742  A lock that opens for any key is useless.\\n\\nA...   \n",
              "dsdq5c6  1515442132  &gt; People that like sex like sex so are more...   \n",
              "...             ...                                                ...   \n",
              "8b5wj6   1523346368     Judge allows NCFM to challenge male-only draft   \n",
              "8s8ybg   1529415750  When is going to be okay to stop focusing one ...   \n",
              "8azojl   1523290689  For those who do not think it happens to men. ...   \n",
              "8u0lzb   1530024574  Feminist Julie Lalonde: \"Every time we see a h...   \n",
              "97ee5r   1534298305  Female NYU Professor Suspended For Sexually Ha...   \n",
              "\n",
              "                  speaker reply_to conversation_id vectors  \n",
              "id                                                          \n",
              "dsdpaj9              ee4m   7p12k7          7p12k7      []  \n",
              "dsdpgka              FyrW  dsdpaj9          7p12k7      []  \n",
              "dsdpqf5              ee4m  dsdpgka          7p12k7      []  \n",
              "dsdprlw   ItSeemedObvious   7p12k7          7p12k7      []  \n",
              "dsdq5c6              FyrW  dsdpqf5          7p12k7      []  \n",
              "...                   ...      ...             ...     ...  \n",
              "8b5wj6   PeterWrightMGTOW     None          8b5wj6      []  \n",
              "8s8ybg        Ok_Interest     None          8s8ybg      []  \n",
              "8azojl           furchfur     None          8azojl      []  \n",
              "8u0lzb          lostapwbm     None          8u0lzb      []  \n",
              "97ee5r           Nvr2Much     None          97ee5r      []  \n",
              "\n",
              "[5790 rows x 6 columns]"
            ],
            "text/html": [
              "\n",
              "  <div id=\"df-b708f4f3-70dc-48fb-8a99-0d48a0dcea4f\">\n",
              "    <div class=\"colab-df-container\">\n",
              "      <div>\n",
              "<style scoped>\n",
              "    .dataframe tbody tr th:only-of-type {\n",
              "        vertical-align: middle;\n",
              "    }\n",
              "\n",
              "    .dataframe tbody tr th {\n",
              "        vertical-align: top;\n",
              "    }\n",
              "\n",
              "    .dataframe thead th {\n",
              "        text-align: right;\n",
              "    }\n",
              "</style>\n",
              "<table border=\"1\" class=\"dataframe\">\n",
              "  <thead>\n",
              "    <tr style=\"text-align: right;\">\n",
              "      <th></th>\n",
              "      <th>timestamp</th>\n",
              "      <th>text</th>\n",
              "      <th>speaker</th>\n",
              "      <th>reply_to</th>\n",
              "      <th>conversation_id</th>\n",
              "      <th>vectors</th>\n",
              "    </tr>\n",
              "    <tr>\n",
              "      <th>id</th>\n",
              "      <th></th>\n",
              "      <th></th>\n",
              "      <th></th>\n",
              "      <th></th>\n",
              "      <th></th>\n",
              "      <th></th>\n",
              "    </tr>\n",
              "  </thead>\n",
              "  <tbody>\n",
              "    <tr>\n",
              "      <th>dsdpaj9</th>\n",
              "      <td>1515441265</td>\n",
              "      <td>Nothing wrong with sex.</td>\n",
              "      <td>ee4m</td>\n",
              "      <td>7p12k7</td>\n",
              "      <td>7p12k7</td>\n",
              "      <td>[]</td>\n",
              "    </tr>\n",
              "    <tr>\n",
              "      <th>dsdpgka</th>\n",
              "      <td>1515441436</td>\n",
              "      <td>Amount of sexual partners for women before mar...</td>\n",
              "      <td>FyrW</td>\n",
              "      <td>dsdpaj9</td>\n",
              "      <td>7p12k7</td>\n",
              "      <td>[]</td>\n",
              "    </tr>\n",
              "    <tr>\n",
              "      <th>dsdpqf5</th>\n",
              "      <td>1515441710</td>\n",
              "      <td>Sure, thats a non brainer. People that like se...</td>\n",
              "      <td>ee4m</td>\n",
              "      <td>dsdpgka</td>\n",
              "      <td>7p12k7</td>\n",
              "      <td>[]</td>\n",
              "    </tr>\n",
              "    <tr>\n",
              "      <th>dsdprlw</th>\n",
              "      <td>1515441742</td>\n",
              "      <td>A lock that opens for any key is useless.\\n\\nA...</td>\n",
              "      <td>ItSeemedObvious</td>\n",
              "      <td>7p12k7</td>\n",
              "      <td>7p12k7</td>\n",
              "      <td>[]</td>\n",
              "    </tr>\n",
              "    <tr>\n",
              "      <th>dsdq5c6</th>\n",
              "      <td>1515442132</td>\n",
              "      <td>&amp;gt; People that like sex like sex so are more...</td>\n",
              "      <td>FyrW</td>\n",
              "      <td>dsdpqf5</td>\n",
              "      <td>7p12k7</td>\n",
              "      <td>[]</td>\n",
              "    </tr>\n",
              "    <tr>\n",
              "      <th>...</th>\n",
              "      <td>...</td>\n",
              "      <td>...</td>\n",
              "      <td>...</td>\n",
              "      <td>...</td>\n",
              "      <td>...</td>\n",
              "      <td>...</td>\n",
              "    </tr>\n",
              "    <tr>\n",
              "      <th>8b5wj6</th>\n",
              "      <td>1523346368</td>\n",
              "      <td>Judge allows NCFM to challenge male-only draft</td>\n",
              "      <td>PeterWrightMGTOW</td>\n",
              "      <td>None</td>\n",
              "      <td>8b5wj6</td>\n",
              "      <td>[]</td>\n",
              "    </tr>\n",
              "    <tr>\n",
              "      <th>8s8ybg</th>\n",
              "      <td>1529415750</td>\n",
              "      <td>When is going to be okay to stop focusing one ...</td>\n",
              "      <td>Ok_Interest</td>\n",
              "      <td>None</td>\n",
              "      <td>8s8ybg</td>\n",
              "      <td>[]</td>\n",
              "    </tr>\n",
              "    <tr>\n",
              "      <th>8azojl</th>\n",
              "      <td>1523290689</td>\n",
              "      <td>For those who do not think it happens to men. ...</td>\n",
              "      <td>furchfur</td>\n",
              "      <td>None</td>\n",
              "      <td>8azojl</td>\n",
              "      <td>[]</td>\n",
              "    </tr>\n",
              "    <tr>\n",
              "      <th>8u0lzb</th>\n",
              "      <td>1530024574</td>\n",
              "      <td>Feminist Julie Lalonde: \"Every time we see a h...</td>\n",
              "      <td>lostapwbm</td>\n",
              "      <td>None</td>\n",
              "      <td>8u0lzb</td>\n",
              "      <td>[]</td>\n",
              "    </tr>\n",
              "    <tr>\n",
              "      <th>97ee5r</th>\n",
              "      <td>1534298305</td>\n",
              "      <td>Female NYU Professor Suspended For Sexually Ha...</td>\n",
              "      <td>Nvr2Much</td>\n",
              "      <td>None</td>\n",
              "      <td>97ee5r</td>\n",
              "      <td>[]</td>\n",
              "    </tr>\n",
              "  </tbody>\n",
              "</table>\n",
              "<p>5790 rows × 6 columns</p>\n",
              "</div>\n",
              "      <button class=\"colab-df-convert\" onclick=\"convertToInteractive('df-b708f4f3-70dc-48fb-8a99-0d48a0dcea4f')\"\n",
              "              title=\"Convert this dataframe to an interactive table.\"\n",
              "              style=\"display:none;\">\n",
              "        \n",
              "  <svg xmlns=\"http://www.w3.org/2000/svg\" height=\"24px\"viewBox=\"0 0 24 24\"\n",
              "       width=\"24px\">\n",
              "    <path d=\"M0 0h24v24H0V0z\" fill=\"none\"/>\n",
              "    <path d=\"M18.56 5.44l.94 2.06.94-2.06 2.06-.94-2.06-.94-.94-2.06-.94 2.06-2.06.94zm-11 1L8.5 8.5l.94-2.06 2.06-.94-2.06-.94L8.5 2.5l-.94 2.06-2.06.94zm10 10l.94 2.06.94-2.06 2.06-.94-2.06-.94-.94-2.06-.94 2.06-2.06.94z\"/><path d=\"M17.41 7.96l-1.37-1.37c-.4-.4-.92-.59-1.43-.59-.52 0-1.04.2-1.43.59L10.3 9.45l-7.72 7.72c-.78.78-.78 2.05 0 2.83L4 21.41c.39.39.9.59 1.41.59.51 0 1.02-.2 1.41-.59l7.78-7.78 2.81-2.81c.8-.78.8-2.07 0-2.86zM5.41 20L4 18.59l7.72-7.72 1.47 1.35L5.41 20z\"/>\n",
              "  </svg>\n",
              "      </button>\n",
              "      \n",
              "  <style>\n",
              "    .colab-df-container {\n",
              "      display:flex;\n",
              "      flex-wrap:wrap;\n",
              "      gap: 12px;\n",
              "    }\n",
              "\n",
              "    .colab-df-convert {\n",
              "      background-color: #E8F0FE;\n",
              "      border: none;\n",
              "      border-radius: 50%;\n",
              "      cursor: pointer;\n",
              "      display: none;\n",
              "      fill: #1967D2;\n",
              "      height: 32px;\n",
              "      padding: 0 0 0 0;\n",
              "      width: 32px;\n",
              "    }\n",
              "\n",
              "    .colab-df-convert:hover {\n",
              "      background-color: #E2EBFA;\n",
              "      box-shadow: 0px 1px 2px rgba(60, 64, 67, 0.3), 0px 1px 3px 1px rgba(60, 64, 67, 0.15);\n",
              "      fill: #174EA6;\n",
              "    }\n",
              "\n",
              "    [theme=dark] .colab-df-convert {\n",
              "      background-color: #3B4455;\n",
              "      fill: #D2E3FC;\n",
              "    }\n",
              "\n",
              "    [theme=dark] .colab-df-convert:hover {\n",
              "      background-color: #434B5C;\n",
              "      box-shadow: 0px 1px 3px 1px rgba(0, 0, 0, 0.15);\n",
              "      filter: drop-shadow(0px 1px 2px rgba(0, 0, 0, 0.3));\n",
              "      fill: #FFFFFF;\n",
              "    }\n",
              "  </style>\n",
              "\n",
              "      <script>\n",
              "        const buttonEl =\n",
              "          document.querySelector('#df-b708f4f3-70dc-48fb-8a99-0d48a0dcea4f button.colab-df-convert');\n",
              "        buttonEl.style.display =\n",
              "          google.colab.kernel.accessAllowed ? 'block' : 'none';\n",
              "\n",
              "        async function convertToInteractive(key) {\n",
              "          const element = document.querySelector('#df-b708f4f3-70dc-48fb-8a99-0d48a0dcea4f');\n",
              "          const dataTable =\n",
              "            await google.colab.kernel.invokeFunction('convertToInteractive',\n",
              "                                                     [key], {});\n",
              "          if (!dataTable) return;\n",
              "\n",
              "          const docLinkHtml = 'Like what you see? Visit the ' +\n",
              "            '<a target=\"_blank\" href=https://colab.research.google.com/notebooks/data_table.ipynb>data table notebook</a>'\n",
              "            + ' to learn more about interactive tables.';\n",
              "          element.innerHTML = '';\n",
              "          dataTable['output_type'] = 'display_data';\n",
              "          await google.colab.output.renderOutput(dataTable, element);\n",
              "          const docLink = document.createElement('div');\n",
              "          docLink.innerHTML = docLinkHtml;\n",
              "          element.appendChild(docLink);\n",
              "        }\n",
              "      </script>\n",
              "    </div>\n",
              "  </div>\n",
              "  "
            ]
          },
          "metadata": {},
          "execution_count": 93
        }
      ]
    },
    {
      "cell_type": "code",
      "source": [
        "# Save the entire data as csv OR create the Convokit corpus \n",
        "corpus = Corpus.from_pandas(df_combined) # Else create separate dataframes for conversation, speaker and utterances "
      ],
      "metadata": {
        "id": "k1RnkuKAOw2_",
        "colab": {
          "base_uri": "https://localhost:8080/"
        },
        "outputId": "a137641b-6c38-4671-bb9c-f13997c9cfc9"
      },
      "execution_count": null,
      "outputs": [
        {
          "output_type": "stream",
          "name": "stderr",
          "text": [
            "8354it [00:00, 11230.75it/s]\n"
          ]
        }
      ]
    },
    {
      "cell_type": "code",
      "source": [
        "for conv_id in tqdm(df_combined[\"conversation_id\"].unique()):      # Add these details to metadata\n",
        "  convo = corpus.get_conversation(conv_id)\n",
        "  convo.add_meta(\"original_no_of_comms\", submission_metadata[str(conv_id)][0][3]) \n",
        "  convo.add_meta(\"retrieved_no_of_comms\", len(convo.get_utterance_ids()))\n",
        "  convo.add_meta(\"to_include\", convo.check_integrity())\n",
        "  # print(convo.check_integrity())"
      ],
      "metadata": {
        "id": "TFE9U7IE8q0M"
      },
      "execution_count": null,
      "outputs": []
    },
    {
      "cell_type": "code",
      "source": [
        "# for id in list(df_combined[\"reply_to\"]):\n",
        "#   if id != \"None\":\n",
        "#     if id not in list(df_combined[\"id\"]):\n",
        "#       print(\"Yes\")\n",
        "#       break"
      ],
      "metadata": {
        "id": "avcN2tnWuxR_"
      },
      "execution_count": null,
      "outputs": []
    },
    {
      "cell_type": "code",
      "source": [
        "# remove_post_ids = []\n",
        "# for id in list(comment_data_df[\"reply_to\"]):\n",
        "#   if id not in list(df_combined[\"post_id\"]) or id == \"[deleted]\":\n",
        "#     remove_ids.append(id)"
      ],
      "metadata": {
        "id": "5IzNrDsK-NFi"
      },
      "execution_count": null,
      "outputs": []
    },
    {
      "cell_type": "code",
      "source": [
        "corpus.random_conversation().print_conversation_structure()"
      ],
      "metadata": {
        "colab": {
          "base_uri": "https://localhost:8080/"
        },
        "id": "-nFo5h8HCqDg",
        "outputId": "1260101f-18f2-4b28-a7b6-74bf5a8b697b"
      },
      "execution_count": null,
      "outputs": [
        {
          "output_type": "stream",
          "name": "stdout",
          "text": [
            "PeterWrightMGTOW\n",
            "    tenchineuro\n",
            "        Source_or_gtfo\n",
            "            tenchineuro\n",
            "                kaliwraith\n",
            "                    tenchineuro\n",
            "            tenchineuro\n",
            "                Source_or_gtfo\n",
            "                    tenchineuro\n",
            "        Vandechoz\n",
            "            tenchineuro\n",
            "    WoodChucking\n",
            "        Unused_UserID\n",
            "    IronJohnMRA\n",
            "        IronJohnMRA\n",
            "    dukunt\n",
            "    XxRandomguyxX\n",
            "        pintocat\n",
            "            Bing_Bang_Bam\n",
            "    GreyTortoise\n",
            "        tenchineuro\n",
            "            GreyTortoise\n"
          ]
        }
      ]
    },
    {
      "cell_type": "markdown",
      "source": [
        "## STEP-8-Optional - though it would be good to check if integrity constraint works \n",
        "* Includes integrity checks for certain corpora and code for removing tree branches from a conversation "
      ],
      "metadata": {
        "id": "uFH1f3j1mI5s"
      }
    },
    {
      "cell_type": "code",
      "source": [
        "# Check integrity if the conversation tree structure has been created \n",
        "# reply_to column should not be \"None\" for commentIDs. Remember the tree structure. Convokit first identifies the conversation ID based on the submission ID - followed by its presence in reply_to column in a recursive fashion\n",
        "\n",
        "try:\n",
        "  conversation_id = \"9mreyq\"\n",
        "  convo = corpus.get_conversation(conversation_id)\n",
        "  a = convo.check_integrity()\n",
        "  print(a)\n",
        "\n",
        "except:\n",
        "  print(\"Not defined\")"
      ],
      "metadata": {
        "id": "i4_4iy1umOWc",
        "colab": {
          "base_uri": "https://localhost:8080/"
        },
        "outputId": "8018bf0e-1041-49d7-87da-c6a330775d23"
      },
      "execution_count": null,
      "outputs": [
        {
          "output_type": "stream",
          "name": "stdout",
          "text": [
            "Checking reply-to chain of Conversation 9mreyq\n",
            "No issues found.\n",
            "\n",
            "True\n"
          ]
        }
      ]
    },
    {
      "cell_type": "code",
      "source": [
        "convo = corpus.get_conversation('a9c2aq')\n",
        "print(convo.print_conversation_structure())"
      ],
      "metadata": {
        "colab": {
          "base_uri": "https://localhost:8080/"
        },
        "id": "4af1Qsv_wFfC",
        "outputId": "ada8b4f0-0ea9-406e-e57b-299eaeb1b03b"
      },
      "execution_count": null,
      "outputs": [
        {
          "output_type": "stream",
          "name": "stdout",
          "text": [
            "epic_pants44\n",
            "    downundergoldbon\n",
            "        epic_pants44\n",
            "    throwaway_ftb\n",
            "        epic_pants44\n",
            "            sphinx2626\n",
            "    Bluebird_North\n",
            "        epic_pants44\n",
            "        PapaLoMein\n",
            "    mikesteane\n",
            "    aesopstortoise\n",
            "        epic_pants44\n",
            "    Hadashi_blacksky\n",
            "        epic_pants44\n",
            "            Hadashi_blacksky\n",
            "    HerbHandsBill\n",
            "        epic_pants44\n",
            "            HerbHandsBill\n",
            "                epic_pants44\n",
            "                    HerbHandsBill\n",
            "    Nicklovn\n",
            "        epic_pants44\n",
            "    20cansofSpam\n",
            "        epic_pants44\n",
            "    Men-Are-Human\n",
            "        epic_pants44\n",
            "            Men-Are-Human\n",
            "    HerbHandsBill\n",
            "        epic_pants44\n",
            "None\n"
          ]
        }
      ]
    },
    {
      "cell_type": "markdown",
      "source": [
        "## STEP-9"
      ],
      "metadata": {
        "id": "OTOl4ba8ntYS"
      }
    },
    {
      "cell_type": "code",
      "source": [
        "# Dump corpus and load \n",
        "# Run all relevant commands TO PERFORM if the conversion is successful\n",
        "try:\n",
        "  CORPUS_NAME = \"mens-rights-2019\" \n",
        "  BASE_PATH = \"/content/drive/MyDrive/CP/CP-Sem-8/Datasets/ProcessedData/saved_corpora/\"\n",
        "  corpus.dump(CORPUS_NAME, base_path=BASE_PATH)\n",
        "except:\n",
        "  print(\"Corpus not found\")"
      ],
      "metadata": {
        "id": "UOIqWzjKmOS8",
        "colab": {
          "base_uri": "https://localhost:8080/"
        },
        "outputId": "b207bfb7-6f07-4cdb-a095-d1c00b4ea30c"
      },
      "execution_count": null,
      "outputs": [
        {
          "output_type": "stream",
          "name": "stdout",
          "text": [
            "Corpus not found\n"
          ]
        }
      ]
    },
    {
      "cell_type": "code",
      "source": [
        "# Load the Corpus\n",
        "try:\n",
        "  CORPUS_PATH = \"/content/drive/MyDrive/CP/CP-Sem-8/Datasets/ProcessedData/saved_corpora/mens-rights-2019\"\n",
        "  corpus = Corpus(filename = CORPUS_PATH)\n",
        "except:\n",
        "  print(\"Corpus not found\")"
      ],
      "metadata": {
        "id": "k0O00YwzmOQq",
        "colab": {
          "base_uri": "https://localhost:8080/"
        },
        "outputId": "927043df-9a73-42da-c3e9-10d69ffc7d6f"
      },
      "execution_count": null,
      "outputs": [
        {
          "output_type": "stream",
          "name": "stdout",
          "text": [
            "Corpus not found\n"
          ]
        }
      ]
    },
    {
      "cell_type": "code",
      "source": [
        "corpus.random_conversation().print_conversation_structure()"
      ],
      "metadata": {
        "colab": {
          "base_uri": "https://localhost:8080/"
        },
        "id": "bRGiZrjuZVGd",
        "outputId": "3112f657-9d19-467b-faad-b95bc6c77a02"
      },
      "execution_count": null,
      "outputs": [
        {
          "output_type": "stream",
          "name": "stdout",
          "text": [
            "Nvr2Much\n",
            "    thrway_1000\n",
            "        antilopes\n",
            "            TracyMorganFreeman\n",
            "                revengeofthedirty47\n",
            "                antilopes\n",
            "    89peters\n",
            "        TracyMorganFreeman\n",
            "            89peters\n",
            "    Vman2\n",
            "        iburiedmyshovel\n",
            "    runninginacyclone\n",
            "        Meistermalkav\n",
            "        timdesuyo\n",
            "    runninginacyclone\n",
            "        [deleted]\n",
            "    svenskbitch\n",
            "    ThePigmanAgain\n",
            "    Mode1961\n",
            "    [deleted]\n",
            "    5th_Law_of_Robotics\n",
            "    IronJohnMRA\n",
            "        antilopes\n",
            "    youcantduckthezucc\n",
            "    CptFizz\n",
            "    cankle_h8r\n",
            "    mybuttiswaytoosmall\n"
          ]
        }
      ]
    },
    {
      "cell_type": "code",
      "source": [
        "submission_data_df_copy.to_csv(\"/content/sample_data/submission_data_mensrights_2019.csv\")"
      ],
      "metadata": {
        "id": "DqU_14E3_UXp"
      },
      "execution_count": null,
      "outputs": []
    },
    {
      "cell_type": "markdown",
      "source": [
        "1. The below code can take care of conversations for which integrity check fails\n",
        "2. Again, it would be efficient only for those conversations where only a minor percentage of all comments for a conversation have their parent IDs as missing. If it is significant, its better to extract more conversations"
      ],
      "metadata": {
        "id": "3pibb55sMiAO"
      }
    },
    {
      "cell_type": "code",
      "source": [
        "from collections import defaultdict\n",
        "graph = {}\n",
        "visited = set()"
      ],
      "metadata": {
        "id": "Cjs-yQlmOGya"
      },
      "execution_count": null,
      "outputs": []
    },
    {
      "cell_type": "code",
      "source": [
        "child_list = list(df_combined[\"id\"]) \n",
        "parent_list = list(df_combined[\"reply_to\"])"
      ],
      "metadata": {
        "id": "hwVyHjTEkUBF"
      },
      "execution_count": null,
      "outputs": []
    },
    {
      "cell_type": "code",
      "source": [
        "for val in parent_list:\n",
        "  if val == \"None\":\n",
        "    print(\"Yes\")"
      ],
      "metadata": {
        "id": "5w9ZCwAuoQAg"
      },
      "execution_count": null,
      "outputs": []
    },
    {
      "cell_type": "code",
      "source": [
        "len(parent_list)"
      ],
      "metadata": {
        "colab": {
          "base_uri": "https://localhost:8080/"
        },
        "id": "HwYEwfw2ka_O",
        "outputId": "a746e824-1340-448b-87a4-d40980155cd7"
      },
      "execution_count": null,
      "outputs": [
        {
          "output_type": "execute_result",
          "data": {
            "text/plain": [
              "5790"
            ]
          },
          "metadata": {},
          "execution_count": 241
        }
      ]
    },
    {
      "cell_type": "code",
      "source": [
        "# Create the Adjaceny list: format is \"{\"parent_id1\": [children], \"parent_id2\": [children], ...}\"\n",
        "graph_list = []\n",
        "for child, parent in zip(child_list, parent_list):\n",
        "  # id = df_combined.loc[idx, \"id\"]\n",
        "  # parent_id = df_combined.loc[idx, \"reply_to\"].values[0]\n",
        "  # graph_list.append((id, parent_id))\n",
        "  \n",
        "  # print(child)\n",
        "  # print(parent)\n",
        "  if parent != \"None\":\n",
        "    if parent not in graph.keys():\n",
        "      graph[str(parent)] = []\n",
        "      graph[str(parent)].append(str(child))\n",
        "    else:\n",
        "      graph[str(parent)].append(str(child))\n",
        "# for child, parent in graph_list:\n",
        "#   print(child)\n",
        "#   print(parent)\n",
        "#   break"
      ],
      "metadata": {
        "id": "cGN-RRBBMgwc"
      },
      "execution_count": null,
      "outputs": []
    },
    {
      "cell_type": "code",
      "source": [
        "# DFS for storing the entire depth of the sub-tree following the particular deleted utterance\n",
        "def DFSutil(id, visited):\n",
        "  if id not in visited:\n",
        "    visited.add(id)\n",
        "\n",
        "  if id in list(graph.keys()):\n",
        "    for idx in graph[id]:\n",
        "      DFSutil(id, visited)\n",
        "  else:\n",
        "    return \n",
        "\n",
        "# Now wherever you find that the \"parent_id\" for a particular id is \"[deleted]\". Remove that comment and the entire tree following it\n",
        "\n",
        "for idx, row in df_combined.iterrows():\n",
        " \n",
        "  if row[\"speaker\"] == \"[deleted]\": \n",
        "       id = row[\"id\"]\n",
        "       DFSutil(id, visited)"
      ],
      "metadata": {
        "id": "bqOVa7NUMXKf"
      },
      "execution_count": null,
      "outputs": []
    }
  ]
}