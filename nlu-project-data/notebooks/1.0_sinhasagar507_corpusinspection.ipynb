{
 "cells": [
  {
   "cell_type": "code",
   "execution_count": 1,
   "id": "73c9ab4b",
   "metadata": {},
   "outputs": [
    {
     "data": {
      "text/plain": [
       "'C:\\\\Sagar Study\\\\ML and Learning\\\\CP Sem-8\\\\Project-2-Overall\\\\nlu-project-prerocessing\\\\nlu-project-data\\\\notebooks'"
      ]
     },
     "execution_count": 1,
     "metadata": {},
     "output_type": "execute_result"
    }
   ],
   "source": [
    "%pwd"
   ]
  },
  {
   "cell_type": "code",
   "execution_count": 5,
   "id": "14772102",
   "metadata": {},
   "outputs": [
    {
     "name": "stdout",
     "output_type": "stream",
     "text": [
      "C:\\Sagar Study\\ML and Learning\\CP Sem-8\\Project-2-Overall\\nlu-project-prerocessing\\nlu-project-data\\data\n"
     ]
    }
   ],
   "source": [
    "%cd ..\\data"
   ]
  },
  {
   "cell_type": "code",
   "execution_count": 6,
   "id": "763c9a1d",
   "metadata": {},
   "outputs": [
    {
     "data": {
      "text/plain": [
       "'C:\\\\Sagar Study\\\\ML and Learning\\\\CP Sem-8\\\\Project-2-Overall\\\\nlu-project-prerocessing\\\\nlu-project-data\\\\data'"
      ]
     },
     "execution_count": 6,
     "metadata": {},
     "output_type": "execute_result"
    }
   ],
   "source": [
    "%pwd"
   ]
  },
  {
   "cell_type": "code",
   "execution_count": 31,
   "id": "599babea",
   "metadata": {},
   "outputs": [],
   "source": [
    "import time \n",
    "from zipfile import ZipFile\n",
    "import pandas as pd\n",
    "import numpy as np \n",
    "import matplotlib.pyplot as plt\n",
    "import seaborn as sns\n",
    "from IPython.display import display\n",
    "import warnings\n",
    "warnings.filterwarnings(\"ignore\")"
   ]
  },
  {
   "cell_type": "code",
   "execution_count": 19,
   "id": "9e08c09d",
   "metadata": {},
   "outputs": [],
   "source": [
    "from convokit import Corpus, download "
   ]
  },
  {
   "cell_type": "code",
   "execution_count": 2,
   "id": "28b120fb",
   "metadata": {},
   "outputs": [],
   "source": [
    "# OPTIONAL: Load the \"autoreload\" extension so that code can change\n",
    "%load_ext autoreload\n",
    "\n",
    "# OPTIONAL: always reload modules so that as you change code in src, it gets loaded\n",
    "%autoreload 2"
   ]
  },
  {
   "cell_type": "markdown",
   "id": "679b3913",
   "metadata": {},
   "source": [
    "## Corpus Analysis\n",
    "- [ ] Extract the ZipFile AND insert a path to all files \n",
    "- [ ] Emojis have a meaning - encode them - I have commented out the libraries utilized in their study "
   ]
  },
  {
   "cell_type": "code",
   "execution_count": 22,
   "id": "4b97a7da",
   "metadata": {},
   "outputs": [],
   "source": [
    "try:\n",
    "    with ZipFile('raw/corpora/sanskar_corpora.zip', 'r') as archive: \n",
    "        for file in archive.namelist(): \n",
    "            if file.startswith('corpus/fc(12-23)_27p_1/'):\n",
    "                archive.extract(file, 'raw/corpora/extracted_sample')\n",
    "except Exception as e:\n",
    "    print(e)"
   ]
  },
  {
   "cell_type": "code",
   "execution_count": 24,
   "id": "26b1d2a8",
   "metadata": {},
   "outputs": [],
   "source": [
    "corpus = Corpus(filename=\"raw/corpora/extracted_sample/corpus/fc(12-23)_27p_1\") # Load the Convokit Corpus "
   ]
  },
  {
   "cell_type": "code",
   "execution_count": 25,
   "id": "eb1b4752",
   "metadata": {},
   "outputs": [
    {
     "name": "stdout",
     "output_type": "stream",
     "text": [
      "Number of Speakers: 333\n",
      "Number of Utterances: 487\n",
      "Number of Conversations: 27\n"
     ]
    }
   ],
   "source": [
    "corpus.print_summary_stats()"
   ]
  },
  {
   "cell_type": "code",
   "execution_count": 26,
   "id": "e96753ff",
   "metadata": {},
   "outputs": [],
   "source": [
    "# Create a conversation-level dictionary \n",
    "conv_metadata_agg = {}"
   ]
  },
  {
   "cell_type": "code",
   "execution_count": 27,
   "id": "38226c28",
   "metadata": {},
   "outputs": [],
   "source": [
    "# Load the utterance dataframe \n",
    "utt_df = corpus.get_utterances_dataframe().drop(\"vectors\", axis = 1)"
   ]
  },
  {
   "cell_type": "code",
   "execution_count": 28,
   "id": "7f476bae",
   "metadata": {},
   "outputs": [
    {
     "data": {
      "text/html": [
       "<div>\n",
       "<style scoped>\n",
       "    .dataframe tbody tr th:only-of-type {\n",
       "        vertical-align: middle;\n",
       "    }\n",
       "\n",
       "    .dataframe tbody tr th {\n",
       "        vertical-align: top;\n",
       "    }\n",
       "\n",
       "    .dataframe thead th {\n",
       "        text-align: right;\n",
       "    }\n",
       "</style>\n",
       "<table border=\"1\" class=\"dataframe\">\n",
       "  <thead>\n",
       "    <tr style=\"text-align: right;\">\n",
       "      <th></th>\n",
       "      <th>timestamp</th>\n",
       "      <th>text</th>\n",
       "      <th>speaker</th>\n",
       "      <th>reply_to</th>\n",
       "      <th>conversation_id</th>\n",
       "    </tr>\n",
       "    <tr>\n",
       "      <th>id</th>\n",
       "      <th></th>\n",
       "      <th></th>\n",
       "      <th></th>\n",
       "      <th></th>\n",
       "      <th></th>\n",
       "    </tr>\n",
       "  </thead>\n",
       "  <tbody>\n",
       "    <tr>\n",
       "      <th>fjzkmsj</th>\n",
       "      <td>1583721964</td>\n",
       "      <td>Looking marvelous!</td>\n",
       "      <td>oxfordthethird</td>\n",
       "      <td>ffnxmi</td>\n",
       "      <td>ffnxmi</td>\n",
       "    </tr>\n",
       "    <tr>\n",
       "      <th>fjzkxst</th>\n",
       "      <td>1583722178</td>\n",
       "      <td>Your smile is so precious! 💖</td>\n",
       "      <td>theatregirl2001</td>\n",
       "      <td>ffnxmi</td>\n",
       "      <td>ffnxmi</td>\n",
       "    </tr>\n",
       "    <tr>\n",
       "      <th>fjzl8ho</th>\n",
       "      <td>1583722388</td>\n",
       "      <td>You have pretty eyes.</td>\n",
       "      <td>fantome_ecrivain</td>\n",
       "      <td>ffnxmi</td>\n",
       "      <td>ffnxmi</td>\n",
       "    </tr>\n",
       "    <tr>\n",
       "      <th>fjzpttj</th>\n",
       "      <td>1583725817</td>\n",
       "      <td>Well, you have a lot to be proud of.\\n\\n- Hair...</td>\n",
       "      <td>Skarcastic</td>\n",
       "      <td>ffnxmi</td>\n",
       "      <td>ffnxmi</td>\n",
       "    </tr>\n",
       "    <tr>\n",
       "      <th>fk02vci</th>\n",
       "      <td>1583739232</td>\n",
       "      <td>Bring nice to yourself is the hardest fucking ...</td>\n",
       "      <td>toasterguy1111</td>\n",
       "      <td>ffnxmi</td>\n",
       "      <td>ffnxmi</td>\n",
       "    </tr>\n",
       "  </tbody>\n",
       "</table>\n",
       "</div>"
      ],
      "text/plain": [
       "          timestamp                                               text  \\\n",
       "id                                                                       \n",
       "fjzkmsj  1583721964                                 Looking marvelous!   \n",
       "fjzkxst  1583722178                       Your smile is so precious! 💖   \n",
       "fjzl8ho  1583722388                              You have pretty eyes.   \n",
       "fjzpttj  1583725817  Well, you have a lot to be proud of.\\n\\n- Hair...   \n",
       "fk02vci  1583739232  Bring nice to yourself is the hardest fucking ...   \n",
       "\n",
       "                  speaker reply_to conversation_id  \n",
       "id                                                  \n",
       "fjzkmsj    oxfordthethird   ffnxmi          ffnxmi  \n",
       "fjzkxst   theatregirl2001   ffnxmi          ffnxmi  \n",
       "fjzl8ho  fantome_ecrivain   ffnxmi          ffnxmi  \n",
       "fjzpttj        Skarcastic   ffnxmi          ffnxmi  \n",
       "fk02vci    toasterguy1111   ffnxmi          ffnxmi  "
      ]
     },
     "execution_count": 28,
     "metadata": {},
     "output_type": "execute_result"
    }
   ],
   "source": [
    "utt_df.head()"
   ]
  },
  {
   "cell_type": "code",
   "execution_count": null,
   "id": "f85b3eab",
   "metadata": {},
   "outputs": [],
   "source": []
  }
 ],
 "metadata": {
  "kernelspec": {
   "display_name": "Python 3 (ipykernel)",
   "language": "python",
   "name": "python3"
  },
  "language_info": {
   "codemirror_mode": {
    "name": "ipython",
    "version": 3
   },
   "file_extension": ".py",
   "mimetype": "text/x-python",
   "name": "python",
   "nbconvert_exporter": "python",
   "pygments_lexer": "ipython3",
   "version": "3.9.7"
  }
 },
 "nbformat": 4,
 "nbformat_minor": 5
}
