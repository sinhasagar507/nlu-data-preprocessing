{
 "cells": [
  {
   "cell_type": "code",
   "execution_count": 29,
   "id": "42bb0dc3",
   "metadata": {},
   "outputs": [],
   "source": [
    "try:\n",
    "    import re\n",
    "    import numpy as np\n",
    "    import pandas as pd\n",
    "    from typing import List\n",
    "    from pandas import DataFrame\n",
    "    from tqdm import tqdm\n",
    "    from time import time\n",
    "    from convokit import Corpus, download\n",
    "except Exception as e:\n",
    "    print(e)"
   ]
  },
  {
   "cell_type": "code",
   "execution_count": 30,
   "id": "8120e6b3",
   "metadata": {},
   "outputs": [],
   "source": [
    "# Load the modified corpora \n",
    "corpus = Corpus(\"mens-rights-2018-transformed-3\")"
   ]
  },
  {
   "cell_type": "code",
   "execution_count": 31,
   "id": "faec0b2d",
   "metadata": {},
   "outputs": [],
   "source": [
    "# Create a conversation-level dictionary \n",
    "conv_metadata_agg = {}"
   ]
  },
  {
   "cell_type": "code",
   "execution_count": 32,
   "id": "fa9b0b16",
   "metadata": {},
   "outputs": [],
   "source": [
    "# Load the utterance dataframe \n",
    "utt_df = corpus.get_utterances_dataframe().drop(\"vectors\", axis = 1)\n",
    "# utt_df_grouped = utt_df.groupby(by = \"conversation_id\", as_index = True).agg({\"meta.hedges_modals\": [\"sum\"]})"
   ]
  },
  {
   "cell_type": "code",
   "execution_count": 37,
   "id": "71b7723e",
   "metadata": {},
   "outputs": [
    {
     "data": {
      "text/html": [
       "<div>\n",
       "<style scoped>\n",
       "    .dataframe tbody tr th:only-of-type {\n",
       "        vertical-align: middle;\n",
       "    }\n",
       "\n",
       "    .dataframe tbody tr th {\n",
       "        vertical-align: top;\n",
       "    }\n",
       "\n",
       "    .dataframe thead th {\n",
       "        text-align: right;\n",
       "    }\n",
       "</style>\n",
       "<table border=\"1\" class=\"dataframe\">\n",
       "  <thead>\n",
       "    <tr style=\"text-align: right;\">\n",
       "      <th></th>\n",
       "      <th>timestamp</th>\n",
       "      <th>text</th>\n",
       "      <th>speaker</th>\n",
       "      <th>reply_to</th>\n",
       "      <th>conversation_id</th>\n",
       "      <th>meta.lowercase_text</th>\n",
       "      <th>meta.sentiment_polarity</th>\n",
       "      <th>meta.normalized_hedge_cnt</th>\n",
       "      <th>meta.normalized_groupRef_cnt</th>\n",
       "      <th>meta.subjectivity_score</th>\n",
       "      <th>meta.politeness_markers</th>\n",
       "      <th>negative_polarity</th>\n",
       "      <th>positive_polarity</th>\n",
       "      <th>neutral_polarity</th>\n",
       "      <th>gratitude</th>\n",
       "      <th>deference</th>\n",
       "      <th>greeting</th>\n",
       "      <th>positive_lexicon</th>\n",
       "      <th>apologizing</th>\n",
       "      <th>please</th>\n",
       "    </tr>\n",
       "    <tr>\n",
       "      <th>id</th>\n",
       "      <th></th>\n",
       "      <th></th>\n",
       "      <th></th>\n",
       "      <th></th>\n",
       "      <th></th>\n",
       "      <th></th>\n",
       "      <th></th>\n",
       "      <th></th>\n",
       "      <th></th>\n",
       "      <th></th>\n",
       "      <th></th>\n",
       "      <th></th>\n",
       "      <th></th>\n",
       "      <th></th>\n",
       "      <th></th>\n",
       "      <th></th>\n",
       "      <th></th>\n",
       "      <th></th>\n",
       "      <th></th>\n",
       "      <th></th>\n",
       "    </tr>\n",
       "  </thead>\n",
       "  <tbody>\n",
       "    <tr>\n",
       "      <th>dsdpaj9</th>\n",
       "      <td>1515441265</td>\n",
       "      <td>Nothing wrong with sex.</td>\n",
       "      <td>ee4m</td>\n",
       "      <td>7p12k7</td>\n",
       "      <td>7p12k7</td>\n",
       "      <td>Nothing wrong with sex.</td>\n",
       "      <td>{'neg': 0.0, 'neu': 0.54, 'pos': 0.46, 'compou...</td>\n",
       "      <td>0.0</td>\n",
       "      <td>0.0</td>\n",
       "      <td>0.9</td>\n",
       "      <td>{'feature_politeness_==Please==': 0, 'feature_...</td>\n",
       "      <td>0.0</td>\n",
       "      <td>0.46</td>\n",
       "      <td>0.54</td>\n",
       "      <td>0</td>\n",
       "      <td>0</td>\n",
       "      <td>0</td>\n",
       "      <td>0</td>\n",
       "      <td>0</td>\n",
       "      <td>0</td>\n",
       "    </tr>\n",
       "    <tr>\n",
       "      <th>dsdpgka</th>\n",
       "      <td>1515441436</td>\n",
       "      <td>Amount of sexual partners for women before mar...</td>\n",
       "      <td>FyrW</td>\n",
       "      <td>dsdpaj9</td>\n",
       "      <td>7p12k7</td>\n",
       "      <td>Amount of sexual partners for women before mar...</td>\n",
       "      <td>{'neg': 0.164, 'neu': 0.682, 'pos': 0.155, 'co...</td>\n",
       "      <td>0.0</td>\n",
       "      <td>0.0</td>\n",
       "      <td>0.689394</td>\n",
       "      <td>{'feature_politeness_==Please==': 0, 'feature_...</td>\n",
       "      <td>0.164</td>\n",
       "      <td>0.155</td>\n",
       "      <td>0.682</td>\n",
       "      <td>0</td>\n",
       "      <td>0</td>\n",
       "      <td>0</td>\n",
       "      <td>1</td>\n",
       "      <td>0</td>\n",
       "      <td>0</td>\n",
       "    </tr>\n",
       "    <tr>\n",
       "      <th>dsdpqf5</th>\n",
       "      <td>1515441710</td>\n",
       "      <td>Sure, thats a non brainer. People that like se...</td>\n",
       "      <td>ee4m</td>\n",
       "      <td>dsdpgka</td>\n",
       "      <td>7p12k7</td>\n",
       "      <td>Sure, thats a non brainer. People that like se...</td>\n",
       "      <td>{'neg': 0.0, 'neu': 0.783, 'pos': 0.217, 'comp...</td>\n",
       "      <td>0.005263</td>\n",
       "      <td>0.0</td>\n",
       "      <td>0.732222</td>\n",
       "      <td>{'feature_politeness_==Please==': 0, 'feature_...</td>\n",
       "      <td>0.0</td>\n",
       "      <td>0.217</td>\n",
       "      <td>0.783</td>\n",
       "      <td>0</td>\n",
       "      <td>0</td>\n",
       "      <td>0</td>\n",
       "      <td>1</td>\n",
       "      <td>0</td>\n",
       "      <td>0</td>\n",
       "    </tr>\n",
       "    <tr>\n",
       "      <th>dsdprlw</th>\n",
       "      <td>1515441742</td>\n",
       "      <td>A lock that opens for any key is useless.\\n\\nA...</td>\n",
       "      <td>ItSeemedObvious</td>\n",
       "      <td>7p12k7</td>\n",
       "      <td>7p12k7</td>\n",
       "      <td>A lock that opens for any key is useless.\\n\\nA...</td>\n",
       "      <td>{'neg': 0.149, 'neu': 0.851, 'pos': 0.0, 'comp...</td>\n",
       "      <td>0.0</td>\n",
       "      <td>0.0</td>\n",
       "      <td>0.8</td>\n",
       "      <td>{'feature_politeness_==Please==': 0, 'feature_...</td>\n",
       "      <td>0.149</td>\n",
       "      <td>0.0</td>\n",
       "      <td>0.851</td>\n",
       "      <td>0</td>\n",
       "      <td>0</td>\n",
       "      <td>0</td>\n",
       "      <td>1</td>\n",
       "      <td>0</td>\n",
       "      <td>0</td>\n",
       "    </tr>\n",
       "    <tr>\n",
       "      <th>dsdq5c6</th>\n",
       "      <td>1515442132</td>\n",
       "      <td>&amp;gt; People that like sex like sex so are more...</td>\n",
       "      <td>FyrW</td>\n",
       "      <td>dsdpqf5</td>\n",
       "      <td>7p12k7</td>\n",
       "      <td>&amp;gt; People that like sex like sex so are more...</td>\n",
       "      <td>{'neg': 0.0, 'neu': 0.808, 'pos': 0.192, 'comp...</td>\n",
       "      <td>0.008065</td>\n",
       "      <td>0.0</td>\n",
       "      <td>0.541667</td>\n",
       "      <td>{'feature_politeness_==Please==': 0, 'feature_...</td>\n",
       "      <td>0.0</td>\n",
       "      <td>0.192</td>\n",
       "      <td>0.808</td>\n",
       "      <td>0</td>\n",
       "      <td>0</td>\n",
       "      <td>0</td>\n",
       "      <td>1</td>\n",
       "      <td>0</td>\n",
       "      <td>0</td>\n",
       "    </tr>\n",
       "  </tbody>\n",
       "</table>\n",
       "</div>"
      ],
      "text/plain": [
       "          timestamp                                               text  \\\n",
       "id                                                                       \n",
       "dsdpaj9  1515441265                            Nothing wrong with sex.   \n",
       "dsdpgka  1515441436  Amount of sexual partners for women before mar...   \n",
       "dsdpqf5  1515441710  Sure, thats a non brainer. People that like se...   \n",
       "dsdprlw  1515441742  A lock that opens for any key is useless.\\n\\nA...   \n",
       "dsdq5c6  1515442132  &gt; People that like sex like sex so are more...   \n",
       "\n",
       "                 speaker reply_to conversation_id  \\\n",
       "id                                                  \n",
       "dsdpaj9             ee4m   7p12k7          7p12k7   \n",
       "dsdpgka             FyrW  dsdpaj9          7p12k7   \n",
       "dsdpqf5             ee4m  dsdpgka          7p12k7   \n",
       "dsdprlw  ItSeemedObvious   7p12k7          7p12k7   \n",
       "dsdq5c6             FyrW  dsdpqf5          7p12k7   \n",
       "\n",
       "                                       meta.lowercase_text  \\\n",
       "id                                                           \n",
       "dsdpaj9                            Nothing wrong with sex.   \n",
       "dsdpgka  Amount of sexual partners for women before mar...   \n",
       "dsdpqf5  Sure, thats a non brainer. People that like se...   \n",
       "dsdprlw  A lock that opens for any key is useless.\\n\\nA...   \n",
       "dsdq5c6  &gt; People that like sex like sex so are more...   \n",
       "\n",
       "                                   meta.sentiment_polarity  \\\n",
       "id                                                           \n",
       "dsdpaj9  {'neg': 0.0, 'neu': 0.54, 'pos': 0.46, 'compou...   \n",
       "dsdpgka  {'neg': 0.164, 'neu': 0.682, 'pos': 0.155, 'co...   \n",
       "dsdpqf5  {'neg': 0.0, 'neu': 0.783, 'pos': 0.217, 'comp...   \n",
       "dsdprlw  {'neg': 0.149, 'neu': 0.851, 'pos': 0.0, 'comp...   \n",
       "dsdq5c6  {'neg': 0.0, 'neu': 0.808, 'pos': 0.192, 'comp...   \n",
       "\n",
       "        meta.normalized_hedge_cnt meta.normalized_groupRef_cnt  \\\n",
       "id                                                               \n",
       "dsdpaj9                       0.0                          0.0   \n",
       "dsdpgka                       0.0                          0.0   \n",
       "dsdpqf5                  0.005263                          0.0   \n",
       "dsdprlw                       0.0                          0.0   \n",
       "dsdq5c6                  0.008065                          0.0   \n",
       "\n",
       "        meta.subjectivity_score  \\\n",
       "id                                \n",
       "dsdpaj9                     0.9   \n",
       "dsdpgka                0.689394   \n",
       "dsdpqf5                0.732222   \n",
       "dsdprlw                     0.8   \n",
       "dsdq5c6                0.541667   \n",
       "\n",
       "                                   meta.politeness_markers negative_polarity  \\\n",
       "id                                                                             \n",
       "dsdpaj9  {'feature_politeness_==Please==': 0, 'feature_...               0.0   \n",
       "dsdpgka  {'feature_politeness_==Please==': 0, 'feature_...             0.164   \n",
       "dsdpqf5  {'feature_politeness_==Please==': 0, 'feature_...               0.0   \n",
       "dsdprlw  {'feature_politeness_==Please==': 0, 'feature_...             0.149   \n",
       "dsdq5c6  {'feature_politeness_==Please==': 0, 'feature_...               0.0   \n",
       "\n",
       "        positive_polarity neutral_polarity gratitude deference greeting  \\\n",
       "id                                                                        \n",
       "dsdpaj9              0.46             0.54         0         0        0   \n",
       "dsdpgka             0.155            0.682         0         0        0   \n",
       "dsdpqf5             0.217            0.783         0         0        0   \n",
       "dsdprlw               0.0            0.851         0         0        0   \n",
       "dsdq5c6             0.192            0.808         0         0        0   \n",
       "\n",
       "        positive_lexicon apologizing please  \n",
       "id                                           \n",
       "dsdpaj9                0           0      0  \n",
       "dsdpgka                1           0      0  \n",
       "dsdpqf5                1           0      0  \n",
       "dsdprlw                1           0      0  \n",
       "dsdq5c6                1           0      0  "
      ]
     },
     "execution_count": 37,
     "metadata": {},
     "output_type": "execute_result"
    }
   ],
   "source": [
    "utt_df.head()"
   ]
  },
  {
   "cell_type": "code",
   "execution_count": 35,
   "id": "a6dd16fd",
   "metadata": {},
   "outputs": [
    {
     "name": "stderr",
     "output_type": "stream",
     "text": [
      "100%|█████████████████████████████████████████████████████████████████████████████| 5059/5059 [00:07<00:00, 690.39it/s]"
     ]
    },
    {
     "name": "stdout",
     "output_type": "stream",
     "text": [
      "Wall time: 7.33 s\n"
     ]
    },
    {
     "name": "stderr",
     "output_type": "stream",
     "text": [
      "\n"
     ]
    }
   ],
   "source": [
    "%%time\n",
    "utt_df[\"negative_polarity\"] = \"None\"\n",
    "utt_df[\"positive_polarity\"] = \"None\"\n",
    "utt_df[\"neutral_polarity\"] = \"None\"\n",
    "utt_df[\"gratitude\"] = \"None\"\n",
    "utt_df[\"deference\"] = \"None\"\n",
    "utt_df[\"greeting\"] = \"None\"\n",
    "utt_df[\"positive_lexicon\"] = \"None\"\n",
    "utt_df[\"apologizing\"] = \"None\"\n",
    "utt_df[\"please\"] = \"None\"\n",
    "\n",
    "\n",
    "for idx in tqdm(utt_df.index):\n",
    "    utt_df.loc[idx, \"negative_polarity\"] = utt_df.loc[idx, \"meta.sentiment_polarity\"][\"neg\"]\n",
    "    utt_df.loc[idx, \"positive_polarity\"] = utt_df.loc[idx, \"meta.sentiment_polarity\"][\"pos\"]\n",
    "    utt_df.loc[idx, \"neutral_polarity\"]  = utt_df.loc[idx, \"meta.sentiment_polarity\"][\"neu\"]\n",
    "    utt_df.loc[idx, \"gratitude\"]         = utt_df.loc[idx, \"meta.politeness_markers\"][\"feature_politeness_==Gratitude==\"]\n",
    "    utt_df.loc[idx, \"deference\"]         = utt_df.loc[idx, \"meta.politeness_markers\"][\"feature_politeness_==Deference==\"]\n",
    "    utt_df.loc[idx, \"greeting\"]          = utt_df.loc[idx, \"meta.politeness_markers\"][\"feature_politeness_==Indirect_(greeting)==\"]\n",
    "    utt_df.loc[idx, \"positive_lexicon\"]  = utt_df.loc[idx, \"meta.politeness_markers\"][\"feature_politeness_==HASPOSITIVE==\"]\n",
    "    utt_df.loc[idx, \"apologizing\"]       = utt_df.loc[idx, \"meta.politeness_markers\"][\"feature_politeness_==Apologizing==\"]\n",
    "    utt_df.loc[idx, \"please\"]            = utt_df.loc[idx, \"meta.politeness_markers\"][\"feature_politeness_==Please==\"]\n",
    "\n",
    "    # utt_df.loc[idx, \"negative_polarity\"] = utt_df.loc[idx\"meta.sentiment_polarity\"][\"neg\"]"
   ]
  },
  {
   "cell_type": "code",
   "execution_count": 6,
   "id": "bbc1f657",
   "metadata": {},
   "outputs": [
    {
     "data": {
      "text/plain": [
       "0.000000    2643\n",
       "0.008130      13\n",
       "0.011905      12\n",
       "0.009259      12\n",
       "0.009174      12\n",
       "            ... \n",
       "0.003419       1\n",
       "0.003255       1\n",
       "0.012212       1\n",
       "0.007776       1\n",
       "0.010169       1\n",
       "Name: meta.normalized_hedge_cnt, Length: 1137, dtype: int64"
      ]
     },
     "execution_count": 6,
     "metadata": {},
     "output_type": "execute_result"
    }
   ],
   "source": [
    "utt_df[\"meta.normalized_hedge_cnt\"].value_counts()"
   ]
  },
  {
   "cell_type": "code",
   "execution_count": 174,
   "id": "1421fea3",
   "metadata": {},
   "outputs": [
    {
     "data": {
      "text/plain": [
       "0    4946\n",
       "1     113\n",
       "Name: gratitude, dtype: int64"
      ]
     },
     "execution_count": 174,
     "metadata": {},
     "output_type": "execute_result"
    }
   ],
   "source": [
    "utt_df[\"gratitude\"].value_counts()"
   ]
  },
  {
   "cell_type": "code",
   "execution_count": 175,
   "id": "29f66c98",
   "metadata": {},
   "outputs": [
    {
     "data": {
      "text/plain": [
       "1    2868\n",
       "0    2191\n",
       "Name: positive_lexicon, dtype: int64"
      ]
     },
     "execution_count": 175,
     "metadata": {},
     "output_type": "execute_result"
    }
   ],
   "source": [
    "utt_df[\"positive_lexicon\"].value_counts()"
   ]
  },
  {
   "cell_type": "code",
   "execution_count": 176,
   "id": "31184e35",
   "metadata": {},
   "outputs": [
    {
     "data": {
      "text/plain": [
       "0    4995\n",
       "1      64\n",
       "Name: apologizing, dtype: int64"
      ]
     },
     "execution_count": 176,
     "metadata": {},
     "output_type": "execute_result"
    }
   ],
   "source": [
    "utt_df[\"apologizing\"].value_counts()"
   ]
  },
  {
   "cell_type": "code",
   "execution_count": 11,
   "id": "d0ed21c4",
   "metadata": {},
   "outputs": [
    {
     "data": {
      "text/plain": [
       "0"
      ]
     },
     "execution_count": 11,
     "metadata": {},
     "output_type": "execute_result"
    }
   ],
   "source": [
    "utt_df[\"meta.politeness_markers\"][0][\"feature_politeness_==Please==\"]"
   ]
  },
  {
   "cell_type": "code",
   "execution_count": 43,
   "id": "b50d21bd",
   "metadata": {},
   "outputs": [],
   "source": [
    "utt_df_grouped = utt_df.groupby(by = \"conversation_id\", as_index = True).agg({\"meta.normalized_hedge_cnt\": [\"mean\"], \"meta.normalized_groupRef_cnt\": [\"mean\"], \"meta.subjectivity_score\": [\"mean\"], \"negative_polarity\": [\"mean\"], \"positive_polarity\": [\"mean\"], \"neutral_polarity\": [\"mean\"], \"gratitude\": [\"sum\"], \"deference\": [\"sum\"], \"greeting\": [\"sum\"], \"positive_lexicon\": [\"sum\"], \"apologizing\": [\"sum\"], \"please\": [\"sum\"]})"
   ]
  },
  {
   "cell_type": "code",
   "execution_count": 48,
   "id": "945cfd02",
   "metadata": {},
   "outputs": [],
   "source": [
    "utt_df_grouped = utt_df_grouped.reset_index()"
   ]
  },
  {
   "cell_type": "code",
   "execution_count": 50,
   "id": "eecee680",
   "metadata": {},
   "outputs": [
    {
     "data": {
      "text/plain": [
       "MultiIndex([(             'conversation_id',     ''),\n",
       "            (   'meta.normalized_hedge_cnt', 'mean'),\n",
       "            ('meta.normalized_groupRef_cnt', 'mean'),\n",
       "            (     'meta.subjectivity_score', 'mean'),\n",
       "            (           'negative_polarity', 'mean'),\n",
       "            (           'positive_polarity', 'mean'),\n",
       "            (            'neutral_polarity', 'mean'),\n",
       "            (                   'gratitude',  'sum'),\n",
       "            (                   'deference',  'sum'),\n",
       "            (                    'greeting',  'sum'),\n",
       "            (            'positive_lexicon',  'sum'),\n",
       "            (                 'apologizing',  'sum'),\n",
       "            (                      'please',  'sum')],\n",
       "           )"
      ]
     },
     "execution_count": 50,
     "metadata": {},
     "output_type": "execute_result"
    }
   ],
   "source": [
    "utt_df_grouped.columns"
   ]
  },
  {
   "cell_type": "code",
   "execution_count": 53,
   "id": "bc8ccfe5",
   "metadata": {},
   "outputs": [
    {
     "name": "stderr",
     "output_type": "stream",
     "text": [
      "198it [00:00, 988.96it/s]\n"
     ]
    }
   ],
   "source": [
    "for idx, row in tqdm(utt_df_grouped.iterrows()):\n",
    "    conv_id = str(row[\"conversation_id\"].values[0])\n",
    "    conv_metadata_agg[conv_id] = {}\n",
    "    conv_metadata_agg[conv_id][\"normalized_hedge_cnt\"] = round(row[\"meta.normalized_hedge_cnt\"].values[0], 3)\n",
    "    conv_metadata_agg[conv_id][\"normalized_groupRef_cnt\"] = round(row[\"meta.normalized_groupRef_cnt\"].values[0], 3)\n",
    "    conv_metadata_agg[conv_id][\"normalized_subjectivity_score\"] = round(row[\"meta.subjectivity_score\"].values[0], 3)\n",
    "    conv_metadata_agg[conv_id][\"normalized_negative_polarity\"] = round(row[\"negative_polarity\"].values[0], 3)\n",
    "    conv_metadata_agg[conv_id][\"normalized_positive_polarity\"] = round(row[\"positive_polarity\"].values[0], 3)\n",
    "    conv_metadata_agg[conv_id][\"normalized_neutral_polarity\"] = round(row[\"neutral_polarity\"].values[0], 3)\n",
    "    conv_metadata_agg[conv_id][\"gratitude\"] = row[\"gratitude\"].values[0]\n",
    "    conv_metadata_agg[conv_id][\"deference\"] = row[\"deference\"].values[0]\n",
    "    conv_metadata_agg[conv_id][\"greeting\"] = row[\"greeting\"].values[0]\n",
    "    conv_metadata_agg[conv_id][\"positive_lexicon\"] = row[\"positive_lexicon\"].values[0]\n",
    "    conv_metadata_agg[conv_id][\"apologizing\"] = row[\"apologizing\"].values[0]\n",
    "    conv_metadata_agg[conv_id][\"please\"] = row[\"please\"].values[0]"
   ]
  },
  {
   "cell_type": "code",
   "execution_count": 56,
   "id": "1e2d688b",
   "metadata": {},
   "outputs": [
    {
     "name": "stderr",
     "output_type": "stream",
     "text": [
      "100%|█████████████████████████████████████████████████████████████████████████████| 198/198 [00:00<00:00, 52346.18it/s]\n"
     ]
    }
   ],
   "source": [
    "for conv_id in tqdm(corpus.get_conversation_ids()):\n",
    "    convo = corpus.get_conversation(conv_id)\n",
    "    convo.add_meta(\"hedge_cnt\", conv_metadata_agg[conv_id][\"normalized_hedge_cnt\"])\n",
    "    convo.add_meta(\"normalized_groupRef_cnt\", conv_metadata_agg[conv_id][\"normalized_groupRef_cnt\"])\n",
    "    convo.add_meta(\"normalized_subjectivity_score\", conv_metadata_agg[conv_id][\"normalized_subjectivity_score\"])\n",
    "    convo.add_meta(\"normalized_negative_polarity\", conv_metadata_agg[conv_id][\"normalized_negative_polarity\"])\n",
    "    convo.add_meta(\"normalized_positive_polarity\", conv_metadata_agg[conv_id][\"normalized_positive_polarity\"])\n",
    "    convo.add_meta(\"normalized_neutral_polarity\", conv_metadata_agg[conv_id][\"normalized_neutral_polarity\"])\n",
    "    convo.add_meta(\"gratitude\", conv_metadata_agg[conv_id][\"gratitude\"])\n",
    "    convo.add_meta(\"deference\", conv_metadata_agg[conv_id][\"deference\"])\n",
    "    convo.add_meta(\"greeting\", conv_metadata_agg[conv_id][\"greeting\"])\n",
    "    convo.add_meta(\"positive_lexicon\", conv_metadata_agg[conv_id][\"positive_lexicon\"])\n",
    "    convo.add_meta(\"apologizing\", conv_metadata_agg[conv_id][\"apologizing\"])\n",
    "    convo.add_meta(\"please\", conv_metadata_agg[conv_id][\"please\"])"
   ]
  },
  {
   "cell_type": "code",
   "execution_count": 57,
   "id": "09a09e41",
   "metadata": {},
   "outputs": [
    {
     "data": {
      "text/plain": [
       "Conversation({'obj_type': 'conversation', 'meta': {'hedge_cnt': 0.006, 'normalized_groupRef_cnt': 0.002, 'normalized_subjectivity_score': 0.424, 'normalized_negative_polarity': 0.155, 'normalized_positive_polarity': 0.095, 'normalized_neutral_polarity': 0.75, 'gratitude': 0, 'deference': 0, 'greeting': 1, 'positive_lexicon': 19, 'apologizing': 0, 'please': 0}, 'vectors': [], 'tree': None, 'owner': <convokit.model.corpus.Corpus object at 0x000001B58E9B1070>, 'id': '9ixsmo'})"
      ]
     },
     "execution_count": 57,
     "metadata": {},
     "output_type": "execute_result"
    }
   ],
   "source": [
    "corpus.random_conversation()"
   ]
  },
  {
   "cell_type": "code",
   "execution_count": 58,
   "id": "3d8a4b09",
   "metadata": {},
   "outputs": [],
   "source": [
    "corpus = \"mens-rights-2018-transformed-final\"    # Store final dataframe to corpus \n",
    "base_path = \"C:\\Sagar Study\\ML and Learning\\CP Sem-8\\Data\\Reddit\\saved-corpora\"\n",
    "corpus.dump(CORPUS_NAME, base_path=BASE_PATH)    # Dump corpus and load "
   ]
  },
  {
   "cell_type": "code",
   "execution_count": null,
   "id": "1c3c29e1",
   "metadata": {},
   "outputs": [],
   "source": [
    "# Round off the values in the next iteration if required "
   ]
  },
  {
   "cell_type": "code",
   "execution_count": 65,
   "id": "fdf9fab3",
   "metadata": {},
   "outputs": [
    {
     "data": {
      "text/html": [
       "<div>\n",
       "<style scoped>\n",
       "    .dataframe tbody tr th:only-of-type {\n",
       "        vertical-align: middle;\n",
       "    }\n",
       "\n",
       "    .dataframe tbody tr th {\n",
       "        vertical-align: top;\n",
       "    }\n",
       "\n",
       "    .dataframe thead tr th {\n",
       "        text-align: left;\n",
       "    }\n",
       "</style>\n",
       "<table border=\"1\" class=\"dataframe\">\n",
       "  <thead>\n",
       "    <tr>\n",
       "      <th></th>\n",
       "      <th>conversation_id</th>\n",
       "      <th>meta.normalized_hedge_cnt</th>\n",
       "      <th>meta.normalized_groupRef_cnt</th>\n",
       "      <th>meta.subjectivity_score</th>\n",
       "      <th>negative_polarity</th>\n",
       "      <th>positive_polarity</th>\n",
       "      <th>neutral_polarity</th>\n",
       "      <th>gratitude</th>\n",
       "      <th>deference</th>\n",
       "      <th>greeting</th>\n",
       "      <th>positive_lexicon</th>\n",
       "      <th>apologizing</th>\n",
       "      <th>please</th>\n",
       "    </tr>\n",
       "    <tr>\n",
       "      <th></th>\n",
       "      <th></th>\n",
       "      <th>mean</th>\n",
       "      <th>mean</th>\n",
       "      <th>mean</th>\n",
       "      <th>mean</th>\n",
       "      <th>mean</th>\n",
       "      <th>mean</th>\n",
       "      <th>sum</th>\n",
       "      <th>sum</th>\n",
       "      <th>sum</th>\n",
       "      <th>sum</th>\n",
       "      <th>sum</th>\n",
       "      <th>sum</th>\n",
       "    </tr>\n",
       "  </thead>\n",
       "  <tbody>\n",
       "    <tr>\n",
       "      <th>0</th>\n",
       "      <td>7nqhhh</td>\n",
       "      <td>0.003259</td>\n",
       "      <td>0.002337</td>\n",
       "      <td>0.484500</td>\n",
       "      <td>0.150000</td>\n",
       "      <td>0.084733</td>\n",
       "      <td>0.765267</td>\n",
       "      <td>0</td>\n",
       "      <td>0</td>\n",
       "      <td>0</td>\n",
       "      <td>14</td>\n",
       "      <td>0</td>\n",
       "      <td>0</td>\n",
       "    </tr>\n",
       "    <tr>\n",
       "      <th>1</th>\n",
       "      <td>7p0kio</td>\n",
       "      <td>0.002386</td>\n",
       "      <td>0.001937</td>\n",
       "      <td>0.401424</td>\n",
       "      <td>0.094000</td>\n",
       "      <td>0.155778</td>\n",
       "      <td>0.750148</td>\n",
       "      <td>2</td>\n",
       "      <td>1</td>\n",
       "      <td>1</td>\n",
       "      <td>18</td>\n",
       "      <td>1</td>\n",
       "      <td>0</td>\n",
       "    </tr>\n",
       "    <tr>\n",
       "      <th>2</th>\n",
       "      <td>7p12k7</td>\n",
       "      <td>0.003929</td>\n",
       "      <td>0.002023</td>\n",
       "      <td>0.429483</td>\n",
       "      <td>0.081000</td>\n",
       "      <td>0.130108</td>\n",
       "      <td>0.788973</td>\n",
       "      <td>0</td>\n",
       "      <td>0</td>\n",
       "      <td>0</td>\n",
       "      <td>23</td>\n",
       "      <td>0</td>\n",
       "      <td>1</td>\n",
       "    </tr>\n",
       "    <tr>\n",
       "      <th>3</th>\n",
       "      <td>7p8w00</td>\n",
       "      <td>0.002292</td>\n",
       "      <td>0.002073</td>\n",
       "      <td>0.491247</td>\n",
       "      <td>0.095500</td>\n",
       "      <td>0.189611</td>\n",
       "      <td>0.714944</td>\n",
       "      <td>3</td>\n",
       "      <td>0</td>\n",
       "      <td>0</td>\n",
       "      <td>12</td>\n",
       "      <td>0</td>\n",
       "      <td>0</td>\n",
       "    </tr>\n",
       "    <tr>\n",
       "      <th>4</th>\n",
       "      <td>7pga9k</td>\n",
       "      <td>0.004131</td>\n",
       "      <td>0.001629</td>\n",
       "      <td>0.456200</td>\n",
       "      <td>0.103400</td>\n",
       "      <td>0.172250</td>\n",
       "      <td>0.724300</td>\n",
       "      <td>2</td>\n",
       "      <td>1</td>\n",
       "      <td>0</td>\n",
       "      <td>26</td>\n",
       "      <td>0</td>\n",
       "      <td>1</td>\n",
       "    </tr>\n",
       "    <tr>\n",
       "      <th>5</th>\n",
       "      <td>7pmu73</td>\n",
       "      <td>0.004768</td>\n",
       "      <td>0.001748</td>\n",
       "      <td>0.468359</td>\n",
       "      <td>0.100974</td>\n",
       "      <td>0.155684</td>\n",
       "      <td>0.743500</td>\n",
       "      <td>1</td>\n",
       "      <td>2</td>\n",
       "      <td>0</td>\n",
       "      <td>25</td>\n",
       "      <td>1</td>\n",
       "      <td>0</td>\n",
       "    </tr>\n",
       "    <tr>\n",
       "      <th>6</th>\n",
       "      <td>7psab9</td>\n",
       "      <td>0.002646</td>\n",
       "      <td>0.001941</td>\n",
       "      <td>0.463084</td>\n",
       "      <td>0.122250</td>\n",
       "      <td>0.133375</td>\n",
       "      <td>0.744375</td>\n",
       "      <td>0</td>\n",
       "      <td>0</td>\n",
       "      <td>0</td>\n",
       "      <td>9</td>\n",
       "      <td>0</td>\n",
       "      <td>0</td>\n",
       "    </tr>\n",
       "    <tr>\n",
       "      <th>7</th>\n",
       "      <td>7qmo76</td>\n",
       "      <td>0.005702</td>\n",
       "      <td>0.002868</td>\n",
       "      <td>0.455881</td>\n",
       "      <td>0.209765</td>\n",
       "      <td>0.086941</td>\n",
       "      <td>0.703294</td>\n",
       "      <td>0</td>\n",
       "      <td>0</td>\n",
       "      <td>0</td>\n",
       "      <td>10</td>\n",
       "      <td>1</td>\n",
       "      <td>0</td>\n",
       "    </tr>\n",
       "    <tr>\n",
       "      <th>8</th>\n",
       "      <td>7rxpdo</td>\n",
       "      <td>0.004365</td>\n",
       "      <td>0.001782</td>\n",
       "      <td>0.457246</td>\n",
       "      <td>0.093207</td>\n",
       "      <td>0.106724</td>\n",
       "      <td>0.800172</td>\n",
       "      <td>0</td>\n",
       "      <td>0</td>\n",
       "      <td>0</td>\n",
       "      <td>13</td>\n",
       "      <td>0</td>\n",
       "      <td>0</td>\n",
       "    </tr>\n",
       "    <tr>\n",
       "      <th>9</th>\n",
       "      <td>7slzj1</td>\n",
       "      <td>0.004420</td>\n",
       "      <td>0.002182</td>\n",
       "      <td>0.500114</td>\n",
       "      <td>0.122000</td>\n",
       "      <td>0.126333</td>\n",
       "      <td>0.751704</td>\n",
       "      <td>1</td>\n",
       "      <td>0</td>\n",
       "      <td>0</td>\n",
       "      <td>17</td>\n",
       "      <td>0</td>\n",
       "      <td>0</td>\n",
       "    </tr>\n",
       "  </tbody>\n",
       "</table>\n",
       "</div>"
      ],
      "text/plain": [
       "  conversation_id meta.normalized_hedge_cnt meta.normalized_groupRef_cnt  \\\n",
       "                                       mean                         mean   \n",
       "0          7nqhhh                  0.003259                     0.002337   \n",
       "1          7p0kio                  0.002386                     0.001937   \n",
       "2          7p12k7                  0.003929                     0.002023   \n",
       "3          7p8w00                  0.002292                     0.002073   \n",
       "4          7pga9k                  0.004131                     0.001629   \n",
       "5          7pmu73                  0.004768                     0.001748   \n",
       "6          7psab9                  0.002646                     0.001941   \n",
       "7          7qmo76                  0.005702                     0.002868   \n",
       "8          7rxpdo                  0.004365                     0.001782   \n",
       "9          7slzj1                  0.004420                     0.002182   \n",
       "\n",
       "  meta.subjectivity_score negative_polarity positive_polarity  \\\n",
       "                     mean              mean              mean   \n",
       "0                0.484500          0.150000          0.084733   \n",
       "1                0.401424          0.094000          0.155778   \n",
       "2                0.429483          0.081000          0.130108   \n",
       "3                0.491247          0.095500          0.189611   \n",
       "4                0.456200          0.103400          0.172250   \n",
       "5                0.468359          0.100974          0.155684   \n",
       "6                0.463084          0.122250          0.133375   \n",
       "7                0.455881          0.209765          0.086941   \n",
       "8                0.457246          0.093207          0.106724   \n",
       "9                0.500114          0.122000          0.126333   \n",
       "\n",
       "  neutral_polarity gratitude deference greeting positive_lexicon apologizing  \\\n",
       "              mean       sum       sum      sum              sum         sum   \n",
       "0         0.765267         0         0        0               14           0   \n",
       "1         0.750148         2         1        1               18           1   \n",
       "2         0.788973         0         0        0               23           0   \n",
       "3         0.714944         3         0        0               12           0   \n",
       "4         0.724300         2         1        0               26           0   \n",
       "5         0.743500         1         2        0               25           1   \n",
       "6         0.744375         0         0        0                9           0   \n",
       "7         0.703294         0         0        0               10           1   \n",
       "8         0.800172         0         0        0               13           0   \n",
       "9         0.751704         1         0        0               17           0   \n",
       "\n",
       "  please  \n",
       "     sum  \n",
       "0      0  \n",
       "1      0  \n",
       "2      1  \n",
       "3      0  \n",
       "4      1  \n",
       "5      0  \n",
       "6      0  \n",
       "7      0  \n",
       "8      0  \n",
       "9      0  "
      ]
     },
     "execution_count": 65,
     "metadata": {},
     "output_type": "execute_result"
    }
   ],
   "source": [
    "utt_df_grouped.head(n = 10)  # Print the first 10 rows "
   ]
  },
  {
   "cell_type": "code",
   "execution_count": 61,
   "id": "93b3bb83",
   "metadata": {},
   "outputs": [],
   "source": [
    "# for idx in utt_df_grouped.index:\n",
    "#     print(idx)\n",
    "#     utt_df_grouped.loc[idx, \"meta.hedges_modals\"].values[0]\n",
    "#     conv_metadata_agg[str(idx)] = utt_df_grouped.loc[idx, \"meta.hedges_modals\"].values[0]"
   ]
  },
  {
   "cell_type": "code",
   "execution_count": 29,
   "id": "2562e3c1",
   "metadata": {},
   "outputs": [],
   "source": [
    "# Re-index the dataframe \n",
    "# utt_df = utt_df.reset_index()\n",
    "# conv_grouped_df = utt_df.groupby([\"conversation_id\", \"id\"])\n",
    "# print(utt_df_sub[\"conv_hedges\"].nunique())"
   ]
  }
 ],
 "metadata": {
  "kernelspec": {
   "display_name": "Python 3 (ipykernel)",
   "language": "python",
   "name": "python3"
  },
  "language_info": {
   "codemirror_mode": {
    "name": "ipython",
    "version": 3
   },
   "file_extension": ".py",
   "mimetype": "text/x-python",
   "name": "python",
   "nbconvert_exporter": "python",
   "pygments_lexer": "ipython3",
   "version": "3.9.7"
  }
 },
 "nbformat": 4,
 "nbformat_minor": 5
}
