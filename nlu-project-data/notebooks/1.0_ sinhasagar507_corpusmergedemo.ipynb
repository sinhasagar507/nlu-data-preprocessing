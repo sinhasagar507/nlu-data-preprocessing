{
 "cells": [
  {
   "cell_type": "code",
   "execution_count": 1,
   "metadata": {},
   "outputs": [],
   "source": [
    "from convokit import Corpus, Utterance, Speaker"
   ]
  },
  {
   "cell_type": "markdown",
   "metadata": {},
   "source": [
    "## Merging two corpora"
   ]
  },
  {
   "cell_type": "markdown",
   "metadata": {},
   "source": [
    "Let's take a look at the characteristics of our input corpora before the merge. Apart from the summary statistics, notice that Speaker 'foxtrot' appears in both corpora. Moreover, it has Speaker metadata that is inconsistent.\n",
    "\n",
    "The root field in each Utterance indicates where a new Conversation begins. In this case, while there are 2 conversations in each corpus, 1 conversation (with root 2) is featured in both corpuses, so there are only 3 conversations in total."
   ]
  },
  {
   "cell_type": "markdown",
   "metadata": {},
   "source": [
    "### Corpus 1"
   ]
  },
  {
   "cell_type": "code",
   "execution_count": 3,
   "metadata": {},
   "outputs": [],
   "source": [
    "corpus1 = Corpus(utterances = [\n",
    "            Utterance(id=\"0\", conversation_id=\"0\", text=\"hello world\", speaker=Speaker(id=\"alice\")),\n",
    "            Utterance(id=\"1\", conversation_id=\"0\", reply_to=0, text=\"my name is bob\", speaker=Speaker(id=\"bob\")),\n",
    "            Utterance(id=\"2\", conversation_id=\"2\", text=\"this is a sentence\", speaker=Speaker(id=\"foxtrot\", meta={\"yellow\": \"food\"})),\n",
    "        ])"
   ]
  },
  {
   "cell_type": "code",
   "execution_count": 4,
   "metadata": {},
   "outputs": [
    {
     "name": "stdout",
     "output_type": "stream",
     "text": [
      "Number of Speakers: 3\n",
      "Number of Utterances: 3\n",
      "Number of Conversations: 2\n"
     ]
    }
   ],
   "source": [
    "corpus1.print_summary_stats()"
   ]
  },
  {
   "cell_type": "markdown",
   "metadata": {},
   "source": [
    "### Corpus 2"
   ]
  },
  {
   "cell_type": "code",
   "execution_count": 5,
   "metadata": {},
   "outputs": [],
   "source": [
    "corpus2 = Corpus(utterances = [\n",
    "            Utterance(id=\"3\", conversation_id=\"3\", text=\"i like pie\", speaker=Speaker(id=\"charlie\", meta={\"what\": \"a mood\", \"hey\": \"food\"})),\n",
    "            Utterance(id='4', conversation_id='3', reply_to=3, text=\"sentence galore\", speaker=Speaker(id=\"echo\")),\n",
    "            Utterance(id='2', conversation_id='2', text=\"this is a sentence\", speaker=Speaker(id=\"foxtrot\", meta={\"yellow\": \"mood\", \"hello\": \"world\"})),\n",
    "        ])"
   ]
  },
  {
   "cell_type": "code",
   "execution_count": 6,
   "metadata": {},
   "outputs": [
    {
     "name": "stdout",
     "output_type": "stream",
     "text": [
      "Number of Speakers: 3\n",
      "Number of Utterances: 3\n",
      "Number of Conversations: 2\n"
     ]
    }
   ],
   "source": [
    "corpus2.print_summary_stats()"
   ]
  },
  {
   "cell_type": "markdown",
   "metadata": {},
   "source": [
    "Let's attempt a merge:"
   ]
  },
  {
   "cell_type": "code",
   "execution_count": 7,
   "metadata": {},
   "outputs": [
    {
     "name": "stdout",
     "output_type": "stream",
     "text": [
      "\u001b[91mWARNING: \u001b[0mMultiple values found for Speaker(id: foxtrot, vectors: [], meta: {'yellow': 'food'}) for metadata key: 'yellow'. Taking the latest one found\n"
     ]
    }
   ],
   "source": [
    "corpus3 = corpus1.merge(corpus2)"
   ]
  },
  {
   "cell_type": "code",
   "execution_count": 8,
   "metadata": {},
   "outputs": [
    {
     "name": "stdout",
     "output_type": "stream",
     "text": [
      "Number of Speakers: 5\n",
      "Number of Utterances: 5\n",
      "Number of Conversations: 3\n"
     ]
    }
   ],
   "source": [
    "corpus3.print_summary_stats()"
   ]
  },
  {
   "cell_type": "code",
   "execution_count": 45,
   "metadata": {},
   "outputs": [
    {
     "data": {
      "text/plain": [
       "Speaker({'obj_type': 'speaker', 'meta': {'yellow': 'mood', 'hello': 'world'}, 'vectors': [], 'owner': <convokit.model.corpus.Corpus object at 0x0000025DDF08AC70>, 'id': 'foxtrot'})"
      ]
     },
     "execution_count": 45,
     "metadata": {},
     "output_type": "execute_result"
    }
   ],
   "source": [
    "corpus3.random_speaker()"
   ]
  },
  {
   "cell_type": "markdown",
   "metadata": {},
   "source": [
    "### Merging user metadata"
   ]
  },
  {
   "cell_type": "markdown",
   "metadata": {},
   "source": [
    "Notice that because Speaker 'foxtrot' had conflicting metadata, the latest utterance (i.e. the utterance in corpus2) had its Speaker metadata for 'foxtrot' take precedence. We verify this below. Note too that the other metadata key-value pair ('hello': 'world') has been added to the metadata as well."
   ]
  },
  {
   "cell_type": "code",
   "execution_count": 46,
   "metadata": {},
   "outputs": [
    {
     "data": {
      "text/plain": [
       "{'yellow': 'mood', 'hello': 'world'}"
      ]
     },
     "execution_count": 46,
     "metadata": {},
     "output_type": "execute_result"
    }
   ],
   "source": [
    "corpus3.get_speaker('foxtrot').meta"
   ]
  },
  {
   "cell_type": "markdown",
   "metadata": {},
   "source": [
    "Users were not initialized with their list of corresponding utterances / conversations. Corpus has a method for updating these Speaker lists."
   ]
  },
  {
   "cell_type": "code",
   "execution_count": 9,
   "metadata": {},
   "outputs": [
    {
     "name": "stdout",
     "output_type": "stream",
     "text": [
      "[Speaker({'obj_type': 'speaker', 'meta': {}, 'vectors': [], 'owner': <convokit.model.corpus.Corpus object at 0x7fbb118f16d0>, 'id': 'alice'}), Speaker({'obj_type': 'speaker', 'meta': {}, 'vectors': [], 'owner': <convokit.model.corpus.Corpus object at 0x7fbb118f16d0>, 'id': 'bob'}), Speaker({'obj_type': 'speaker', 'meta': {'yellow': 'mood', 'hello': 'world'}, 'vectors': [], 'owner': <convokit.model.corpus.Corpus object at 0x7fbb118f16d0>, 'id': 'foxtrot'}), Speaker({'obj_type': 'speaker', 'meta': {'what': 'a mood', 'hey': 'food'}, 'vectors': [], 'owner': <convokit.model.corpus.Corpus object at 0x7fbb118f16d0>, 'id': 'charlie'}), Speaker({'obj_type': 'speaker', 'meta': {}, 'vectors': [], 'owner': <convokit.model.corpus.Corpus object at 0x7fbb118f16d0>, 'id': 'echo'})]\n",
      "\n",
      "Number of Utterances: 1\n",
      "Number of Conversations: 1\n"
     ]
    }
   ],
   "source": [
    "print(list(corpus3.iter_speakers()))\n",
    "speaker_echo = corpus3.get_speaker('echo')\n",
    "print()\n",
    "speaker_echo.print_speaker_stats()"
   ]
  },
  {
   "cell_type": "markdown",
   "metadata": {},
   "source": [
    "### Merging Utterance and Corpus metadata "
   ]
  },
  {
   "cell_type": "markdown",
   "metadata": {},
   "source": [
    "We quickly demonstrate the Utterance and Corpus metadata merging functionality. This is all handled in the merge() function as well, we just make its effects explicit here. In addition, we encode the corpora with problematic data/metadata so that the warning functionality is explicit.\n",
    "\n",
    "(Note that if Utterances have the same id but different data, the Utterance from the other Corpus is ignored and a warning is printed, though the Speaker metadata is still kept.)"
   ]
  },
  {
   "cell_type": "markdown",
   "metadata": {},
   "source": [
    "### Corpus 4"
   ]
  },
  {
   "cell_type": "code",
   "execution_count": 49,
   "metadata": {},
   "outputs": [],
   "source": [
    "corpus4 = Corpus(utterances = [\n",
    "            Utterance(id='0', conversation_id='0', text=\"hello world\", speaker=Speaker(id=\"alice\"), meta={'in': 'wonderland'}),\n",
    "            Utterance(id='1', conversation_id='0', reply_to='0', text=\"my name is bob\", speaker=Speaker(id=\"bob\"), meta={'fu': 'bu'})\n",
    "        ])\n",
    "corpus4.add_meta('AB', 1)\n",
    "corpus4.add_meta('CD', 2)\n"
   ]
  },
  {
   "cell_type": "code",
   "execution_count": 50,
   "metadata": {},
   "outputs": [
    {
     "name": "stdout",
     "output_type": "stream",
     "text": [
      "Number of Speakers: 2\n",
      "Number of Utterances: 2\n",
      "Number of Conversations: 1\n"
     ]
    }
   ],
   "source": [
    "corpus4.print_summary_stats()"
   ]
  },
  {
   "cell_type": "markdown",
   "metadata": {},
   "source": [
    "### Corpus 5"
   ]
  },
  {
   "cell_type": "code",
   "execution_count": 51,
   "metadata": {},
   "outputs": [],
   "source": [
    "corpus5 = Corpus(utterances = [\n",
    "            Utterance(id='0', conversation_id='0', text=\"hello world\", speaker=Speaker(id=\"alice\"), meta={'in': 'the hat'}),\n",
    "            Utterance(id='1', conversation_id='0', reply_to='0', text=\"my name is bobbb\", speaker=Speaker(id=\"bob\"), meta={'barrel': 'roll'})\n",
    "        ])\n",
    "corpus5.add_meta('AB', 3)\n",
    "corpus5.add_meta('EF', 3)"
   ]
  },
  {
   "cell_type": "code",
   "execution_count": 52,
   "metadata": {},
   "outputs": [
    {
     "name": "stdout",
     "output_type": "stream",
     "text": [
      "Number of Speakers: 2\n",
      "Number of Utterances: 2\n",
      "Number of Conversations: 1\n"
     ]
    }
   ],
   "source": [
    "corpus5.print_summary_stats()"
   ]
  },
  {
   "cell_type": "code",
   "execution_count": 53,
   "metadata": {},
   "outputs": [
    {
     "name": "stdout",
     "output_type": "stream",
     "text": [
      "\u001b[91mWARNING: \u001b[0mFound conflicting values for Utterance '0' for metadata key: 'in'. Overwriting with other corpus's Utterance metadata.\n",
      "\u001b[91mWARNING: \u001b[0mUtterances with same id do not share the same data:\n",
      "Utterance(id: '1', conversation_id: 0, reply-to: 0, speaker: Speaker(id: bob, vectors: [], meta: {}), timestamp: None, text: 'my name is bob', vectors: [], meta: {'fu': 'bu'})\n",
      "Utterance(id: '1', conversation_id: 0, reply-to: 0, speaker: Speaker(id: bob, vectors: [], meta: {}), timestamp: None, text: 'my name is bobbb', vectors: [], meta: {'barrel': 'roll'})\n",
      "Ignoring second corpus's utterance.\n",
      "\u001b[91mWARNING: \u001b[0mFound conflicting values for Corpus metadata key: 'AB'. Overwriting with other Corpus's metadata.\n"
     ]
    }
   ],
   "source": [
    "corpus6 = corpus4.merge(corpus5)"
   ]
  },
  {
   "cell_type": "code",
   "execution_count": 54,
   "metadata": {},
   "outputs": [
    {
     "name": "stdout",
     "output_type": "stream",
     "text": [
      "Number of Speakers: 2\n",
      "Number of Utterances: 2\n",
      "Number of Conversations: 1\n"
     ]
    }
   ],
   "source": [
    "corpus6.print_summary_stats()"
   ]
  },
  {
   "cell_type": "code",
   "execution_count": 17,
   "metadata": {},
   "outputs": [
    {
     "data": {
      "text/plain": [
       "Utterance({'obj_type': 'utterance', 'meta': {'fu': 'bu'}, 'vectors': [], 'speaker': Speaker({'obj_type': 'speaker', 'meta': {}, 'vectors': [], 'owner': <convokit.model.corpus.Corpus object at 0x7fbb118f1b50>, 'id': 'bob'}), 'conversation_id': '0', 'reply_to': '0', 'timestamp': None, 'text': 'my name is bob', 'owner': <convokit.model.corpus.Corpus object at 0x7fbb118f1b50>, 'id': '1'})"
      ]
     },
     "execution_count": 17,
     "metadata": {},
     "output_type": "execute_result"
    }
   ],
   "source": [
    "corpus6.get_utterance('1')"
   ]
  },
  {
   "cell_type": "code",
   "execution_count": 18,
   "metadata": {},
   "outputs": [
    {
     "data": {
      "text/plain": [
       "Utterance({'obj_type': 'utterance', 'meta': {'in': 'the hat'}, 'vectors': [], 'speaker': Speaker({'obj_type': 'speaker', 'meta': {}, 'vectors': [], 'owner': <convokit.model.corpus.Corpus object at 0x7fbb118f1b50>, 'id': 'alice'}), 'conversation_id': '0', 'reply_to': None, 'timestamp': None, 'text': 'hello world', 'owner': <convokit.model.corpus.Corpus object at 0x7fbb118f1b50>, 'id': '0'})"
      ]
     },
     "execution_count": 18,
     "metadata": {},
     "output_type": "execute_result"
    }
   ],
   "source": [
    "corpus6.get_utterance('0')"
   ]
  },
  {
   "cell_type": "markdown",
   "metadata": {},
   "source": [
    "For the most part however, as long as the data is well behaved (e.g. Speaker/Utterance/Conversation/Corpus do not have different values for the same key in the metadata, Utterances with the same id have the same data) one should expect to see no warnings when using merge()."
   ]
  },
  {
   "cell_type": "code",
   "execution_count": 19,
   "metadata": {},
   "outputs": [
    {
     "data": {
      "text/plain": [
       "[Utterance({'obj_type': 'utterance', 'meta': {'in': 'the hat'}, 'vectors': [], 'speaker': Speaker({'obj_type': 'speaker', 'meta': {}, 'vectors': [], 'owner': <convokit.model.corpus.Corpus object at 0x7fbb118f1b50>, 'id': 'alice'}), 'conversation_id': '0', 'reply_to': None, 'timestamp': None, 'text': 'hello world', 'owner': <convokit.model.corpus.Corpus object at 0x7fbb118f1b50>, 'id': '0'}),\n",
       " Utterance({'obj_type': 'utterance', 'meta': {'fu': 'bu'}, 'vectors': [], 'speaker': Speaker({'obj_type': 'speaker', 'meta': {}, 'vectors': [], 'owner': <convokit.model.corpus.Corpus object at 0x7fbb118f1b50>, 'id': 'bob'}), 'conversation_id': '0', 'reply_to': '0', 'timestamp': None, 'text': 'my name is bob', 'owner': <convokit.model.corpus.Corpus object at 0x7fbb118f1b50>, 'id': '1'})]"
      ]
     },
     "execution_count": 19,
     "metadata": {},
     "output_type": "execute_result"
    }
   ],
   "source": [
    "list(list(corpus6.iter_conversations())[0].iter_utterances())"
   ]
  },
  {
   "cell_type": "code",
   "execution_count": null,
   "metadata": {},
   "outputs": [],
   "source": [
    "corpus6.dump('temp-corpus', './')"
   ]
  },
  {
   "cell_type": "code",
   "execution_count": 141,
   "metadata": {},
   "outputs": [],
   "source": [
    "corpus_1 = Corpus(\"sanskar_transformed_corpora/tr_fc(6-11)_18p_2\")"
   ]
  },
  {
   "cell_type": "code",
   "execution_count": 142,
   "metadata": {},
   "outputs": [],
   "source": [
    "corpus_2 = Corpus(\"sanskar_transformed_corpora/tr_fc(6-11)_30p_1\")"
   ]
  },
  {
   "cell_type": "code",
   "execution_count": 143,
   "metadata": {},
   "outputs": [],
   "source": [
    "corpus_3 = corpus_1.merge(corpus_2)"
   ]
  },
  {
   "cell_type": "code",
   "execution_count": 62,
   "metadata": {},
   "outputs": [],
   "source": [
    "corpus4 =  Corpus(\"sanskar_transformed_corpora/tr_fc(2-5)_30p_1\")"
   ]
  },
  {
   "cell_type": "code",
   "execution_count": 64,
   "metadata": {},
   "outputs": [],
   "source": [
    "corpus3 = corpus3.merge(corpus4)"
   ]
  },
  {
   "cell_type": "code",
   "execution_count": 147,
   "metadata": {},
   "outputs": [
    {
     "data": {
      "text/plain": [
       "Conversation({'obj_type': 'conversation', 'meta': {'hedge_count': 0.0, 'groupRef_count': 0.0, 'subjectivity_clue_count': 2.0, 'subjectivity_score': 0.6, 'negative_polarity': 0.0, 'positive_polarity': 0.497, 'neutral_polarity': 0.503, 'gratitude': 0, 'deference': 0, 'greeting': 0, 'positive_lexicon': 1, 'apologizing': 0, 'please': 0, 'insult': 0.008291881, 'identity_attack': 0.0029228306, 'toxicity': 0.014702292, 'severe_toxicity': 0.0009775162, 'profanity': 0.012277958}, 'vectors': [], 'tree': None, 'owner': <convokit.model.corpus.Corpus object at 0x0000025DF39878B0>, 'id': '7zmd8n'})"
      ]
     },
     "execution_count": 147,
     "metadata": {},
     "output_type": "execute_result"
    }
   ],
   "source": [
    "corpus3.random_conversation()"
   ]
  },
  {
   "cell_type": "markdown",
   "metadata": {},
   "source": [
    "## Merge Corpora "
   ]
  },
  {
   "cell_type": "code",
   "execution_count": null,
   "metadata": {},
   "outputs": [],
   "source": [
    "# try:\n",
    "#     with ZipFile('raw/corpora/sanskar_corpora.zip', 'r') as archive: \n",
    "#         for file in archive.namelist(): \n",
    "#             if file.startswith('corpus/fc(12-23)_27p_1/'):\n",
    "#                 archive.extract(file, 'raw/corpora/extracted_sample')\n",
    "# except Exception as e:\n",
    "#     print(e)"
   ]
  },
  {
   "cell_type": "code",
   "execution_count": 216,
   "metadata": {},
   "outputs": [],
   "source": [
    "path = Path('sanskar_transformed_corpora/')"
   ]
  },
  {
   "cell_type": "code",
   "execution_count": 217,
   "metadata": {},
   "outputs": [],
   "source": [
    "from pathlib import Path\n",
    "import os \n",
    "corpus_paths = sorted(os.listdir(path))\n",
    "corpus = Corpus(utterances=[]) # Initialize an empty corpus "
   ]
  },
  {
   "cell_type": "code",
   "execution_count": 218,
   "metadata": {},
   "outputs": [
    {
     "name": "stdout",
     "output_type": "stream",
     "text": [
      "30\n",
      "487\n",
      "415\n",
      "66\n",
      "792\n",
      "765\n",
      "1291\n",
      "1103\n",
      "188\n",
      "219\n"
     ]
    }
   ],
   "source": [
    "for corpora_name in corpus_paths:\n",
    "    reddit_corpus = Corpus(path / corpora_name)\n",
    "    print(len(reddit_corpus.get_utterances_dataframe().drop(\"vectors\", axis = 1)))\n",
    "    corpus = corpus.merge(reddit_corpus)"
   ]
  },
  {
   "cell_type": "code",
   "execution_count": 221,
   "metadata": {},
   "outputs": [],
   "source": [
    "# Demonstration of re-dumping of the transformed corpus after first batch of test\n",
    "try:\n",
    "    CORPUS_NAME = \"tr_corpus_1\"\n",
    "    OUTPUT_DIR = \"C:\\Sagar Study\\ML and Learning\\CP Sem-8\\Data\\Reddit\\saved-corpora\\sanskar_combined_corpora\"\n",
    "    corpus.dump(CORPUS_NAME, base_path=OUTPUT_DIR)\n",
    "    \n",
    "except Exception as e:\n",
    "    print(e)"
   ]
  }
 ],
 "metadata": {
  "kernelspec": {
   "display_name": "Python 3 (ipykernel)",
   "language": "python",
   "name": "python3"
  },
  "language_info": {
   "codemirror_mode": {
    "name": "ipython",
    "version": 3
   },
   "file_extension": ".py",
   "mimetype": "text/x-python",
   "name": "python",
   "nbconvert_exporter": "python",
   "pygments_lexer": "ipython3",
   "version": "3.9.7"
  }
 },
 "nbformat": 4,
 "nbformat_minor": 2
}
