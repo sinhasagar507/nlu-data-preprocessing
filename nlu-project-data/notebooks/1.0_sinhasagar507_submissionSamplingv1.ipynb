{
 "cells": [
  {
   "cell_type": "code",
   "execution_count": 1,
   "metadata": {},
   "outputs": [
    {
     "data": {
      "text/plain": [
       "'C:\\\\Sagar Study\\\\ML and Learning\\\\CP Sem-8\\\\Project-2-Overall\\\\nlu-project-prerocessing\\\\nlu-project-data\\\\notebooks'"
      ]
     },
     "execution_count": 1,
     "metadata": {},
     "output_type": "execute_result"
    }
   ],
   "source": [
    "%pwd"
   ]
  },
  {
   "cell_type": "code",
   "execution_count": 2,
   "metadata": {},
   "outputs": [
    {
     "name": "stdout",
     "output_type": "stream",
     "text": [
      "C:\\Sagar Study\\ML and Learning\\CP Sem-8\\Project-2-Overall\\nlu-project-prerocessing\\nlu-project-data\\data\n"
     ]
    }
   ],
   "source": [
    "%cd ..\\data"
   ]
  },
  {
   "cell_type": "code",
   "execution_count": 3,
   "metadata": {},
   "outputs": [
    {
     "data": {
      "text/plain": [
       "'C:\\\\Sagar Study\\\\ML and Learning\\\\CP Sem-8\\\\Project-2-Overall\\\\nlu-project-prerocessing\\\\nlu-project-data\\\\data'"
      ]
     },
     "execution_count": 3,
     "metadata": {},
     "output_type": "execute_result"
    }
   ],
   "source": [
    "%pwd"
   ]
  },
  {
   "cell_type": "code",
   "execution_count": 5,
   "metadata": {
    "id": "HyUTMReLqL9S"
   },
   "outputs": [],
   "source": [
    "import time \n",
    "import pandas as pd\n",
    "from pandas import DataFrame\n",
    "import numpy as np \n",
    "import matplotlib.pyplot as plt\n",
    "import seaborn as sns\n",
    "from IPython.display import display \n",
    "\n",
    "import warnings\n",
    "warnings.filterwarnings(\"ignore\")"
   ]
  },
  {
   "cell_type": "code",
   "execution_count": 6,
   "metadata": {},
   "outputs": [],
   "source": [
    "# OPTIONAL: Load the \"autoreload\" extension so that code can change\n",
    "%load_ext autoreload\n",
    "\n",
    "# OPTIONAL: always reload modules so that as you change code in src, it gets loaded\n",
    "%autoreload 2"
   ]
  },
  {
   "cell_type": "markdown",
   "metadata": {
    "id": "Y6MjhQLj8tNV"
   },
   "source": [
    "# Load submission data "
   ]
  },
  {
   "cell_type": "code",
   "execution_count": 8,
   "metadata": {
    "id": "SjFFzfxhq4cR"
   },
   "outputs": [],
   "source": [
    "# Load a sample data \n",
    "data = pd.read_csv(\"raw/submissions/sample_submission.csv\")"
   ]
  },
  {
   "cell_type": "markdown",
   "metadata": {
    "id": "wF9cQ5FB9DS8"
   },
   "source": [
    "# Analysis"
   ]
  },
  {
   "cell_type": "markdown",
   "metadata": {
    "id": "wweEZEb1ADxq"
   },
   "source": [
    "### Observations: \n",
    "   - The text column is mostly empty. It can be dropped.\n",
    "   - We can even remove \"flair\" AND \"permalink\" columns from our dataframe "
   ]
  },
  {
   "cell_type": "code",
   "execution_count": 9,
   "metadata": {
    "id": "oOAI5QywkeQO"
   },
   "outputs": [
    {
     "data": {
      "text/html": [
       "<div>\n",
       "<style scoped>\n",
       "    .dataframe tbody tr th:only-of-type {\n",
       "        vertical-align: middle;\n",
       "    }\n",
       "\n",
       "    .dataframe tbody tr th {\n",
       "        vertical-align: top;\n",
       "    }\n",
       "\n",
       "    .dataframe thead th {\n",
       "        text-align: right;\n",
       "    }\n",
       "</style>\n",
       "<table border=\"1\" class=\"dataframe\">\n",
       "  <thead>\n",
       "    <tr style=\"text-align: right;\">\n",
       "      <th></th>\n",
       "      <th>post_id</th>\n",
       "      <th>title</th>\n",
       "      <th>author</th>\n",
       "      <th>score</th>\n",
       "      <th>publish_date</th>\n",
       "      <th>num_comms</th>\n",
       "      <th>text</th>\n",
       "    </tr>\n",
       "  </thead>\n",
       "  <tbody>\n",
       "    <tr>\n",
       "      <th>0</th>\n",
       "      <td>7neoy8</td>\n",
       "      <td>UK: Is it just me, or do men hog space in your...</td>\n",
       "      <td>furchfur</td>\n",
       "      <td>77</td>\n",
       "      <td>2018-01-01 11:17:25</td>\n",
       "      <td>28</td>\n",
       "      <td>NaN</td>\n",
       "    </tr>\n",
       "    <tr>\n",
       "      <th>1</th>\n",
       "      <td>7nfje4</td>\n",
       "      <td>My mom is a domestic abuser but she got my dad...</td>\n",
       "      <td>and-so-on</td>\n",
       "      <td>99</td>\n",
       "      <td>2018-01-01 15:09:12</td>\n",
       "      <td>21</td>\n",
       "      <td>My mom has progressively gotten very abusive t...</td>\n",
       "    </tr>\n",
       "    <tr>\n",
       "      <th>2</th>\n",
       "      <td>7nfydm</td>\n",
       "      <td>My Mother sued me, based on false allegations,...</td>\n",
       "      <td>DerwahreKerder</td>\n",
       "      <td>71</td>\n",
       "      <td>2018-01-01 16:31:04</td>\n",
       "      <td>67</td>\n",
       "      <td>I grew up with a one year older brother in a s...</td>\n",
       "    </tr>\n",
       "    <tr>\n",
       "      <th>3</th>\n",
       "      <td>7nho5z</td>\n",
       "      <td>German Police Boss Slams NYE 'Safe Zones' for ...</td>\n",
       "      <td>DougDante</td>\n",
       "      <td>193</td>\n",
       "      <td>2018-01-01 21:13:58</td>\n",
       "      <td>68</td>\n",
       "      <td>NaN</td>\n",
       "    </tr>\n",
       "    <tr>\n",
       "      <th>4</th>\n",
       "      <td>7ni983</td>\n",
       "      <td>A textbook example of how feminists censor fac...</td>\n",
       "      <td>EricAllonde</td>\n",
       "      <td>81</td>\n",
       "      <td>2018-01-01 22:52:33</td>\n",
       "      <td>42</td>\n",
       "      <td>NaN</td>\n",
       "    </tr>\n",
       "  </tbody>\n",
       "</table>\n",
       "</div>"
      ],
      "text/plain": [
       "  post_id                                              title          author  \\\n",
       "0  7neoy8  UK: Is it just me, or do men hog space in your...        furchfur   \n",
       "1  7nfje4  My mom is a domestic abuser but she got my dad...       and-so-on   \n",
       "2  7nfydm  My Mother sued me, based on false allegations,...  DerwahreKerder   \n",
       "3  7nho5z  German Police Boss Slams NYE 'Safe Zones' for ...       DougDante   \n",
       "4  7ni983  A textbook example of how feminists censor fac...     EricAllonde   \n",
       "\n",
       "   score         publish_date  num_comms  \\\n",
       "0     77  2018-01-01 11:17:25         28   \n",
       "1     99  2018-01-01 15:09:12         21   \n",
       "2     71  2018-01-01 16:31:04         67   \n",
       "3    193  2018-01-01 21:13:58         68   \n",
       "4     81  2018-01-01 22:52:33         42   \n",
       "\n",
       "                                                text  \n",
       "0                                                NaN  \n",
       "1  My mom has progressively gotten very abusive t...  \n",
       "2  I grew up with a one year older brother in a s...  \n",
       "3                                                NaN  \n",
       "4                                                NaN  "
      ]
     },
     "execution_count": 9,
     "metadata": {},
     "output_type": "execute_result"
    }
   ],
   "source": [
    "data.head()"
   ]
  },
  {
   "cell_type": "markdown",
   "metadata": {
    "id": "4jArqQhlLHV0"
   },
   "source": [
    "**Observations**\n",
    "*  It seems that the no. of observations having \"num_comms\" >= 200 are few. We eon't consider those converations as they are quite rare and don't represent the source's popularity. "
   ]
  },
  {
   "cell_type": "code",
   "execution_count": 10,
   "metadata": {},
   "outputs": [],
   "source": [
    "# Display basic data stats \n",
    "def displayBasicStats(df: DataFrame):\n",
    "    \n",
    "    # look at data head \n",
    "    display(df.head())\n",
    "\n",
    "    # look a shape of data\n",
    "    display(df.shape)\n",
    "\n",
    "    # look at data types. Ideally look at all rows. Only look at first five here for minimal output.\n",
    "    display(df.iloc[:5,:5].dtypes)\n",
    "\n",
    "    # see if any columns have nulls. Ideally look at all rows. Only look at first five here for minimal output.\n",
    "    display(df.iloc[:5,:5].isnull().any())\n",
    "\n",
    "    # display descriptive statistics\n",
    "    display(df.describe(percentiles=[0.25,0.5,0.75,0.85,0.95,0.99]))\n"
   ]
  },
  {
   "cell_type": "code",
   "execution_count": 11,
   "metadata": {},
   "outputs": [
    {
     "data": {
      "text/html": [
       "<div>\n",
       "<style scoped>\n",
       "    .dataframe tbody tr th:only-of-type {\n",
       "        vertical-align: middle;\n",
       "    }\n",
       "\n",
       "    .dataframe tbody tr th {\n",
       "        vertical-align: top;\n",
       "    }\n",
       "\n",
       "    .dataframe thead th {\n",
       "        text-align: right;\n",
       "    }\n",
       "</style>\n",
       "<table border=\"1\" class=\"dataframe\">\n",
       "  <thead>\n",
       "    <tr style=\"text-align: right;\">\n",
       "      <th></th>\n",
       "      <th>post_id</th>\n",
       "      <th>title</th>\n",
       "      <th>author</th>\n",
       "      <th>score</th>\n",
       "      <th>publish_date</th>\n",
       "      <th>num_comms</th>\n",
       "      <th>text</th>\n",
       "    </tr>\n",
       "  </thead>\n",
       "  <tbody>\n",
       "    <tr>\n",
       "      <th>0</th>\n",
       "      <td>7neoy8</td>\n",
       "      <td>UK: Is it just me, or do men hog space in your...</td>\n",
       "      <td>furchfur</td>\n",
       "      <td>77</td>\n",
       "      <td>2018-01-01 11:17:25</td>\n",
       "      <td>28</td>\n",
       "      <td>NaN</td>\n",
       "    </tr>\n",
       "    <tr>\n",
       "      <th>1</th>\n",
       "      <td>7nfje4</td>\n",
       "      <td>My mom is a domestic abuser but she got my dad...</td>\n",
       "      <td>and-so-on</td>\n",
       "      <td>99</td>\n",
       "      <td>2018-01-01 15:09:12</td>\n",
       "      <td>21</td>\n",
       "      <td>My mom has progressively gotten very abusive t...</td>\n",
       "    </tr>\n",
       "    <tr>\n",
       "      <th>2</th>\n",
       "      <td>7nfydm</td>\n",
       "      <td>My Mother sued me, based on false allegations,...</td>\n",
       "      <td>DerwahreKerder</td>\n",
       "      <td>71</td>\n",
       "      <td>2018-01-01 16:31:04</td>\n",
       "      <td>67</td>\n",
       "      <td>I grew up with a one year older brother in a s...</td>\n",
       "    </tr>\n",
       "    <tr>\n",
       "      <th>3</th>\n",
       "      <td>7nho5z</td>\n",
       "      <td>German Police Boss Slams NYE 'Safe Zones' for ...</td>\n",
       "      <td>DougDante</td>\n",
       "      <td>193</td>\n",
       "      <td>2018-01-01 21:13:58</td>\n",
       "      <td>68</td>\n",
       "      <td>NaN</td>\n",
       "    </tr>\n",
       "    <tr>\n",
       "      <th>4</th>\n",
       "      <td>7ni983</td>\n",
       "      <td>A textbook example of how feminists censor fac...</td>\n",
       "      <td>EricAllonde</td>\n",
       "      <td>81</td>\n",
       "      <td>2018-01-01 22:52:33</td>\n",
       "      <td>42</td>\n",
       "      <td>NaN</td>\n",
       "    </tr>\n",
       "    <tr>\n",
       "      <th>...</th>\n",
       "      <td>...</td>\n",
       "      <td>...</td>\n",
       "      <td>...</td>\n",
       "      <td>...</td>\n",
       "      <td>...</td>\n",
       "      <td>...</td>\n",
       "      <td>...</td>\n",
       "    </tr>\n",
       "    <tr>\n",
       "      <th>3688</th>\n",
       "      <td>ab1u8m</td>\n",
       "      <td>What would happen, if (by law) women were comp...</td>\n",
       "      <td>JackIsThicc</td>\n",
       "      <td>1</td>\n",
       "      <td>2018-12-31 00:46:53</td>\n",
       "      <td>38</td>\n",
       "      <td>Not only would they get the benefits, but also...</td>\n",
       "    </tr>\n",
       "    <tr>\n",
       "      <th>3689</th>\n",
       "      <td>ab374x</td>\n",
       "      <td>x Feminist Amy Siskind Tries to Get a Professo...</td>\n",
       "      <td>Mens-Advocate</td>\n",
       "      <td>1</td>\n",
       "      <td>2018-12-31 03:28:11</td>\n",
       "      <td>23</td>\n",
       "      <td>NaN</td>\n",
       "    </tr>\n",
       "    <tr>\n",
       "      <th>3690</th>\n",
       "      <td>ab3m9t</td>\n",
       "      <td>Aquaman is a big step in the right direction. ...</td>\n",
       "      <td>Otter_Actual</td>\n",
       "      <td>1</td>\n",
       "      <td>2018-12-31 04:20:56</td>\n",
       "      <td>26</td>\n",
       "      <td>I know this isn't the movie subreddit, but I f...</td>\n",
       "    </tr>\n",
       "    <tr>\n",
       "      <th>3691</th>\n",
       "      <td>ab68o5</td>\n",
       "      <td>Men don't get anywhere near the support for se...</td>\n",
       "      <td>IchMagThaiReis</td>\n",
       "      <td>1</td>\n",
       "      <td>2018-12-31 11:11:09</td>\n",
       "      <td>80</td>\n",
       "      <td>NaN</td>\n",
       "    </tr>\n",
       "    <tr>\n",
       "      <th>3692</th>\n",
       "      <td>ab6gsj</td>\n",
       "      <td>High-profile feminist tried to get college to ...</td>\n",
       "      <td>IThrewAwayMyPassword</td>\n",
       "      <td>1</td>\n",
       "      <td>2018-12-31 11:50:20</td>\n",
       "      <td>38</td>\n",
       "      <td>NaN</td>\n",
       "    </tr>\n",
       "  </tbody>\n",
       "</table>\n",
       "<p>3693 rows × 7 columns</p>\n",
       "</div>"
      ],
      "text/plain": [
       "     post_id                                              title  \\\n",
       "0     7neoy8  UK: Is it just me, or do men hog space in your...   \n",
       "1     7nfje4  My mom is a domestic abuser but she got my dad...   \n",
       "2     7nfydm  My Mother sued me, based on false allegations,...   \n",
       "3     7nho5z  German Police Boss Slams NYE 'Safe Zones' for ...   \n",
       "4     7ni983  A textbook example of how feminists censor fac...   \n",
       "...      ...                                                ...   \n",
       "3688  ab1u8m  What would happen, if (by law) women were comp...   \n",
       "3689  ab374x  x Feminist Amy Siskind Tries to Get a Professo...   \n",
       "3690  ab3m9t  Aquaman is a big step in the right direction. ...   \n",
       "3691  ab68o5  Men don't get anywhere near the support for se...   \n",
       "3692  ab6gsj  High-profile feminist tried to get college to ...   \n",
       "\n",
       "                    author  score         publish_date  num_comms  \\\n",
       "0                 furchfur     77  2018-01-01 11:17:25         28   \n",
       "1                and-so-on     99  2018-01-01 15:09:12         21   \n",
       "2           DerwahreKerder     71  2018-01-01 16:31:04         67   \n",
       "3                DougDante    193  2018-01-01 21:13:58         68   \n",
       "4              EricAllonde     81  2018-01-01 22:52:33         42   \n",
       "...                    ...    ...                  ...        ...   \n",
       "3688           JackIsThicc      1  2018-12-31 00:46:53         38   \n",
       "3689         Mens-Advocate      1  2018-12-31 03:28:11         23   \n",
       "3690          Otter_Actual      1  2018-12-31 04:20:56         26   \n",
       "3691        IchMagThaiReis      1  2018-12-31 11:11:09         80   \n",
       "3692  IThrewAwayMyPassword      1  2018-12-31 11:50:20         38   \n",
       "\n",
       "                                                   text  \n",
       "0                                                   NaN  \n",
       "1     My mom has progressively gotten very abusive t...  \n",
       "2     I grew up with a one year older brother in a s...  \n",
       "3                                                   NaN  \n",
       "4                                                   NaN  \n",
       "...                                                 ...  \n",
       "3688  Not only would they get the benefits, but also...  \n",
       "3689                                                NaN  \n",
       "3690  I know this isn't the movie subreddit, but I f...  \n",
       "3691                                                NaN  \n",
       "3692                                                NaN  \n",
       "\n",
       "[3693 rows x 7 columns]"
      ]
     },
     "metadata": {},
     "output_type": "display_data"
    }
   ],
   "source": [
    "display(data)"
   ]
  },
  {
   "cell_type": "code",
   "execution_count": 12,
   "metadata": {},
   "outputs": [],
   "source": [
    "data = data.set_index(\"post_id\")"
   ]
  },
  {
   "cell_type": "code",
   "execution_count": 13,
   "metadata": {},
   "outputs": [
    {
     "data": {
      "text/plain": [
       "<AxesSubplot:xlabel='num_comms', ylabel='Count'>"
      ]
     },
     "execution_count": 13,
     "metadata": {},
     "output_type": "execute_result"
    },
    {
     "data": {
      "image/png": "[encoded data removed]",
      "text/plain": [
       "<Figure size 432x288 with 1 Axes>"
      ]
     },
     "metadata": {
      "needs_background": "light"
     },
     "output_type": "display_data"
    }
   ],
   "source": [
    "data = data[data[\"num_comms\"] > 0]\n",
    "sns.histplot(data[\"num_comms\"], binwidth = 50)"
   ]
  },
  {
   "cell_type": "markdown",
   "metadata": {},
   "source": [
    "There are almost negligible submissions with no. of comments >= 250 "
   ]
  },
  {
   "cell_type": "code",
   "execution_count": 14,
   "metadata": {},
   "outputs": [
    {
     "data": {
      "text/plain": [
       "<AxesSubplot:xlabel='num_comms', ylabel='Count'>"
      ]
     },
     "execution_count": 14,
     "metadata": {},
     "output_type": "execute_result"
    },
    {
     "data": {
      "image/png": "[encoded data removed]",
      "text/plain": [
       "<Figure size 432x288 with 1 Axes>"
      ]
     },
     "metadata": {
      "needs_background": "light"
     },
     "output_type": "display_data"
    }
   ],
   "source": [
    "data = data[data[\"num_comms\"] <= 250]\n",
    "sns.histplot(data[\"num_comms\"])"
   ]
  },
  {
   "cell_type": "markdown",
   "metadata": {},
   "source": [
    "We filter for submissions with less than or equal to 100 comments"
   ]
  },
  {
   "cell_type": "code",
   "execution_count": 15,
   "metadata": {},
   "outputs": [
    {
     "data": {
      "text/plain": [
       "<AxesSubplot:xlabel='num_comms', ylabel='Count'>"
      ]
     },
     "execution_count": 15,
     "metadata": {},
     "output_type": "execute_result"
    },
    {
     "data": {
      "image/png": "[encoded data removed]",
      "text/plain": [
       "<Figure size 432x288 with 1 Axes>"
      ]
     },
     "metadata": {
      "needs_background": "light"
     },
     "output_type": "display_data"
    }
   ],
   "source": [
    "data = data[data[\"num_comms\"] <= 100]\n",
    "sns.histplot(data[\"num_comms\"])"
   ]
  },
  {
   "cell_type": "markdown",
   "metadata": {},
   "source": [
    "Now we have a appreciable distribution. We can take the median count and proceed "
   ]
  },
  {
   "cell_type": "code",
   "execution_count": 16,
   "metadata": {
    "colab": {
     "base_uri": "https://localhost:8080/"
    },
    "id": "kI2oNmvuEvdg",
    "outputId": "189a416b-6c46-4fcf-a849-4867d5b89595"
   },
   "outputs": [],
   "source": [
    "def data_sample(median_num_of_comms: float, df: DataFrame) -> DataFrame:\n",
    "    \"\"\"\n",
    "    Returns: The sub-sampled dataframe consisting of 200 submissions \n",
    "    \n",
    "    \"\"\"\n",
    "    left_bound = median_num_of_comms - 2 * np.std(data[\"num_comms\"])    \n",
    "    right_bound = median_num_of_comms  + 2 * np.std(data[\"num_comms\"])\n",
    "    \n",
    "    left_bound = round(left_bound/10) * 10      # round off left and right bounds to the nearest 10 \n",
    "    right_bound = round(right_bound/10) * 10 \n",
    "    \n",
    "    if left_bound < 0:\n",
    "        left_bound = 0\n",
    "        \n",
    "\n",
    "    data_sample = df[(df[\"num_comms\"] >= left_bound) & (df[\"num_comms\"] <= right_bound)]\n",
    "    data_left_bound = data_sample[data_sample[\"num_comms\"] <= median_num_of_comms]\n",
    "    data_right_bound = data_sample[data_sample[\"num_comms\"] >= median_num_of_comms]\n",
    "    \n",
    "    return data_left_bound, data_right_bound \n",
    "\n",
    "def sample_sub_ids(data_left_bound: DataFrame, data_right_bound: DataFrame):\n",
    "    \"\"\"\n",
    "    Returns: A list of randomly sampled submission Ids from left and right bounds \n",
    "    \n",
    "    \"\"\"\n",
    "    \n",
    "    random_left_ids = list(np.random.choice(data_left_bound.index, size = 100, replace = False))\n",
    "    random_right_ids = list(np.random.choice(data_right_bound.index, size = 100, replace = False))\n",
    "                        \n",
    "    random_sub_ids = []\n",
    "    random_sub_ids = random_left_ids + random_right_ids \n",
    "    return random_sub_ids "
   ]
  },
  {
   "cell_type": "code",
   "execution_count": 17,
   "metadata": {},
   "outputs": [],
   "source": [
    "data_left, data_right = data_sample(data[\"num_comms\"].quantile(0.5), data)\n",
    "random_sub_ids = sample_sub_ids(data_left, data_right)"
   ]
  },
  {
   "cell_type": "code",
   "execution_count": 18,
   "metadata": {},
   "outputs": [],
   "source": [
    "data_sub_sample = data.loc[random_sub_ids]  # Select the dataset sub-sample for the submission IDs in random_sub_ids"
   ]
  },
  {
   "cell_type": "code",
   "execution_count": 19,
   "metadata": {},
   "outputs": [],
   "source": [
    "def modify_cols(df: DataFrame): \n",
    "    df[\"reply_to\"] = \"None\"\n",
    "    df[\"conversation_id\"] = df.index\n",
    "    \n",
    "    # Rename some column names as per CONVOKIT requirement \n",
    "    rename_cols = {\"title\": \"text\", \"author\": \"speaker\", \"publish_date\": \"timestamp\"}\n",
    "    df.rename(columns = rename_cols, inplace = True)\n",
    "    df[\"reply_to\"] = \"None\" \n",
    "    \n",
    "    return df "
   ]
  },
  {
   "cell_type": "code",
   "execution_count": 21,
   "metadata": {},
   "outputs": [],
   "source": [
    "data_sub_sample = modify_cols(data_sub_sample)"
   ]
  },
  {
   "cell_type": "code",
   "execution_count": 22,
   "metadata": {},
   "outputs": [
    {
     "data": {
      "text/html": [
       "<div>\n",
       "<style scoped>\n",
       "    .dataframe tbody tr th:only-of-type {\n",
       "        vertical-align: middle;\n",
       "    }\n",
       "\n",
       "    .dataframe tbody tr th {\n",
       "        vertical-align: top;\n",
       "    }\n",
       "\n",
       "    .dataframe thead th {\n",
       "        text-align: right;\n",
       "    }\n",
       "</style>\n",
       "<table border=\"1\" class=\"dataframe\">\n",
       "  <thead>\n",
       "    <tr style=\"text-align: right;\">\n",
       "      <th></th>\n",
       "      <th>text</th>\n",
       "      <th>speaker</th>\n",
       "      <th>score</th>\n",
       "      <th>timestamp</th>\n",
       "      <th>num_comms</th>\n",
       "      <th>text</th>\n",
       "      <th>reply_to</th>\n",
       "      <th>conversation_id</th>\n",
       "    </tr>\n",
       "    <tr>\n",
       "      <th>post_id</th>\n",
       "      <th></th>\n",
       "      <th></th>\n",
       "      <th></th>\n",
       "      <th></th>\n",
       "      <th></th>\n",
       "      <th></th>\n",
       "      <th></th>\n",
       "      <th></th>\n",
       "    </tr>\n",
       "  </thead>\n",
       "  <tbody>\n",
       "    <tr>\n",
       "      <th>8sskc5</th>\n",
       "      <td>Should I say anything?</td>\n",
       "      <td>J3NA</td>\n",
       "      <td>45</td>\n",
       "      <td>2018-06-21 15:01:34</td>\n",
       "      <td>30</td>\n",
       "      <td>Hi!\\n\\nMy son's school has a document manager ...</td>\n",
       "      <td>None</td>\n",
       "      <td>8sskc5</td>\n",
       "    </tr>\n",
       "    <tr>\n",
       "      <th>9bias7</th>\n",
       "      <td>Yet Another Report Shows Teen Girls Are More P...</td>\n",
       "      <td>Imnotmrabut</td>\n",
       "      <td>242</td>\n",
       "      <td>2018-08-30 10:02:17</td>\n",
       "      <td>26</td>\n",
       "      <td>NaN</td>\n",
       "      <td>None</td>\n",
       "      <td>9bias7</td>\n",
       "    </tr>\n",
       "    <tr>\n",
       "      <th>8ampfv</th>\n",
       "      <td>Sexual assault on men is a-okay for many!</td>\n",
       "      <td>WTFOMGBBQ</td>\n",
       "      <td>65</td>\n",
       "      <td>2018-04-08 01:17:57</td>\n",
       "      <td>23</td>\n",
       "      <td>Today, on a closed group nutrition/diet page o...</td>\n",
       "      <td>None</td>\n",
       "      <td>8ampfv</td>\n",
       "    </tr>\n",
       "    <tr>\n",
       "      <th>982frn</th>\n",
       "      <td>It isn't erect because we are aroused.</td>\n",
       "      <td>hustlemuscleracing</td>\n",
       "      <td>70</td>\n",
       "      <td>2018-08-17 13:52:53</td>\n",
       "      <td>32</td>\n",
       "      <td>Okay, I need to get something off my chest tha...</td>\n",
       "      <td>None</td>\n",
       "      <td>982frn</td>\n",
       "    </tr>\n",
       "    <tr>\n",
       "      <th>97iwn4</th>\n",
       "      <td>Noticed this in my news feed. Suffice to say I...</td>\n",
       "      <td>AngryCockOfJustice</td>\n",
       "      <td>6</td>\n",
       "      <td>2018-08-15 14:56:03</td>\n",
       "      <td>22</td>\n",
       "      <td>NaN</td>\n",
       "      <td>None</td>\n",
       "      <td>97iwn4</td>\n",
       "    </tr>\n",
       "    <tr>\n",
       "      <th>...</th>\n",
       "      <td>...</td>\n",
       "      <td>...</td>\n",
       "      <td>...</td>\n",
       "      <td>...</td>\n",
       "      <td>...</td>\n",
       "      <td>...</td>\n",
       "      <td>...</td>\n",
       "      <td>...</td>\n",
       "    </tr>\n",
       "    <tr>\n",
       "      <th>a8fmg0</th>\n",
       "      <td>2 boys almost bled to death in botched circumc...</td>\n",
       "      <td>ShaidarHaran2</td>\n",
       "      <td>1</td>\n",
       "      <td>2018-12-21 23:28:47</td>\n",
       "      <td>37</td>\n",
       "      <td>NaN</td>\n",
       "      <td>None</td>\n",
       "      <td>a8fmg0</td>\n",
       "    </tr>\n",
       "    <tr>\n",
       "      <th>7ni983</th>\n",
       "      <td>A textbook example of how feminists censor fac...</td>\n",
       "      <td>EricAllonde</td>\n",
       "      <td>81</td>\n",
       "      <td>2018-01-01 22:52:33</td>\n",
       "      <td>42</td>\n",
       "      <td>NaN</td>\n",
       "      <td>None</td>\n",
       "      <td>7ni983</td>\n",
       "    </tr>\n",
       "    <tr>\n",
       "      <th>95c53g</th>\n",
       "      <td>\"imagine believing misandry is a real thing\"</td>\n",
       "      <td>jonese1234</td>\n",
       "      <td>290</td>\n",
       "      <td>2018-08-07 14:32:49</td>\n",
       "      <td>45</td>\n",
       "      <td>NaN</td>\n",
       "      <td>None</td>\n",
       "      <td>95c53g</td>\n",
       "    </tr>\n",
       "    <tr>\n",
       "      <th>8hd51u</th>\n",
       "      <td>Increase in Suicides in the US; article dismis...</td>\n",
       "      <td>iRyan23</td>\n",
       "      <td>481</td>\n",
       "      <td>2018-05-06 05:16:24</td>\n",
       "      <td>44</td>\n",
       "      <td>NaN</td>\n",
       "      <td>None</td>\n",
       "      <td>8hd51u</td>\n",
       "    </tr>\n",
       "    <tr>\n",
       "      <th>aary14</th>\n",
       "      <td>I need some advice. :-)</td>\n",
       "      <td>amarte2317616</td>\n",
       "      <td>1</td>\n",
       "      <td>2018-12-30 02:47:01</td>\n",
       "      <td>51</td>\n",
       "      <td>I am a male 5th- and 6th-grade school teacher ...</td>\n",
       "      <td>None</td>\n",
       "      <td>aary14</td>\n",
       "    </tr>\n",
       "  </tbody>\n",
       "</table>\n",
       "<p>200 rows × 8 columns</p>\n",
       "</div>"
      ],
      "text/plain": [
       "                                                      text  \\\n",
       "post_id                                                      \n",
       "8sskc5                              Should I say anything?   \n",
       "9bias7   Yet Another Report Shows Teen Girls Are More P...   \n",
       "8ampfv           Sexual assault on men is a-okay for many!   \n",
       "982frn              It isn't erect because we are aroused.   \n",
       "97iwn4   Noticed this in my news feed. Suffice to say I...   \n",
       "...                                                    ...   \n",
       "a8fmg0   2 boys almost bled to death in botched circumc...   \n",
       "7ni983   A textbook example of how feminists censor fac...   \n",
       "95c53g        \"imagine believing misandry is a real thing\"   \n",
       "8hd51u   Increase in Suicides in the US; article dismis...   \n",
       "aary14                             I need some advice. :-)   \n",
       "\n",
       "                    speaker  score            timestamp  num_comms  \\\n",
       "post_id                                                              \n",
       "8sskc5                 J3NA     45  2018-06-21 15:01:34         30   \n",
       "9bias7          Imnotmrabut    242  2018-08-30 10:02:17         26   \n",
       "8ampfv            WTFOMGBBQ     65  2018-04-08 01:17:57         23   \n",
       "982frn   hustlemuscleracing     70  2018-08-17 13:52:53         32   \n",
       "97iwn4   AngryCockOfJustice      6  2018-08-15 14:56:03         22   \n",
       "...                     ...    ...                  ...        ...   \n",
       "a8fmg0        ShaidarHaran2      1  2018-12-21 23:28:47         37   \n",
       "7ni983          EricAllonde     81  2018-01-01 22:52:33         42   \n",
       "95c53g           jonese1234    290  2018-08-07 14:32:49         45   \n",
       "8hd51u              iRyan23    481  2018-05-06 05:16:24         44   \n",
       "aary14        amarte2317616      1  2018-12-30 02:47:01         51   \n",
       "\n",
       "                                                      text reply_to  \\\n",
       "post_id                                                               \n",
       "8sskc5   Hi!\\n\\nMy son's school has a document manager ...     None   \n",
       "9bias7                                                 NaN     None   \n",
       "8ampfv   Today, on a closed group nutrition/diet page o...     None   \n",
       "982frn   Okay, I need to get something off my chest tha...     None   \n",
       "97iwn4                                                 NaN     None   \n",
       "...                                                    ...      ...   \n",
       "a8fmg0                                                 NaN     None   \n",
       "7ni983                                                 NaN     None   \n",
       "95c53g                                                 NaN     None   \n",
       "8hd51u                                                 NaN     None   \n",
       "aary14   I am a male 5th- and 6th-grade school teacher ...     None   \n",
       "\n",
       "        conversation_id  \n",
       "post_id                  \n",
       "8sskc5           8sskc5  \n",
       "9bias7           9bias7  \n",
       "8ampfv           8ampfv  \n",
       "982frn           982frn  \n",
       "97iwn4           97iwn4  \n",
       "...                 ...  \n",
       "a8fmg0           a8fmg0  \n",
       "7ni983           7ni983  \n",
       "95c53g           95c53g  \n",
       "8hd51u           8hd51u  \n",
       "aary14           aary14  \n",
       "\n",
       "[200 rows x 8 columns]"
      ]
     },
     "metadata": {},
     "output_type": "display_data"
    }
   ],
   "source": [
    "display(data_sub_sample)"
   ]
  },
  {
   "cell_type": "code",
   "execution_count": 23,
   "metadata": {},
   "outputs": [],
   "source": [
    "# Save the dataframe \n",
    "data.to_csv(\"processed/submissions/sample_data.csv\")"
   ]
  }
 ],
 "metadata": {
  "colab": {
   "name": "1.0_reddit_Analysis.ipynb",
   "provenance": []
  },
  "kernelspec": {
   "display_name": "Python 3 (ipykernel)",
   "language": "python",
   "name": "python3"
  },
  "language_info": {
   "codemirror_mode": {
    "name": "ipython",
    "version": 3
   },
   "file_extension": ".py",
   "mimetype": "text/x-python",
   "name": "python",
   "nbconvert_exporter": "python",
   "pygments_lexer": "ipython3",
   "version": "3.9.7"
  }
 },
 "nbformat": 4,
 "nbformat_minor": 1
}
